{
 "cells": [
  {
   "cell_type": "code",
   "execution_count": 2,
   "metadata": {},
   "outputs": [],
   "source": [
    "import seaborn as sns\n",
    "import matplotlib.pyplot as plt\n",
    " \n",
    "import pandas as pd\n",
    "import numpy as np\n",
    " \n",
    "from sklearn.impute import SimpleImputer\n",
    "from sklearn.pipeline import Pipeline\n",
    "\n",
    "from numpy import absolute\n",
    "from sklearn.model_selection import (RepeatedKFold, cross_val_score,\n",
    "                              train_test_split, GridSearchCV,GridSearchCV)\n",
    "\n",
    "\n",
    "from sklearn.linear_model import LinearRegression\n",
    "from sklearn.compose import ColumnTransformer\n",
    "from sklearn.ensemble import RandomForestRegressor\n",
    "\n",
    "from sklearn.preprocessing import (\n",
    "    StandardScaler,\n",
    "    RobustScaler,\n",
    "    LabelEncoder,\n",
    "    OneHotEncoder,\n",
    ")\n",
    "\n",
    "from sklearn import set_config\n",
    "set_config(display='diagram')\n"
   ]
  },
  {
   "cell_type": "code",
   "execution_count": null,
   "metadata": {},
   "outputs": [],
   "source": []
  },
  {
   "cell_type": "markdown",
   "metadata": {},
   "source": [
    "<p style=\"align: center;\"><img align=center src=\"Images/TablesMap.PNG\"  width=900></p>\n",
    "<h3 style=\"text-align: center;\"><b>«Схема базы данных»</b></h3>\n"
   ]
  },
  {
   "cell_type": "markdown",
   "metadata": {},
   "source": [
    "* Classifiers  -  **Справочник тематик, к которым относятся задания диагностик ученика**\n",
    "* DiagnosticResultDetails - **Результаты контрольных по заданиям**\n",
    "* DiagnosticResults - **Результаты контрольных работ**\n",
    "* EgeResultDetails - **Результаты ЕГЭ по заданиям**\n",
    "* EgeResults - **Результаты ЕГЭ**\n",
    "* MedalistResults - **Победители олимпиад и медалисты**\n",
    "* MedalistSubjects - **Предметы, по которым ученик победил в олимпиадах**\n",
    "* Participants - **Ученики**\n",
    "* SelfDiagnosticResultDetails - **Результаты самопроверок**\n",
    "* SelfDiagnosticResults - **Результаты самопроверок по заданиям**\n",
    "* Subjects - **Cправочник предметов**"
   ]
  },
  {
   "cell_type": "markdown",
   "metadata": {},
   "source": [
    "# Participants"
   ]
  },
  {
   "cell_type": "code",
   "execution_count": 17,
   "metadata": {},
   "outputs": [
    {
     "name": "stdout",
     "output_type": "stream",
     "text": [
      "Index(['Parallel', 'OOCode', 'ParticipantId'], dtype='object')\n",
      "1415 Учеников\n"
     ]
    },
    {
     "data": {
      "text/html": [
       "<div>\n",
       "<style scoped>\n",
       "    .dataframe tbody tr th:only-of-type {\n",
       "        vertical-align: middle;\n",
       "    }\n",
       "\n",
       "    .dataframe tbody tr th {\n",
       "        vertical-align: top;\n",
       "    }\n",
       "\n",
       "    .dataframe thead th {\n",
       "        text-align: right;\n",
       "    }\n",
       "</style>\n",
       "<table border=\"1\" class=\"dataframe\">\n",
       "  <thead>\n",
       "    <tr style=\"text-align: right;\">\n",
       "      <th></th>\n",
       "      <th>Parallel</th>\n",
       "      <th>OOCode</th>\n",
       "      <th>ParticipantId</th>\n",
       "    </tr>\n",
       "  </thead>\n",
       "  <tbody>\n",
       "    <tr>\n",
       "      <th>0</th>\n",
       "      <td>11</td>\n",
       "      <td>3780C152-032D-4309-A14B-1CDA80A5274F</td>\n",
       "      <td>0024D81B-E86A-4B78-8835-05268B3AE4A2</td>\n",
       "    </tr>\n",
       "    <tr>\n",
       "      <th>1</th>\n",
       "      <td>11</td>\n",
       "      <td>DD91D136-D252-467F-B861-CBB5FEF325D9</td>\n",
       "      <td>0028C3A9-740B-4639-B569-73E068A69508</td>\n",
       "    </tr>\n",
       "    <tr>\n",
       "      <th>2</th>\n",
       "      <td>11</td>\n",
       "      <td>97A8C70B-9998-42AD-9486-FEFD0C03FDD3</td>\n",
       "      <td>003B37F1-E178-4A82-A4D3-8F7151E2E572</td>\n",
       "    </tr>\n",
       "    <tr>\n",
       "      <th>3</th>\n",
       "      <td>11</td>\n",
       "      <td>D9152E16-A560-484D-A333-86AAFA22DB3F</td>\n",
       "      <td>004F34A9-67D5-420F-8A83-067B7EF91A78</td>\n",
       "    </tr>\n",
       "    <tr>\n",
       "      <th>4</th>\n",
       "      <td>11</td>\n",
       "      <td>71FFAE39-798B-4291-B70B-5202B8A38CBC</td>\n",
       "      <td>005827FF-3C8C-46CE-8EAD-A8C3BD26AADC</td>\n",
       "    </tr>\n",
       "  </tbody>\n",
       "</table>\n",
       "</div>"
      ],
      "text/plain": [
       "   Parallel                                OOCode  \\\n",
       "0        11  3780C152-032D-4309-A14B-1CDA80A5274F   \n",
       "1        11  DD91D136-D252-467F-B861-CBB5FEF325D9   \n",
       "2        11  97A8C70B-9998-42AD-9486-FEFD0C03FDD3   \n",
       "3        11  D9152E16-A560-484D-A333-86AAFA22DB3F   \n",
       "4        11  71FFAE39-798B-4291-B70B-5202B8A38CBC   \n",
       "\n",
       "                          ParticipantId  \n",
       "0  0024D81B-E86A-4B78-8835-05268B3AE4A2  \n",
       "1  0028C3A9-740B-4639-B569-73E068A69508  \n",
       "2  003B37F1-E178-4A82-A4D3-8F7151E2E572  \n",
       "3  004F34A9-67D5-420F-8A83-067B7EF91A78  \n",
       "4  005827FF-3C8C-46CE-8EAD-A8C3BD26AADC  "
      ]
     },
     "execution_count": 17,
     "metadata": {},
     "output_type": "execute_result"
    }
   ],
   "source": [
    "#Код тематики\n",
    "#Name Название тематики\n",
    "#Parallel Параллель тематики\n",
    "#SubjectId  Id предмета тематики\n",
    "\n",
    "Participants = pd.read_csv('hackathon_valid_data/Participants.csv', sep=',')\n",
    "Participants.drop(columns ='Partition', inplace=True, axis=1)\n",
    "Participants.rename(columns = {'Id':\"ParticipantId\"}, inplace=True)\n",
    "print(Participants.columns)\n",
    "print(Participants.ParticipantId.nunique(), 'Учеников')\n",
    "Participants.head(5)"
   ]
  },
  {
   "cell_type": "markdown",
   "metadata": {},
   "source": [
    "# EgeResults"
   ]
  },
  {
   "cell_type": "code",
   "execution_count": 18,
   "metadata": {},
   "outputs": [
    {
     "name": "stdout",
     "output_type": "stream",
     "text": [
      "Index(['ParticipantId', 'DateExam', 'MarkPercent', 'SubjectId'], dtype='object')\n",
      "(4821, 4)\n"
     ]
    },
    {
     "data": {
      "text/html": [
       "<div>\n",
       "<style scoped>\n",
       "    .dataframe tbody tr th:only-of-type {\n",
       "        vertical-align: middle;\n",
       "    }\n",
       "\n",
       "    .dataframe tbody tr th {\n",
       "        vertical-align: top;\n",
       "    }\n",
       "\n",
       "    .dataframe thead th {\n",
       "        text-align: right;\n",
       "    }\n",
       "</style>\n",
       "<table border=\"1\" class=\"dataframe\">\n",
       "  <thead>\n",
       "    <tr style=\"text-align: right;\">\n",
       "      <th></th>\n",
       "      <th>ParticipantId</th>\n",
       "      <th>DateExam</th>\n",
       "      <th>MarkPercent</th>\n",
       "      <th>SubjectId</th>\n",
       "    </tr>\n",
       "  </thead>\n",
       "  <tbody>\n",
       "    <tr>\n",
       "      <th>0</th>\n",
       "      <td>FB18BA15-0699-47CD-8346-DDA81643CD39</td>\n",
       "      <td>2020-07-10</td>\n",
       "      <td>87</td>\n",
       "      <td>49</td>\n",
       "    </tr>\n",
       "    <tr>\n",
       "      <th>1</th>\n",
       "      <td>E8B2DBBD-A7D3-4ABA-82A4-FB8E3DBC3194</td>\n",
       "      <td>2020-07-10</td>\n",
       "      <td>46</td>\n",
       "      <td>49</td>\n",
       "    </tr>\n",
       "    <tr>\n",
       "      <th>2</th>\n",
       "      <td>4B72588C-D517-4111-B38A-2CBFD5B70950</td>\n",
       "      <td>2020-07-13</td>\n",
       "      <td>1</td>\n",
       "      <td>77</td>\n",
       "    </tr>\n",
       "    <tr>\n",
       "      <th>3</th>\n",
       "      <td>892EA6DC-EDA4-49F8-AB16-A9BD742F1740</td>\n",
       "      <td>2020-07-20</td>\n",
       "      <td>81</td>\n",
       "      <td>9</td>\n",
       "    </tr>\n",
       "    <tr>\n",
       "      <th>4</th>\n",
       "      <td>62B38081-A0E4-401B-983B-2383F3B7FE78</td>\n",
       "      <td>2020-07-10</td>\n",
       "      <td>18</td>\n",
       "      <td>49</td>\n",
       "    </tr>\n",
       "  </tbody>\n",
       "</table>\n",
       "</div>"
      ],
      "text/plain": [
       "                          ParticipantId    DateExam  MarkPercent  SubjectId\n",
       "0  FB18BA15-0699-47CD-8346-DDA81643CD39  2020-07-10           87         49\n",
       "1  E8B2DBBD-A7D3-4ABA-82A4-FB8E3DBC3194  2020-07-10           46         49\n",
       "2  4B72588C-D517-4111-B38A-2CBFD5B70950  2020-07-13            1         77\n",
       "3  892EA6DC-EDA4-49F8-AB16-A9BD742F1740  2020-07-20           81          9\n",
       "4  62B38081-A0E4-401B-983B-2383F3B7FE78  2020-07-10           18         49"
      ]
     },
     "execution_count": 18,
     "metadata": {},
     "output_type": "execute_result"
    }
   ],
   "source": [
    "EgeResults = pd.read_csv('hackathon_valid_data/EgeResults.csv', sep=',')\n",
    "EgeResults.drop(columns =['Partition', 'Id'], inplace=True, axis=1)\n",
    "print(EgeResults.columns)\n",
    "print(EgeResults.shape)\n",
    "EgeResults.head(5)"
   ]
  },
  {
   "cell_type": "code",
   "execution_count": 19,
   "metadata": {},
   "outputs": [],
   "source": [
    "# EgeResults.merge(Participants, how='ianner', on='ParticipantId').shape"
   ]
  },
  {
   "cell_type": "code",
   "execution_count": 20,
   "metadata": {},
   "outputs": [
    {
     "name": "stdout",
     "output_type": "stream",
     "text": [
      "До (1415, 3) После (4821, 6)\n",
      "Index(['ParticipantId', 'DateExam', 'MarkPercent', 'SubjectId', 'Parallel',\n",
      "       'OOCode'],\n",
      "      dtype='object')\n"
     ]
    },
    {
     "data": {
      "text/html": [
       "<div>\n",
       "<style scoped>\n",
       "    .dataframe tbody tr th:only-of-type {\n",
       "        vertical-align: middle;\n",
       "    }\n",
       "\n",
       "    .dataframe tbody tr th {\n",
       "        vertical-align: top;\n",
       "    }\n",
       "\n",
       "    .dataframe thead th {\n",
       "        text-align: right;\n",
       "    }\n",
       "</style>\n",
       "<table border=\"1\" class=\"dataframe\">\n",
       "  <thead>\n",
       "    <tr style=\"text-align: right;\">\n",
       "      <th></th>\n",
       "      <th>ParticipantId</th>\n",
       "      <th>DateExam</th>\n",
       "      <th>MarkPercent</th>\n",
       "      <th>SubjectId</th>\n",
       "      <th>Parallel</th>\n",
       "      <th>OOCode</th>\n",
       "    </tr>\n",
       "  </thead>\n",
       "  <tbody>\n",
       "    <tr>\n",
       "      <th>0</th>\n",
       "      <td>FB18BA15-0699-47CD-8346-DDA81643CD39</td>\n",
       "      <td>2020-07-10</td>\n",
       "      <td>87</td>\n",
       "      <td>49</td>\n",
       "      <td>11</td>\n",
       "      <td>B8FE2712-B51A-4D47-B0E9-B679BA4CC5E9</td>\n",
       "    </tr>\n",
       "    <tr>\n",
       "      <th>1</th>\n",
       "      <td>E8B2DBBD-A7D3-4ABA-82A4-FB8E3DBC3194</td>\n",
       "      <td>2020-07-10</td>\n",
       "      <td>46</td>\n",
       "      <td>49</td>\n",
       "      <td>11</td>\n",
       "      <td>9B6BA432-DCE2-4ECF-9A86-2B9350634A17</td>\n",
       "    </tr>\n",
       "    <tr>\n",
       "      <th>2</th>\n",
       "      <td>4B72588C-D517-4111-B38A-2CBFD5B70950</td>\n",
       "      <td>2020-07-13</td>\n",
       "      <td>1</td>\n",
       "      <td>77</td>\n",
       "      <td>11</td>\n",
       "      <td>FDE67AB3-7330-4C39-AFA9-BA2FB8D6D91A</td>\n",
       "    </tr>\n",
       "  </tbody>\n",
       "</table>\n",
       "</div>"
      ],
      "text/plain": [
       "                          ParticipantId    DateExam  MarkPercent  SubjectId  \\\n",
       "0  FB18BA15-0699-47CD-8346-DDA81643CD39  2020-07-10           87         49   \n",
       "1  E8B2DBBD-A7D3-4ABA-82A4-FB8E3DBC3194  2020-07-10           46         49   \n",
       "2  4B72588C-D517-4111-B38A-2CBFD5B70950  2020-07-13            1         77   \n",
       "\n",
       "   Parallel                                OOCode  \n",
       "0        11  B8FE2712-B51A-4D47-B0E9-B679BA4CC5E9  \n",
       "1        11  9B6BA432-DCE2-4ECF-9A86-2B9350634A17  \n",
       "2        11  FDE67AB3-7330-4C39-AFA9-BA2FB8D6D91A  "
      ]
     },
     "execution_count": 20,
     "metadata": {},
     "output_type": "execute_result"
    }
   ],
   "source": [
    "DATA = EgeResults.merge(Participants, how='left', on='ParticipantId')\n",
    "print('До',Participants.shape, 'После', DATA.shape)\n",
    "print(DATA.columns)\n",
    "DATA.head(3)"
   ]
  },
  {
   "cell_type": "code",
   "execution_count": 21,
   "metadata": {},
   "outputs": [
    {
     "data": {
      "text/html": [
       "<div>\n",
       "<style scoped>\n",
       "    .dataframe tbody tr th:only-of-type {\n",
       "        vertical-align: middle;\n",
       "    }\n",
       "\n",
       "    .dataframe tbody tr th {\n",
       "        vertical-align: top;\n",
       "    }\n",
       "\n",
       "    .dataframe thead th {\n",
       "        text-align: right;\n",
       "    }\n",
       "</style>\n",
       "<table border=\"1\" class=\"dataframe\">\n",
       "  <thead>\n",
       "    <tr style=\"text-align: right;\">\n",
       "      <th></th>\n",
       "      <th>ParticipantId</th>\n",
       "      <th>DateExam</th>\n",
       "      <th>MarkPercent</th>\n",
       "      <th>SubjectId</th>\n",
       "      <th>Parallel</th>\n",
       "      <th>OOCode</th>\n",
       "      <th>Mark_school_mean</th>\n",
       "      <th>Mark_school_std</th>\n",
       "      <th>Mark_school_count</th>\n",
       "    </tr>\n",
       "  </thead>\n",
       "  <tbody>\n",
       "    <tr>\n",
       "      <th>0</th>\n",
       "      <td>FB18BA15-0699-47CD-8346-DDA81643CD39</td>\n",
       "      <td>2020-07-10</td>\n",
       "      <td>87</td>\n",
       "      <td>49</td>\n",
       "      <td>11</td>\n",
       "      <td>B8FE2712-B51A-4D47-B0E9-B679BA4CC5E9</td>\n",
       "      <td>62.000000</td>\n",
       "      <td>16.502525</td>\n",
       "      <td>7</td>\n",
       "    </tr>\n",
       "    <tr>\n",
       "      <th>1</th>\n",
       "      <td>E8B2DBBD-A7D3-4ABA-82A4-FB8E3DBC3194</td>\n",
       "      <td>2020-07-10</td>\n",
       "      <td>46</td>\n",
       "      <td>49</td>\n",
       "      <td>11</td>\n",
       "      <td>9B6BA432-DCE2-4ECF-9A86-2B9350634A17</td>\n",
       "      <td>50.833333</td>\n",
       "      <td>10.980285</td>\n",
       "      <td>6</td>\n",
       "    </tr>\n",
       "    <tr>\n",
       "      <th>2</th>\n",
       "      <td>4B72588C-D517-4111-B38A-2CBFD5B70950</td>\n",
       "      <td>2020-07-13</td>\n",
       "      <td>1</td>\n",
       "      <td>77</td>\n",
       "      <td>11</td>\n",
       "      <td>FDE67AB3-7330-4C39-AFA9-BA2FB8D6D91A</td>\n",
       "      <td>44.000000</td>\n",
       "      <td>42.508823</td>\n",
       "      <td>3</td>\n",
       "    </tr>\n",
       "    <tr>\n",
       "      <th>3</th>\n",
       "      <td>892EA6DC-EDA4-49F8-AB16-A9BD742F1740</td>\n",
       "      <td>2020-07-20</td>\n",
       "      <td>81</td>\n",
       "      <td>9</td>\n",
       "      <td>11</td>\n",
       "      <td>FCBBBC65-A1D9-4E28-B821-32AFA0B3A1F0</td>\n",
       "      <td>81.000000</td>\n",
       "      <td>14.790201</td>\n",
       "      <td>1</td>\n",
       "    </tr>\n",
       "    <tr>\n",
       "      <th>4</th>\n",
       "      <td>62B38081-A0E4-401B-983B-2383F3B7FE78</td>\n",
       "      <td>2020-07-10</td>\n",
       "      <td>18</td>\n",
       "      <td>49</td>\n",
       "      <td>11</td>\n",
       "      <td>A9753061-6563-4475-A727-DB15BB988349</td>\n",
       "      <td>36.888889</td>\n",
       "      <td>14.216579</td>\n",
       "      <td>9</td>\n",
       "    </tr>\n",
       "  </tbody>\n",
       "</table>\n",
       "</div>"
      ],
      "text/plain": [
       "                          ParticipantId    DateExam  MarkPercent  SubjectId  \\\n",
       "0  FB18BA15-0699-47CD-8346-DDA81643CD39  2020-07-10           87         49   \n",
       "1  E8B2DBBD-A7D3-4ABA-82A4-FB8E3DBC3194  2020-07-10           46         49   \n",
       "2  4B72588C-D517-4111-B38A-2CBFD5B70950  2020-07-13            1         77   \n",
       "3  892EA6DC-EDA4-49F8-AB16-A9BD742F1740  2020-07-20           81          9   \n",
       "4  62B38081-A0E4-401B-983B-2383F3B7FE78  2020-07-10           18         49   \n",
       "\n",
       "   Parallel                                OOCode  Mark_school_mean  \\\n",
       "0        11  B8FE2712-B51A-4D47-B0E9-B679BA4CC5E9         62.000000   \n",
       "1        11  9B6BA432-DCE2-4ECF-9A86-2B9350634A17         50.833333   \n",
       "2        11  FDE67AB3-7330-4C39-AFA9-BA2FB8D6D91A         44.000000   \n",
       "3        11  FCBBBC65-A1D9-4E28-B821-32AFA0B3A1F0         81.000000   \n",
       "4        11  A9753061-6563-4475-A727-DB15BB988349         36.888889   \n",
       "\n",
       "   Mark_school_std  Mark_school_count  \n",
       "0        16.502525                  7  \n",
       "1        10.980285                  6  \n",
       "2        42.508823                  3  \n",
       "3        14.790201                  1  \n",
       "4        14.216579                  9  "
      ]
     },
     "execution_count": 21,
     "metadata": {},
     "output_type": "execute_result"
    }
   ],
   "source": [
    "GR_DATA = DATA.groupby(['OOCode','SubjectId'],\n",
    "                       as_index=False).agg(Mark_school_mean=pd.NamedAgg(column=\"MarkPercent\", aggfunc=\"mean\"),\n",
    "                                           Mark_school_std=pd.NamedAgg(column=\"MarkPercent\", aggfunc=\"std\"),\n",
    "                                          Mark_school_count=pd.NamedAgg(column=\"MarkPercent\", aggfunc=\"count\"))\n",
    "\n",
    "Mark_school_std_mean = GR_DATA.Mark_school_std.mean()\n",
    "GR_DATA.Mark_school_std.fillna(Mark_school_std_mean, inplace=True)\n",
    "\n",
    "\n",
    "\n",
    "DATA = DATA.merge(GR_DATA, how='left', on=['OOCode','SubjectId'])\n",
    "DATA.head()"
   ]
  },
  {
   "cell_type": "markdown",
   "metadata": {},
   "source": [
    "# MedalistResults"
   ]
  },
  {
   "cell_type": "code",
   "execution_count": 22,
   "metadata": {},
   "outputs": [
    {
     "name": "stdout",
     "output_type": "stream",
     "text": [
      "Index(['Id', 'Type', 'ParticipantId'], dtype='object')\n",
      "(1836, 3)\n"
     ]
    },
    {
     "data": {
      "text/html": [
       "<div>\n",
       "<style scoped>\n",
       "    .dataframe tbody tr th:only-of-type {\n",
       "        vertical-align: middle;\n",
       "    }\n",
       "\n",
       "    .dataframe tbody tr th {\n",
       "        vertical-align: top;\n",
       "    }\n",
       "\n",
       "    .dataframe thead th {\n",
       "        text-align: right;\n",
       "    }\n",
       "</style>\n",
       "<table border=\"1\" class=\"dataframe\">\n",
       "  <thead>\n",
       "    <tr style=\"text-align: right;\">\n",
       "      <th></th>\n",
       "      <th>Id</th>\n",
       "      <th>Type</th>\n",
       "      <th>ParticipantId</th>\n",
       "    </tr>\n",
       "  </thead>\n",
       "  <tbody>\n",
       "    <tr>\n",
       "      <th>0</th>\n",
       "      <td>25</td>\n",
       "      <td>0</td>\n",
       "      <td>B693A6E8-E8C9-40F5-8E63-0083317462F5</td>\n",
       "    </tr>\n",
       "  </tbody>\n",
       "</table>\n",
       "</div>"
      ],
      "text/plain": [
       "   Id  Type                         ParticipantId\n",
       "0  25     0  B693A6E8-E8C9-40F5-8E63-0083317462F5"
      ]
     },
     "execution_count": 22,
     "metadata": {},
     "output_type": "execute_result"
    }
   ],
   "source": [
    "MedalistResults = pd.read_csv('hackathon_data/MedalistResults.csv', sep=',')\n",
    "MedalistResults.drop(columns=['Partition'],inplace=True)\n",
    "print(MedalistResults.columns)\n",
    "print(MedalistResults.shape)\n",
    "\n",
    "MedalistResults.head(1)"
   ]
  },
  {
   "cell_type": "code",
   "execution_count": 23,
   "metadata": {},
   "outputs": [
    {
     "name": "stdout",
     "output_type": "stream",
     "text": [
      "Index(['ResultId', 'SubjectId'], dtype='object')\n"
     ]
    },
    {
     "data": {
      "text/html": [
       "<div>\n",
       "<style scoped>\n",
       "    .dataframe tbody tr th:only-of-type {\n",
       "        vertical-align: middle;\n",
       "    }\n",
       "\n",
       "    .dataframe tbody tr th {\n",
       "        vertical-align: top;\n",
       "    }\n",
       "\n",
       "    .dataframe thead th {\n",
       "        text-align: right;\n",
       "    }\n",
       "</style>\n",
       "<table border=\"1\" class=\"dataframe\">\n",
       "  <thead>\n",
       "    <tr style=\"text-align: right;\">\n",
       "      <th></th>\n",
       "      <th>ResultId</th>\n",
       "      <th>SubjectId</th>\n",
       "    </tr>\n",
       "  </thead>\n",
       "  <tbody>\n",
       "    <tr>\n",
       "      <th>0</th>\n",
       "      <td>24</td>\n",
       "      <td>29</td>\n",
       "    </tr>\n",
       "    <tr>\n",
       "      <th>1</th>\n",
       "      <td>312</td>\n",
       "      <td>31</td>\n",
       "    </tr>\n",
       "  </tbody>\n",
       "</table>\n",
       "</div>"
      ],
      "text/plain": [
       "   ResultId  SubjectId\n",
       "0        24         29\n",
       "1       312         31"
      ]
     },
     "execution_count": 23,
     "metadata": {},
     "output_type": "execute_result"
    }
   ],
   "source": [
    "MedalistSubjects = pd.read_csv('hackathon_valid_data/MedalistSubjects.csv', sep=',')\n",
    "MedalistSubjects.drop(columns=['Partition','Id'],inplace=True)\n",
    "print(MedalistSubjects.columns)\n",
    "MedalistSubjects.head(2)"
   ]
  },
  {
   "cell_type": "code",
   "execution_count": 24,
   "metadata": {},
   "outputs": [
    {
     "name": "stdout",
     "output_type": "stream",
     "text": [
      "(1836, 3)\n"
     ]
    },
    {
     "data": {
      "text/html": [
       "<div>\n",
       "<style scoped>\n",
       "    .dataframe tbody tr th:only-of-type {\n",
       "        vertical-align: middle;\n",
       "    }\n",
       "\n",
       "    .dataframe tbody tr th {\n",
       "        vertical-align: top;\n",
       "    }\n",
       "\n",
       "    .dataframe thead th {\n",
       "        text-align: right;\n",
       "    }\n",
       "</style>\n",
       "<table border=\"1\" class=\"dataframe\">\n",
       "  <thead>\n",
       "    <tr style=\"text-align: right;\">\n",
       "      <th></th>\n",
       "      <th>Type</th>\n",
       "      <th>ParticipantId</th>\n",
       "      <th>SubjectId</th>\n",
       "    </tr>\n",
       "  </thead>\n",
       "  <tbody>\n",
       "    <tr>\n",
       "      <th>0</th>\n",
       "      <td>0</td>\n",
       "      <td>B693A6E8-E8C9-40F5-8E63-0083317462F5</td>\n",
       "      <td>-1.0</td>\n",
       "    </tr>\n",
       "    <tr>\n",
       "      <th>1</th>\n",
       "      <td>0</td>\n",
       "      <td>EAC81C2C-E4C8-4213-A077-C013281F477A</td>\n",
       "      <td>-1.0</td>\n",
       "    </tr>\n",
       "  </tbody>\n",
       "</table>\n",
       "</div>"
      ],
      "text/plain": [
       "   Type                         ParticipantId  SubjectId\n",
       "0     0  B693A6E8-E8C9-40F5-8E63-0083317462F5       -1.0\n",
       "1     0  EAC81C2C-E4C8-4213-A077-C013281F477A       -1.0"
      ]
     },
     "execution_count": 24,
     "metadata": {},
     "output_type": "execute_result"
    }
   ],
   "source": [
    "MedalistResults_full = MedalistResults.merge(MedalistSubjects, how='left', left_on='Id', right_on = 'ResultId')\n",
    "MedalistResults_full.drop(['ResultId','Id'],inplace=True,axis=1)\n",
    "print(MedalistResults_full.shape)\n",
    "MedalistResults_full.fillna(-1, inplace=True)\n",
    "MedalistResults_full.head(2)"
   ]
  },
  {
   "cell_type": "code",
   "execution_count": 25,
   "metadata": {},
   "outputs": [
    {
     "data": {
      "text/html": [
       "<div>\n",
       "<style scoped>\n",
       "    .dataframe tbody tr th:only-of-type {\n",
       "        vertical-align: middle;\n",
       "    }\n",
       "\n",
       "    .dataframe tbody tr th {\n",
       "        vertical-align: top;\n",
       "    }\n",
       "\n",
       "    .dataframe thead th {\n",
       "        text-align: right;\n",
       "    }\n",
       "</style>\n",
       "<table border=\"1\" class=\"dataframe\">\n",
       "  <thead>\n",
       "    <tr style=\"text-align: right;\">\n",
       "      <th></th>\n",
       "      <th>ParticipantId</th>\n",
       "      <th>SubjectId</th>\n",
       "    </tr>\n",
       "  </thead>\n",
       "  <tbody>\n",
       "  </tbody>\n",
       "</table>\n",
       "</div>"
      ],
      "text/plain": [
       "Empty DataFrame\n",
       "Columns: [ParticipantId, SubjectId]\n",
       "Index: []"
      ]
     },
     "execution_count": 25,
     "metadata": {},
     "output_type": "execute_result"
    }
   ],
   "source": [
    "x = MedalistResults_full[['ParticipantId', 'SubjectId']].groupby('ParticipantId', as_index=False).count().sort_values('SubjectId')\n",
    "x[x.SubjectId > 2] #Проверить"
   ]
  },
  {
   "cell_type": "code",
   "execution_count": 26,
   "metadata": {},
   "outputs": [
    {
     "data": {
      "text/html": [
       "<div>\n",
       "<style scoped>\n",
       "    .dataframe tbody tr th:only-of-type {\n",
       "        vertical-align: middle;\n",
       "    }\n",
       "\n",
       "    .dataframe tbody tr th {\n",
       "        vertical-align: top;\n",
       "    }\n",
       "\n",
       "    .dataframe thead th {\n",
       "        text-align: right;\n",
       "    }\n",
       "</style>\n",
       "<table border=\"1\" class=\"dataframe\">\n",
       "  <thead>\n",
       "    <tr style=\"text-align: right;\">\n",
       "      <th></th>\n",
       "      <th>ParticipantId</th>\n",
       "      <th>SubjectId_-1.0</th>\n",
       "      <th>Type</th>\n",
       "      <th>SubjectId_olimp</th>\n",
       "    </tr>\n",
       "  </thead>\n",
       "  <tbody>\n",
       "    <tr>\n",
       "      <th>0</th>\n",
       "      <td>0004B810-D062-4E32-ACB5-0BCF3CBEF4F8</td>\n",
       "      <td>1</td>\n",
       "      <td>1</td>\n",
       "      <td>-1.0</td>\n",
       "    </tr>\n",
       "    <tr>\n",
       "      <th>1</th>\n",
       "      <td>0030E228-8A5B-466C-BD89-6E0371B0737A</td>\n",
       "      <td>1</td>\n",
       "      <td>1</td>\n",
       "      <td>-1.0</td>\n",
       "    </tr>\n",
       "  </tbody>\n",
       "</table>\n",
       "</div>"
      ],
      "text/plain": [
       "                          ParticipantId  SubjectId_-1.0  Type  SubjectId_olimp\n",
       "0  0004B810-D062-4E32-ACB5-0BCF3CBEF4F8               1     1             -1.0\n",
       "1  0030E228-8A5B-466C-BD89-6E0371B0737A               1     1             -1.0"
      ]
     },
     "execution_count": 26,
     "metadata": {},
     "output_type": "execute_result"
    }
   ],
   "source": [
    "#Учесть,что это олимпиадные задачи!\n",
    "p = MedalistResults_full[['ParticipantId','SubjectId']]\n",
    "pt = MedalistResults_full.pivot_table(p, \\\n",
    "                                      index=['ParticipantId'],\n",
    "                                      columns=['SubjectId'], aggfunc='count')\n",
    "pt = pt.fillna(0)\n",
    "pt.columns = pt.columns.droplevel(0)\n",
    "pt.reset_index(level=0, inplace=True)\n",
    "\n",
    " \n",
    "gr = pt.merge(MedalistResults_full[['ParticipantId', 'Type']])\n",
    "\n",
    "resub = ['SubjectId_' + str(el) for el in gr.columns]  \n",
    "gr.columns = ['ParticipantId'] + resub[1:-1] + ['Type']\n",
    "gr['SubjectId_olimp'] = MedalistResults_full['SubjectId']\n",
    "gr.head(2)\n",
    "#pt.loc['E8B0231E-A8D2-4F0B-882B-7DB5EAFE9D76']"
   ]
  },
  {
   "cell_type": "code",
   "execution_count": null,
   "metadata": {},
   "outputs": [],
   "source": [
    " "
   ]
  },
  {
   "cell_type": "code",
   "execution_count": 27,
   "metadata": {},
   "outputs": [
    {
     "name": "stdout",
     "output_type": "stream",
     "text": [
      "(4821, 9)\n",
      "(4821, 12)\n"
     ]
    }
   ],
   "source": [
    "#MedalistResults_full['SubjectId_olimp'] = MedalistResults_full['SubjectId']\n",
    "# MedalistResults_full.rename(columns={'SubjectId':'SubjectId_olimp'}, inplace=True)\n",
    "print(DATA.shape)\n",
    "DATA = DATA.merge(gr, how='left', on=['ParticipantId'])\n",
    "print(DATA.shape)\n",
    "DATA.fillna(-1, inplace=True)"
   ]
  },
  {
   "cell_type": "code",
   "execution_count": 28,
   "metadata": {},
   "outputs": [
    {
     "data": {
      "text/html": [
       "<div>\n",
       "<style scoped>\n",
       "    .dataframe tbody tr th:only-of-type {\n",
       "        vertical-align: middle;\n",
       "    }\n",
       "\n",
       "    .dataframe tbody tr th {\n",
       "        vertical-align: top;\n",
       "    }\n",
       "\n",
       "    .dataframe thead th {\n",
       "        text-align: right;\n",
       "    }\n",
       "</style>\n",
       "<table border=\"1\" class=\"dataframe\">\n",
       "  <thead>\n",
       "    <tr style=\"text-align: right;\">\n",
       "      <th></th>\n",
       "      <th>ParticipantId</th>\n",
       "      <th>DateExam</th>\n",
       "      <th>MarkPercent</th>\n",
       "      <th>SubjectId</th>\n",
       "      <th>Parallel</th>\n",
       "      <th>OOCode</th>\n",
       "      <th>Mark_school_mean</th>\n",
       "      <th>Mark_school_std</th>\n",
       "      <th>Mark_school_count</th>\n",
       "      <th>SubjectId_-1.0</th>\n",
       "      <th>Type</th>\n",
       "      <th>SubjectId_olimp</th>\n",
       "    </tr>\n",
       "  </thead>\n",
       "  <tbody>\n",
       "    <tr>\n",
       "      <th>0</th>\n",
       "      <td>FB18BA15-0699-47CD-8346-DDA81643CD39</td>\n",
       "      <td>2020-07-10</td>\n",
       "      <td>87</td>\n",
       "      <td>49</td>\n",
       "      <td>11</td>\n",
       "      <td>B8FE2712-B51A-4D47-B0E9-B679BA4CC5E9</td>\n",
       "      <td>62.000000</td>\n",
       "      <td>16.502525</td>\n",
       "      <td>7</td>\n",
       "      <td>-1.0</td>\n",
       "      <td>-1.0</td>\n",
       "      <td>-1.0</td>\n",
       "    </tr>\n",
       "    <tr>\n",
       "      <th>1</th>\n",
       "      <td>E8B2DBBD-A7D3-4ABA-82A4-FB8E3DBC3194</td>\n",
       "      <td>2020-07-10</td>\n",
       "      <td>46</td>\n",
       "      <td>49</td>\n",
       "      <td>11</td>\n",
       "      <td>9B6BA432-DCE2-4ECF-9A86-2B9350634A17</td>\n",
       "      <td>50.833333</td>\n",
       "      <td>10.980285</td>\n",
       "      <td>6</td>\n",
       "      <td>-1.0</td>\n",
       "      <td>-1.0</td>\n",
       "      <td>-1.0</td>\n",
       "    </tr>\n",
       "    <tr>\n",
       "      <th>2</th>\n",
       "      <td>4B72588C-D517-4111-B38A-2CBFD5B70950</td>\n",
       "      <td>2020-07-13</td>\n",
       "      <td>1</td>\n",
       "      <td>77</td>\n",
       "      <td>11</td>\n",
       "      <td>FDE67AB3-7330-4C39-AFA9-BA2FB8D6D91A</td>\n",
       "      <td>44.000000</td>\n",
       "      <td>42.508823</td>\n",
       "      <td>3</td>\n",
       "      <td>-1.0</td>\n",
       "      <td>-1.0</td>\n",
       "      <td>-1.0</td>\n",
       "    </tr>\n",
       "    <tr>\n",
       "      <th>3</th>\n",
       "      <td>892EA6DC-EDA4-49F8-AB16-A9BD742F1740</td>\n",
       "      <td>2020-07-20</td>\n",
       "      <td>81</td>\n",
       "      <td>9</td>\n",
       "      <td>11</td>\n",
       "      <td>FCBBBC65-A1D9-4E28-B821-32AFA0B3A1F0</td>\n",
       "      <td>81.000000</td>\n",
       "      <td>14.790201</td>\n",
       "      <td>1</td>\n",
       "      <td>-1.0</td>\n",
       "      <td>-1.0</td>\n",
       "      <td>-1.0</td>\n",
       "    </tr>\n",
       "    <tr>\n",
       "      <th>4</th>\n",
       "      <td>62B38081-A0E4-401B-983B-2383F3B7FE78</td>\n",
       "      <td>2020-07-10</td>\n",
       "      <td>18</td>\n",
       "      <td>49</td>\n",
       "      <td>11</td>\n",
       "      <td>A9753061-6563-4475-A727-DB15BB988349</td>\n",
       "      <td>36.888889</td>\n",
       "      <td>14.216579</td>\n",
       "      <td>9</td>\n",
       "      <td>-1.0</td>\n",
       "      <td>-1.0</td>\n",
       "      <td>-1.0</td>\n",
       "    </tr>\n",
       "  </tbody>\n",
       "</table>\n",
       "</div>"
      ],
      "text/plain": [
       "                          ParticipantId    DateExam  MarkPercent  SubjectId  \\\n",
       "0  FB18BA15-0699-47CD-8346-DDA81643CD39  2020-07-10           87         49   \n",
       "1  E8B2DBBD-A7D3-4ABA-82A4-FB8E3DBC3194  2020-07-10           46         49   \n",
       "2  4B72588C-D517-4111-B38A-2CBFD5B70950  2020-07-13            1         77   \n",
       "3  892EA6DC-EDA4-49F8-AB16-A9BD742F1740  2020-07-20           81          9   \n",
       "4  62B38081-A0E4-401B-983B-2383F3B7FE78  2020-07-10           18         49   \n",
       "\n",
       "   Parallel                                OOCode  Mark_school_mean  \\\n",
       "0        11  B8FE2712-B51A-4D47-B0E9-B679BA4CC5E9         62.000000   \n",
       "1        11  9B6BA432-DCE2-4ECF-9A86-2B9350634A17         50.833333   \n",
       "2        11  FDE67AB3-7330-4C39-AFA9-BA2FB8D6D91A         44.000000   \n",
       "3        11  FCBBBC65-A1D9-4E28-B821-32AFA0B3A1F0         81.000000   \n",
       "4        11  A9753061-6563-4475-A727-DB15BB988349         36.888889   \n",
       "\n",
       "   Mark_school_std  Mark_school_count  SubjectId_-1.0  Type  SubjectId_olimp  \n",
       "0        16.502525                  7            -1.0  -1.0             -1.0  \n",
       "1        10.980285                  6            -1.0  -1.0             -1.0  \n",
       "2        42.508823                  3            -1.0  -1.0             -1.0  \n",
       "3        14.790201                  1            -1.0  -1.0             -1.0  \n",
       "4        14.216579                  9            -1.0  -1.0             -1.0  "
      ]
     },
     "execution_count": 28,
     "metadata": {},
     "output_type": "execute_result"
    }
   ],
   "source": [
    "#DATA.fillna(-1, inplace=True)\n",
    "DATA.head()"
   ]
  },
  {
   "cell_type": "code",
   "execution_count": 29,
   "metadata": {},
   "outputs": [],
   "source": [
    "# MedalistResults_full['Type_1'] = MedalistResults_full['Type'] == 1\n",
    "# MedalistResults_full['Type_0'] = MedalistResults_full['Type'] == 0\n",
    "# MedalistResults_full['Type_No'] = MedalistResults_full['Type'] == -1\n",
    "\n",
    "\n",
    "# MedalistResults_full = MedalistResults_full.groupby('ParticipantId', as_index=False).agg({\"Type_1\":'sum',\n",
    "#                                                                                           \"Type_0\":'sum',\n",
    "#                                                                                           })\n",
    "\n",
    "\n",
    "# MedalistResults_full.head(3)"
   ]
  },
  {
   "cell_type": "code",
   "execution_count": null,
   "metadata": {},
   "outputs": [],
   "source": [
    " "
   ]
  },
  {
   "cell_type": "code",
   "execution_count": 30,
   "metadata": {},
   "outputs": [],
   "source": [
    "# MedalistResults_full[(MedalistResults_full.SubjectId_fist == MedalistResults_full.SubjectId_second) & MedalistResults_full.SubjectId_fist == True]"
   ]
  },
  {
   "cell_type": "code",
   "execution_count": 31,
   "metadata": {},
   "outputs": [],
   "source": [
    "# MedalistResults['Type_1'] = MedalistResults['Type'] == 1\n",
    "# MedalistResults['Type_0'] = MedalistResults['Type'] == 0\n",
    "\n",
    "# MedalistResults = MedalistResults.groupby('ParticipantId', as_index=False).agg({\"Type_1\":'sum',\"Type_0\":'sum', \"SubjectId \": 'max'})\n",
    "\n",
    "\n",
    "# MedalistResults.head(3)"
   ]
  },
  {
   "cell_type": "code",
   "execution_count": null,
   "metadata": {},
   "outputs": [],
   "source": [
    " "
   ]
  },
  {
   "cell_type": "code",
   "execution_count": 32,
   "metadata": {},
   "outputs": [],
   "source": [
    "# print(Participants.shape)\n",
    "# DATA = DATA.merge(MedalistResults, how='left', on='ParticipantId')\n",
    "# print(DATA.shape)\n",
    "# print(DATA.columns)\n",
    "# DATA.Type.fillna(-1, inplace=True)\n",
    "# DATA.head(3)"
   ]
  },
  {
   "cell_type": "code",
   "execution_count": null,
   "metadata": {},
   "outputs": [],
   "source": []
  },
  {
   "cell_type": "markdown",
   "metadata": {},
   "source": [
    "# DiagnosticResults"
   ]
  },
  {
   "cell_type": "code",
   "execution_count": 33,
   "metadata": {},
   "outputs": [
    {
     "name": "stdout",
     "output_type": "stream",
     "text": [
      "Index(['ResultId', 'Source', 'ParticipantId', 'StudentParallel', 'TestDate',\n",
      "       'Mark', 'MaxMark', 'SubjectId'],\n",
      "      dtype='object')\n",
      "(1584, 8)\n"
     ]
    },
    {
     "data": {
      "text/html": [
       "<div>\n",
       "<style scoped>\n",
       "    .dataframe tbody tr th:only-of-type {\n",
       "        vertical-align: middle;\n",
       "    }\n",
       "\n",
       "    .dataframe tbody tr th {\n",
       "        vertical-align: top;\n",
       "    }\n",
       "\n",
       "    .dataframe thead th {\n",
       "        text-align: right;\n",
       "    }\n",
       "</style>\n",
       "<table border=\"1\" class=\"dataframe\">\n",
       "  <thead>\n",
       "    <tr style=\"text-align: right;\">\n",
       "      <th></th>\n",
       "      <th>ResultId</th>\n",
       "      <th>Source</th>\n",
       "      <th>ParticipantId</th>\n",
       "      <th>StudentParallel</th>\n",
       "      <th>TestDate</th>\n",
       "      <th>Mark</th>\n",
       "      <th>MaxMark</th>\n",
       "      <th>SubjectId</th>\n",
       "    </tr>\n",
       "  </thead>\n",
       "  <tbody>\n",
       "    <tr>\n",
       "      <th>0</th>\n",
       "      <td>239526</td>\n",
       "      <td>0</td>\n",
       "      <td>04266577-CEB3-410B-A594-0A607880ED9C</td>\n",
       "      <td>11</td>\n",
       "      <td>2020-03-19 16:15:13</td>\n",
       "      <td>31.0</td>\n",
       "      <td>33</td>\n",
       "      <td>75</td>\n",
       "    </tr>\n",
       "    <tr>\n",
       "      <th>1</th>\n",
       "      <td>239546</td>\n",
       "      <td>0</td>\n",
       "      <td>2AF4F7CB-5A44-42CC-B41D-4F72299A6A1A</td>\n",
       "      <td>11</td>\n",
       "      <td>2020-03-20 11:15:02</td>\n",
       "      <td>29.0</td>\n",
       "      <td>33</td>\n",
       "      <td>31</td>\n",
       "    </tr>\n",
       "    <tr>\n",
       "      <th>2</th>\n",
       "      <td>239634</td>\n",
       "      <td>0</td>\n",
       "      <td>F82F0C49-C8D2-4A0F-8284-D9BF4C9DC160</td>\n",
       "      <td>11</td>\n",
       "      <td>2020-03-23 10:00:22</td>\n",
       "      <td>20.0</td>\n",
       "      <td>31</td>\n",
       "      <td>86</td>\n",
       "    </tr>\n",
       "  </tbody>\n",
       "</table>\n",
       "</div>"
      ],
      "text/plain": [
       "   ResultId  Source                         ParticipantId  StudentParallel  \\\n",
       "0    239526       0  04266577-CEB3-410B-A594-0A607880ED9C               11   \n",
       "1    239546       0  2AF4F7CB-5A44-42CC-B41D-4F72299A6A1A               11   \n",
       "2    239634       0  F82F0C49-C8D2-4A0F-8284-D9BF4C9DC160               11   \n",
       "\n",
       "              TestDate  Mark  MaxMark  SubjectId  \n",
       "0  2020-03-19 16:15:13  31.0       33         75  \n",
       "1  2020-03-20 11:15:02  29.0       33         31  \n",
       "2  2020-03-23 10:00:22  20.0       31         86  "
      ]
     },
     "execution_count": 33,
     "metadata": {},
     "output_type": "execute_result"
    }
   ],
   "source": [
    "DiagnosticResults = pd.read_csv('hackathon_valid_data/DiagnosticResults.csv', sep=',')\n",
    "DiagnosticResults.drop(columns='Partition',inplace=True, axis=1)\n",
    "print(DiagnosticResults.columns)\n",
    "print(DiagnosticResults.shape)\n",
    "DiagnosticResults.head(3)"
   ]
  },
  {
   "cell_type": "code",
   "execution_count": 34,
   "metadata": {},
   "outputs": [
    {
     "name": "stdout",
     "output_type": "stream",
     "text": [
      "(4821, 12)\n",
      "(4821, 14)\n"
     ]
    }
   ],
   "source": [
    "GR_DiagnosticResults = DiagnosticResults.groupby(['ParticipantId',\n",
    "                                                  'SubjectId'], as_index=False).agg(Mark_mean=pd.NamedAgg(column=\"Mark\", aggfunc=\"mean\"),\n",
    "                                                                                   Mark_count=pd.NamedAgg(column=\"Mark\", aggfunc=\"count\"),)\n",
    "print(DATA.shape)\n",
    "DATA = DATA.merge(GR_DiagnosticResults, how='left', on=['ParticipantId','SubjectId'])\n",
    "print(DATA.shape)\n",
    "DATA.fillna(0, inplace=True)"
   ]
  },
  {
   "cell_type": "code",
   "execution_count": 35,
   "metadata": {},
   "outputs": [
    {
     "data": {
      "text/html": [
       "<div>\n",
       "<style scoped>\n",
       "    .dataframe tbody tr th:only-of-type {\n",
       "        vertical-align: middle;\n",
       "    }\n",
       "\n",
       "    .dataframe tbody tr th {\n",
       "        vertical-align: top;\n",
       "    }\n",
       "\n",
       "    .dataframe thead th {\n",
       "        text-align: right;\n",
       "    }\n",
       "</style>\n",
       "<table border=\"1\" class=\"dataframe\">\n",
       "  <thead>\n",
       "    <tr style=\"text-align: right;\">\n",
       "      <th></th>\n",
       "      <th>ParticipantId</th>\n",
       "      <th>DateExam</th>\n",
       "      <th>MarkPercent</th>\n",
       "      <th>SubjectId</th>\n",
       "      <th>Parallel</th>\n",
       "      <th>OOCode</th>\n",
       "      <th>Mark_school_mean</th>\n",
       "      <th>Mark_school_std</th>\n",
       "      <th>Mark_school_count</th>\n",
       "      <th>SubjectId_-1.0</th>\n",
       "      <th>Type</th>\n",
       "      <th>SubjectId_olimp</th>\n",
       "      <th>Mark_mean</th>\n",
       "      <th>Mark_count</th>\n",
       "    </tr>\n",
       "  </thead>\n",
       "  <tbody>\n",
       "    <tr>\n",
       "      <th>0</th>\n",
       "      <td>FB18BA15-0699-47CD-8346-DDA81643CD39</td>\n",
       "      <td>2020-07-10</td>\n",
       "      <td>87</td>\n",
       "      <td>49</td>\n",
       "      <td>11</td>\n",
       "      <td>B8FE2712-B51A-4D47-B0E9-B679BA4CC5E9</td>\n",
       "      <td>62.000000</td>\n",
       "      <td>16.502525</td>\n",
       "      <td>7</td>\n",
       "      <td>-1.0</td>\n",
       "      <td>-1.0</td>\n",
       "      <td>-1.0</td>\n",
       "      <td>0.0</td>\n",
       "      <td>0.0</td>\n",
       "    </tr>\n",
       "    <tr>\n",
       "      <th>1</th>\n",
       "      <td>E8B2DBBD-A7D3-4ABA-82A4-FB8E3DBC3194</td>\n",
       "      <td>2020-07-10</td>\n",
       "      <td>46</td>\n",
       "      <td>49</td>\n",
       "      <td>11</td>\n",
       "      <td>9B6BA432-DCE2-4ECF-9A86-2B9350634A17</td>\n",
       "      <td>50.833333</td>\n",
       "      <td>10.980285</td>\n",
       "      <td>6</td>\n",
       "      <td>-1.0</td>\n",
       "      <td>-1.0</td>\n",
       "      <td>-1.0</td>\n",
       "      <td>0.0</td>\n",
       "      <td>0.0</td>\n",
       "    </tr>\n",
       "    <tr>\n",
       "      <th>2</th>\n",
       "      <td>4B72588C-D517-4111-B38A-2CBFD5B70950</td>\n",
       "      <td>2020-07-13</td>\n",
       "      <td>1</td>\n",
       "      <td>77</td>\n",
       "      <td>11</td>\n",
       "      <td>FDE67AB3-7330-4C39-AFA9-BA2FB8D6D91A</td>\n",
       "      <td>44.000000</td>\n",
       "      <td>42.508823</td>\n",
       "      <td>3</td>\n",
       "      <td>-1.0</td>\n",
       "      <td>-1.0</td>\n",
       "      <td>-1.0</td>\n",
       "      <td>0.0</td>\n",
       "      <td>0.0</td>\n",
       "    </tr>\n",
       "    <tr>\n",
       "      <th>3</th>\n",
       "      <td>892EA6DC-EDA4-49F8-AB16-A9BD742F1740</td>\n",
       "      <td>2020-07-20</td>\n",
       "      <td>81</td>\n",
       "      <td>9</td>\n",
       "      <td>11</td>\n",
       "      <td>FCBBBC65-A1D9-4E28-B821-32AFA0B3A1F0</td>\n",
       "      <td>81.000000</td>\n",
       "      <td>14.790201</td>\n",
       "      <td>1</td>\n",
       "      <td>-1.0</td>\n",
       "      <td>-1.0</td>\n",
       "      <td>-1.0</td>\n",
       "      <td>0.0</td>\n",
       "      <td>0.0</td>\n",
       "    </tr>\n",
       "    <tr>\n",
       "      <th>4</th>\n",
       "      <td>62B38081-A0E4-401B-983B-2383F3B7FE78</td>\n",
       "      <td>2020-07-10</td>\n",
       "      <td>18</td>\n",
       "      <td>49</td>\n",
       "      <td>11</td>\n",
       "      <td>A9753061-6563-4475-A727-DB15BB988349</td>\n",
       "      <td>36.888889</td>\n",
       "      <td>14.216579</td>\n",
       "      <td>9</td>\n",
       "      <td>-1.0</td>\n",
       "      <td>-1.0</td>\n",
       "      <td>-1.0</td>\n",
       "      <td>0.0</td>\n",
       "      <td>0.0</td>\n",
       "    </tr>\n",
       "  </tbody>\n",
       "</table>\n",
       "</div>"
      ],
      "text/plain": [
       "                          ParticipantId    DateExam  MarkPercent  SubjectId  \\\n",
       "0  FB18BA15-0699-47CD-8346-DDA81643CD39  2020-07-10           87         49   \n",
       "1  E8B2DBBD-A7D3-4ABA-82A4-FB8E3DBC3194  2020-07-10           46         49   \n",
       "2  4B72588C-D517-4111-B38A-2CBFD5B70950  2020-07-13            1         77   \n",
       "3  892EA6DC-EDA4-49F8-AB16-A9BD742F1740  2020-07-20           81          9   \n",
       "4  62B38081-A0E4-401B-983B-2383F3B7FE78  2020-07-10           18         49   \n",
       "\n",
       "   Parallel                                OOCode  Mark_school_mean  \\\n",
       "0        11  B8FE2712-B51A-4D47-B0E9-B679BA4CC5E9         62.000000   \n",
       "1        11  9B6BA432-DCE2-4ECF-9A86-2B9350634A17         50.833333   \n",
       "2        11  FDE67AB3-7330-4C39-AFA9-BA2FB8D6D91A         44.000000   \n",
       "3        11  FCBBBC65-A1D9-4E28-B821-32AFA0B3A1F0         81.000000   \n",
       "4        11  A9753061-6563-4475-A727-DB15BB988349         36.888889   \n",
       "\n",
       "   Mark_school_std  Mark_school_count  SubjectId_-1.0  Type  SubjectId_olimp  \\\n",
       "0        16.502525                  7            -1.0  -1.0             -1.0   \n",
       "1        10.980285                  6            -1.0  -1.0             -1.0   \n",
       "2        42.508823                  3            -1.0  -1.0             -1.0   \n",
       "3        14.790201                  1            -1.0  -1.0             -1.0   \n",
       "4        14.216579                  9            -1.0  -1.0             -1.0   \n",
       "\n",
       "   Mark_mean  Mark_count  \n",
       "0        0.0         0.0  \n",
       "1        0.0         0.0  \n",
       "2        0.0         0.0  \n",
       "3        0.0         0.0  \n",
       "4        0.0         0.0  "
      ]
     },
     "execution_count": 35,
     "metadata": {},
     "output_type": "execute_result"
    }
   ],
   "source": [
    "DATA.head()"
   ]
  },
  {
   "cell_type": "code",
   "execution_count": 36,
   "metadata": {},
   "outputs": [
    {
     "data": {
      "text/plain": [
       "False"
      ]
     },
     "execution_count": 36,
     "metadata": {},
     "output_type": "execute_result"
    }
   ],
   "source": [
    "DiagnosticResults.ParticipantId.nunique() == len(DiagnosticResults.ParticipantId)"
   ]
  },
  {
   "cell_type": "code",
   "execution_count": null,
   "metadata": {},
   "outputs": [],
   "source": [
    " "
   ]
  },
  {
   "cell_type": "code",
   "execution_count": null,
   "metadata": {},
   "outputs": [],
   "source": [
    " "
   ]
  },
  {
   "cell_type": "markdown",
   "metadata": {},
   "source": [
    "# DiagnosticResultDetails"
   ]
  },
  {
   "cell_type": "code",
   "execution_count": 37,
   "metadata": {},
   "outputs": [
    {
     "name": "stdout",
     "output_type": "stream",
     "text": [
      "Index(['Id', 'ResultId', 'Source', 'NumberInKim', 'Mark', 'MaxMark',\n",
      "       'ClassifierId'],\n",
      "      dtype='object')\n",
      "(26604, 7)\n"
     ]
    },
    {
     "data": {
      "text/html": [
       "<div>\n",
       "<style scoped>\n",
       "    .dataframe tbody tr th:only-of-type {\n",
       "        vertical-align: middle;\n",
       "    }\n",
       "\n",
       "    .dataframe tbody tr th {\n",
       "        vertical-align: top;\n",
       "    }\n",
       "\n",
       "    .dataframe thead th {\n",
       "        text-align: right;\n",
       "    }\n",
       "</style>\n",
       "<table border=\"1\" class=\"dataframe\">\n",
       "  <thead>\n",
       "    <tr style=\"text-align: right;\">\n",
       "      <th></th>\n",
       "      <th>Id</th>\n",
       "      <th>ResultId</th>\n",
       "      <th>Source</th>\n",
       "      <th>NumberInKim</th>\n",
       "      <th>Mark</th>\n",
       "      <th>MaxMark</th>\n",
       "      <th>ClassifierId</th>\n",
       "    </tr>\n",
       "  </thead>\n",
       "  <tbody>\n",
       "    <tr>\n",
       "      <th>0</th>\n",
       "      <td>4052217</td>\n",
       "      <td>239526</td>\n",
       "      <td>0</td>\n",
       "      <td>1</td>\n",
       "      <td>2.0</td>\n",
       "      <td>2.0</td>\n",
       "      <td>1883.0</td>\n",
       "    </tr>\n",
       "    <tr>\n",
       "      <th>1</th>\n",
       "      <td>4052218</td>\n",
       "      <td>239526</td>\n",
       "      <td>0</td>\n",
       "      <td>2</td>\n",
       "      <td>1.0</td>\n",
       "      <td>1.0</td>\n",
       "      <td>2579.0</td>\n",
       "    </tr>\n",
       "    <tr>\n",
       "      <th>2</th>\n",
       "      <td>4052219</td>\n",
       "      <td>239526</td>\n",
       "      <td>0</td>\n",
       "      <td>3</td>\n",
       "      <td>1.0</td>\n",
       "      <td>1.0</td>\n",
       "      <td>2894.0</td>\n",
       "    </tr>\n",
       "  </tbody>\n",
       "</table>\n",
       "</div>"
      ],
      "text/plain": [
       "        Id  ResultId  Source  NumberInKim  Mark  MaxMark  ClassifierId\n",
       "0  4052217    239526       0            1   2.0      2.0        1883.0\n",
       "1  4052218    239526       0            2   1.0      1.0        2579.0\n",
       "2  4052219    239526       0            3   1.0      1.0        2894.0"
      ]
     },
     "execution_count": 37,
     "metadata": {},
     "output_type": "execute_result"
    }
   ],
   "source": [
    "DiagnosticResultDetails = pd.read_csv('hackathon_valid_data/DiagnosticResultDetails.csv', sep=',')\n",
    "DiagnosticResultDetails.drop(columns=['Partition'],inplace=True, axis=1)\n",
    "print(DiagnosticResultDetails.columns)\n",
    "print(DiagnosticResultDetails.shape)\n",
    "DiagnosticResultDetails.head(3)"
   ]
  },
  {
   "cell_type": "code",
   "execution_count": null,
   "metadata": {},
   "outputs": [],
   "source": [
    " "
   ]
  },
  {
   "cell_type": "code",
   "execution_count": null,
   "metadata": {},
   "outputs": [],
   "source": [
    " "
   ]
  },
  {
   "cell_type": "code",
   "execution_count": 38,
   "metadata": {},
   "outputs": [],
   "source": [
    "# EgeResultDetails['MaxMark'].value_counts()\n",
    "# Number дропнуть !"
   ]
  },
  {
   "cell_type": "code",
   "execution_count": null,
   "metadata": {},
   "outputs": [],
   "source": [
    " "
   ]
  },
  {
   "cell_type": "code",
   "execution_count": null,
   "metadata": {},
   "outputs": [],
   "source": [
    " "
   ]
  },
  {
   "cell_type": "code",
   "execution_count": null,
   "metadata": {},
   "outputs": [],
   "source": [
    " "
   ]
  },
  {
   "cell_type": "markdown",
   "metadata": {},
   "source": [
    "# EgeResultDetails"
   ]
  },
  {
   "cell_type": "code",
   "execution_count": 37,
   "metadata": {},
   "outputs": [
    {
     "data": {
      "text/html": [
       "<div>\n",
       "<style scoped>\n",
       "    .dataframe tbody tr th:only-of-type {\n",
       "        vertical-align: middle;\n",
       "    }\n",
       "\n",
       "    .dataframe tbody tr th {\n",
       "        vertical-align: top;\n",
       "    }\n",
       "\n",
       "    .dataframe thead th {\n",
       "        text-align: right;\n",
       "    }\n",
       "</style>\n",
       "<table border=\"1\" class=\"dataframe\">\n",
       "  <thead>\n",
       "    <tr style=\"text-align: right;\">\n",
       "      <th></th>\n",
       "      <th>Id</th>\n",
       "      <th>ResultId</th>\n",
       "      <th>Part</th>\n",
       "      <th>NumberInPart</th>\n",
       "      <th>Number</th>\n",
       "      <th>Mark</th>\n",
       "      <th>MaxMark</th>\n",
       "      <th>ClassifierId</th>\n",
       "      <th>Partition</th>\n",
       "    </tr>\n",
       "  </thead>\n",
       "  <tbody>\n",
       "    <tr>\n",
       "      <th>0</th>\n",
       "      <td>39</td>\n",
       "      <td>4EF9DB0D-2E75-4654-A74C-0000317B2FC1</td>\n",
       "      <td>1</td>\n",
       "      <td>1</td>\n",
       "      <td>NaN</td>\n",
       "      <td>1</td>\n",
       "      <td>1</td>\n",
       "      <td>3914.0</td>\n",
       "      <td>1</td>\n",
       "    </tr>\n",
       "    <tr>\n",
       "      <th>1</th>\n",
       "      <td>40</td>\n",
       "      <td>4EF9DB0D-2E75-4654-A74C-0000317B2FC1</td>\n",
       "      <td>1</td>\n",
       "      <td>2</td>\n",
       "      <td>NaN</td>\n",
       "      <td>1</td>\n",
       "      <td>1</td>\n",
       "      <td>1252.0</td>\n",
       "      <td>1</td>\n",
       "    </tr>\n",
       "    <tr>\n",
       "      <th>2</th>\n",
       "      <td>41</td>\n",
       "      <td>4EF9DB0D-2E75-4654-A74C-0000317B2FC1</td>\n",
       "      <td>1</td>\n",
       "      <td>3</td>\n",
       "      <td>NaN</td>\n",
       "      <td>1</td>\n",
       "      <td>1</td>\n",
       "      <td>498.0</td>\n",
       "      <td>1</td>\n",
       "    </tr>\n",
       "  </tbody>\n",
       "</table>\n",
       "</div>"
      ],
      "text/plain": [
       "   Id                              ResultId  Part  NumberInPart  Number  Mark  \\\n",
       "0  39  4EF9DB0D-2E75-4654-A74C-0000317B2FC1     1             1     NaN     1   \n",
       "1  40  4EF9DB0D-2E75-4654-A74C-0000317B2FC1     1             2     NaN     1   \n",
       "2  41  4EF9DB0D-2E75-4654-A74C-0000317B2FC1     1             3     NaN     1   \n",
       "\n",
       "   MaxMark  ClassifierId  Partition  \n",
       "0        1        3914.0          1  \n",
       "1        1        1252.0          1  \n",
       "2        1         498.0          1  "
      ]
     },
     "execution_count": 37,
     "metadata": {},
     "output_type": "execute_result"
    }
   ],
   "source": [
    "EgeResultDetails = pd.read_csv('hackathon_data/EgeResultDetails.csv', sep=',')\n",
    "EgeResultDetails.head(3)"
   ]
  },
  {
   "cell_type": "markdown",
   "metadata": {},
   "source": [
    "# Classifiers"
   ]
  },
  {
   "cell_type": "code",
   "execution_count": 43,
   "metadata": {},
   "outputs": [
    {
     "data": {
      "text/html": [
       "<div>\n",
       "<style scoped>\n",
       "    .dataframe tbody tr th:only-of-type {\n",
       "        vertical-align: middle;\n",
       "    }\n",
       "\n",
       "    .dataframe tbody tr th {\n",
       "        vertical-align: top;\n",
       "    }\n",
       "\n",
       "    .dataframe thead th {\n",
       "        text-align: right;\n",
       "    }\n",
       "</style>\n",
       "<table border=\"1\" class=\"dataframe\">\n",
       "  <thead>\n",
       "    <tr style=\"text-align: right;\">\n",
       "      <th></th>\n",
       "      <th>Id</th>\n",
       "      <th>Code</th>\n",
       "      <th>Name</th>\n",
       "      <th>Parallel</th>\n",
       "      <th>SubjectId</th>\n",
       "    </tr>\n",
       "  </thead>\n",
       "  <tbody>\n",
       "  </tbody>\n",
       "</table>\n",
       "</div>"
      ],
      "text/plain": [
       "Empty DataFrame\n",
       "Columns: [Id, Code, Name, Parallel, SubjectId]\n",
       "Index: []"
      ]
     },
     "execution_count": 43,
     "metadata": {},
     "output_type": "execute_result"
    }
   ],
   "source": [
    "Classifiers = pd.read_csv('hackathon_valid_data/classifiers.csv', sep=',')\n",
    "Classifiers.head()"
   ]
  },
  {
   "cell_type": "markdown",
   "metadata": {},
   "source": [
    "# SelfDiagnosticResults"
   ]
  },
  {
   "cell_type": "code",
   "execution_count": 44,
   "metadata": {},
   "outputs": [
    {
     "name": "stdout",
     "output_type": "stream",
     "text": [
      "(2324, 8)\n",
      "(2324, 8)\n",
      "Index(['Id', 'ParticipantId', 'StudentParallel', 'TestDate', 'Mark', 'MaxMark',\n",
      "       'SubjectId', 'Partition'],\n",
      "      dtype='object')\n"
     ]
    },
    {
     "ename": "KeyError",
     "evalue": "'[ 3395  3396  5652  5708  5997  8561 10098 10386 16526 20987 21396 21396\\n 21401] not found in axis'",
     "output_type": "error",
     "traceback": [
      "\u001b[1;31m---------------------------------------------------------------------------\u001b[0m",
      "\u001b[1;31mKeyError\u001b[0m                                  Traceback (most recent call last)",
      "\u001b[1;32m<ipython-input-44-85ccf6a37cc5>\u001b[0m in \u001b[0;36m<module>\u001b[1;34m\u001b[0m\n\u001b[0;32m      4\u001b[0m \u001b[0mprint\u001b[0m\u001b[1;33m(\u001b[0m\u001b[0mSelfDiagnosticResultDetails\u001b[0m\u001b[1;33m.\u001b[0m\u001b[0mshape\u001b[0m\u001b[1;33m)\u001b[0m\u001b[1;33m\u001b[0m\u001b[1;33m\u001b[0m\u001b[0m\n\u001b[0;32m      5\u001b[0m \u001b[0mprint\u001b[0m\u001b[1;33m(\u001b[0m\u001b[0mSelfDiagnosticResultDetails\u001b[0m\u001b[1;33m.\u001b[0m\u001b[0mcolumns\u001b[0m\u001b[1;33m)\u001b[0m\u001b[1;33m\u001b[0m\u001b[1;33m\u001b[0m\u001b[0m\n\u001b[1;32m----> 6\u001b[1;33m SelfDiagnosticResultDetails.drop(index = [2024, 3395, 3396, 5652, 5708, 5997,\n\u001b[0m\u001b[0;32m      7\u001b[0m                                          \u001b[1;36m8561\u001b[0m\u001b[1;33m,\u001b[0m \u001b[1;36m10098\u001b[0m\u001b[1;33m,\u001b[0m \u001b[1;36m10386\u001b[0m\u001b[1;33m,\u001b[0m \u001b[1;36m16526\u001b[0m\u001b[1;33m,\u001b[0m \u001b[1;36m20987\u001b[0m\u001b[1;33m,\u001b[0m \u001b[1;36m21396\u001b[0m\u001b[1;33m,\u001b[0m\u001b[1;33m\u001b[0m\u001b[1;33m\u001b[0m\u001b[0m\n\u001b[0;32m      8\u001b[0m                                          21396, 21388+13], axis=0, inplace=True) # Удаляем мусор из данных\n",
      "\u001b[1;32m~\\anaconda3\\lib\\site-packages\\pandas\\core\\frame.py\u001b[0m in \u001b[0;36mdrop\u001b[1;34m(self, labels, axis, index, columns, level, inplace, errors)\u001b[0m\n\u001b[0;32m   4161\u001b[0m                 \u001b[0mweight\u001b[0m  \u001b[1;36m1.0\u001b[0m     \u001b[1;36m0.8\u001b[0m\u001b[1;33m\u001b[0m\u001b[1;33m\u001b[0m\u001b[0m\n\u001b[0;32m   4162\u001b[0m         \"\"\"\n\u001b[1;32m-> 4163\u001b[1;33m         return super().drop(\n\u001b[0m\u001b[0;32m   4164\u001b[0m             \u001b[0mlabels\u001b[0m\u001b[1;33m=\u001b[0m\u001b[0mlabels\u001b[0m\u001b[1;33m,\u001b[0m\u001b[1;33m\u001b[0m\u001b[1;33m\u001b[0m\u001b[0m\n\u001b[0;32m   4165\u001b[0m             \u001b[0maxis\u001b[0m\u001b[1;33m=\u001b[0m\u001b[0maxis\u001b[0m\u001b[1;33m,\u001b[0m\u001b[1;33m\u001b[0m\u001b[1;33m\u001b[0m\u001b[0m\n",
      "\u001b[1;32m~\\anaconda3\\lib\\site-packages\\pandas\\core\\generic.py\u001b[0m in \u001b[0;36mdrop\u001b[1;34m(self, labels, axis, index, columns, level, inplace, errors)\u001b[0m\n\u001b[0;32m   3885\u001b[0m         \u001b[1;32mfor\u001b[0m \u001b[0maxis\u001b[0m\u001b[1;33m,\u001b[0m \u001b[0mlabels\u001b[0m \u001b[1;32min\u001b[0m \u001b[0maxes\u001b[0m\u001b[1;33m.\u001b[0m\u001b[0mitems\u001b[0m\u001b[1;33m(\u001b[0m\u001b[1;33m)\u001b[0m\u001b[1;33m:\u001b[0m\u001b[1;33m\u001b[0m\u001b[1;33m\u001b[0m\u001b[0m\n\u001b[0;32m   3886\u001b[0m             \u001b[1;32mif\u001b[0m \u001b[0mlabels\u001b[0m \u001b[1;32mis\u001b[0m \u001b[1;32mnot\u001b[0m \u001b[1;32mNone\u001b[0m\u001b[1;33m:\u001b[0m\u001b[1;33m\u001b[0m\u001b[1;33m\u001b[0m\u001b[0m\n\u001b[1;32m-> 3887\u001b[1;33m                 \u001b[0mobj\u001b[0m \u001b[1;33m=\u001b[0m \u001b[0mobj\u001b[0m\u001b[1;33m.\u001b[0m\u001b[0m_drop_axis\u001b[0m\u001b[1;33m(\u001b[0m\u001b[0mlabels\u001b[0m\u001b[1;33m,\u001b[0m \u001b[0maxis\u001b[0m\u001b[1;33m,\u001b[0m \u001b[0mlevel\u001b[0m\u001b[1;33m=\u001b[0m\u001b[0mlevel\u001b[0m\u001b[1;33m,\u001b[0m \u001b[0merrors\u001b[0m\u001b[1;33m=\u001b[0m\u001b[0merrors\u001b[0m\u001b[1;33m)\u001b[0m\u001b[1;33m\u001b[0m\u001b[1;33m\u001b[0m\u001b[0m\n\u001b[0m\u001b[0;32m   3888\u001b[0m \u001b[1;33m\u001b[0m\u001b[0m\n\u001b[0;32m   3889\u001b[0m         \u001b[1;32mif\u001b[0m \u001b[0minplace\u001b[0m\u001b[1;33m:\u001b[0m\u001b[1;33m\u001b[0m\u001b[1;33m\u001b[0m\u001b[0m\n",
      "\u001b[1;32m~\\anaconda3\\lib\\site-packages\\pandas\\core\\generic.py\u001b[0m in \u001b[0;36m_drop_axis\u001b[1;34m(self, labels, axis, level, errors)\u001b[0m\n\u001b[0;32m   3919\u001b[0m                 \u001b[0mnew_axis\u001b[0m \u001b[1;33m=\u001b[0m \u001b[0maxis\u001b[0m\u001b[1;33m.\u001b[0m\u001b[0mdrop\u001b[0m\u001b[1;33m(\u001b[0m\u001b[0mlabels\u001b[0m\u001b[1;33m,\u001b[0m \u001b[0mlevel\u001b[0m\u001b[1;33m=\u001b[0m\u001b[0mlevel\u001b[0m\u001b[1;33m,\u001b[0m \u001b[0merrors\u001b[0m\u001b[1;33m=\u001b[0m\u001b[0merrors\u001b[0m\u001b[1;33m)\u001b[0m\u001b[1;33m\u001b[0m\u001b[1;33m\u001b[0m\u001b[0m\n\u001b[0;32m   3920\u001b[0m             \u001b[1;32melse\u001b[0m\u001b[1;33m:\u001b[0m\u001b[1;33m\u001b[0m\u001b[1;33m\u001b[0m\u001b[0m\n\u001b[1;32m-> 3921\u001b[1;33m                 \u001b[0mnew_axis\u001b[0m \u001b[1;33m=\u001b[0m \u001b[0maxis\u001b[0m\u001b[1;33m.\u001b[0m\u001b[0mdrop\u001b[0m\u001b[1;33m(\u001b[0m\u001b[0mlabels\u001b[0m\u001b[1;33m,\u001b[0m \u001b[0merrors\u001b[0m\u001b[1;33m=\u001b[0m\u001b[0merrors\u001b[0m\u001b[1;33m)\u001b[0m\u001b[1;33m\u001b[0m\u001b[1;33m\u001b[0m\u001b[0m\n\u001b[0m\u001b[0;32m   3922\u001b[0m             \u001b[0mresult\u001b[0m \u001b[1;33m=\u001b[0m \u001b[0mself\u001b[0m\u001b[1;33m.\u001b[0m\u001b[0mreindex\u001b[0m\u001b[1;33m(\u001b[0m\u001b[1;33m**\u001b[0m\u001b[1;33m{\u001b[0m\u001b[0maxis_name\u001b[0m\u001b[1;33m:\u001b[0m \u001b[0mnew_axis\u001b[0m\u001b[1;33m}\u001b[0m\u001b[1;33m)\u001b[0m\u001b[1;33m\u001b[0m\u001b[1;33m\u001b[0m\u001b[0m\n\u001b[0;32m   3923\u001b[0m \u001b[1;33m\u001b[0m\u001b[0m\n",
      "\u001b[1;32m~\\anaconda3\\lib\\site-packages\\pandas\\core\\indexes\\base.py\u001b[0m in \u001b[0;36mdrop\u001b[1;34m(self, labels, errors)\u001b[0m\n\u001b[0;32m   5280\u001b[0m         \u001b[1;32mif\u001b[0m \u001b[0mmask\u001b[0m\u001b[1;33m.\u001b[0m\u001b[0many\u001b[0m\u001b[1;33m(\u001b[0m\u001b[1;33m)\u001b[0m\u001b[1;33m:\u001b[0m\u001b[1;33m\u001b[0m\u001b[1;33m\u001b[0m\u001b[0m\n\u001b[0;32m   5281\u001b[0m             \u001b[1;32mif\u001b[0m \u001b[0merrors\u001b[0m \u001b[1;33m!=\u001b[0m \u001b[1;34m\"ignore\"\u001b[0m\u001b[1;33m:\u001b[0m\u001b[1;33m\u001b[0m\u001b[1;33m\u001b[0m\u001b[0m\n\u001b[1;32m-> 5282\u001b[1;33m                 \u001b[1;32mraise\u001b[0m \u001b[0mKeyError\u001b[0m\u001b[1;33m(\u001b[0m\u001b[1;34mf\"{labels[mask]} not found in axis\"\u001b[0m\u001b[1;33m)\u001b[0m\u001b[1;33m\u001b[0m\u001b[1;33m\u001b[0m\u001b[0m\n\u001b[0m\u001b[0;32m   5283\u001b[0m             \u001b[0mindexer\u001b[0m \u001b[1;33m=\u001b[0m \u001b[0mindexer\u001b[0m\u001b[1;33m[\u001b[0m\u001b[1;33m~\u001b[0m\u001b[0mmask\u001b[0m\u001b[1;33m]\u001b[0m\u001b[1;33m\u001b[0m\u001b[1;33m\u001b[0m\u001b[0m\n\u001b[0;32m   5284\u001b[0m         \u001b[1;32mreturn\u001b[0m \u001b[0mself\u001b[0m\u001b[1;33m.\u001b[0m\u001b[0mdelete\u001b[0m\u001b[1;33m(\u001b[0m\u001b[0mindexer\u001b[0m\u001b[1;33m)\u001b[0m\u001b[1;33m\u001b[0m\u001b[1;33m\u001b[0m\u001b[0m\n",
      "\u001b[1;31mKeyError\u001b[0m: '[ 3395  3396  5652  5708  5997  8561 10098 10386 16526 20987 21396 21396\\n 21401] not found in axis'"
     ]
    }
   ],
   "source": [
    "SelfDiagnosticResultDetails = pd.read_csv('hackathon_valid_data/SelfDiagnosticResults.csv', sep=',')\n",
    "print(SelfDiagnosticResultDetails.shape)\n",
    "#SelfDiagnosticResultDetails = SelfDiagnosticResultDetails[SelfDiagnosticResultDetails.StudentParallel.isin([10,11])]\n",
    "print(SelfDiagnosticResultDetails.shape)\n",
    "print(SelfDiagnosticResultDetails.columns)\n",
    "SelfDiagnosticResultDetails.drop(index = [2024, 3395, 3396, 5652, 5708, 5997,\n",
    "                                         8561, 10098, 10386, 16526, 20987, 21396,\n",
    "                                         21396, 21388+13], axis=0, inplace=True) # Удаляем мусор из данных\n",
    "SelfDiagnosticResultDetails.info()"
   ]
  },
  {
   "cell_type": "code",
   "execution_count": 45,
   "metadata": {},
   "outputs": [
    {
     "data": {
      "text/html": [
       "<div>\n",
       "<style scoped>\n",
       "    .dataframe tbody tr th:only-of-type {\n",
       "        vertical-align: middle;\n",
       "    }\n",
       "\n",
       "    .dataframe tbody tr th {\n",
       "        vertical-align: top;\n",
       "    }\n",
       "\n",
       "    .dataframe thead th {\n",
       "        text-align: right;\n",
       "    }\n",
       "</style>\n",
       "<table border=\"1\" class=\"dataframe\">\n",
       "  <thead>\n",
       "    <tr style=\"text-align: right;\">\n",
       "      <th></th>\n",
       "      <th>Id</th>\n",
       "      <th>ParticipantId</th>\n",
       "      <th>StudentParallel</th>\n",
       "      <th>TestDate</th>\n",
       "      <th>Mark</th>\n",
       "      <th>MaxMark</th>\n",
       "      <th>SubjectId</th>\n",
       "      <th>Partition</th>\n",
       "      <th>Real_Mark</th>\n",
       "    </tr>\n",
       "  </thead>\n",
       "  <tbody>\n",
       "    <tr>\n",
       "      <th>0</th>\n",
       "      <td>2378758</td>\n",
       "      <td>59185AA5-D7AE-4F6F-BB88-F46E8A2FE242</td>\n",
       "      <td>11</td>\n",
       "      <td>2019-09-02 11:03:11</td>\n",
       "      <td>8.0</td>\n",
       "      <td>15</td>\n",
       "      <td>27</td>\n",
       "      <td>2</td>\n",
       "      <td>0.533333</td>\n",
       "    </tr>\n",
       "    <tr>\n",
       "      <th>1</th>\n",
       "      <td>2380620</td>\n",
       "      <td>F33A48D1-1EA7-45BC-9961-223572FFF19D</td>\n",
       "      <td>11</td>\n",
       "      <td>2019-09-02 16:50:52</td>\n",
       "      <td>0.0</td>\n",
       "      <td>10</td>\n",
       "      <td>48</td>\n",
       "      <td>2</td>\n",
       "      <td>0.000000</td>\n",
       "    </tr>\n",
       "    <tr>\n",
       "      <th>2</th>\n",
       "      <td>2383941</td>\n",
       "      <td>59185AA5-D7AE-4F6F-BB88-F46E8A2FE242</td>\n",
       "      <td>11</td>\n",
       "      <td>2019-09-03 08:34:14</td>\n",
       "      <td>6.0</td>\n",
       "      <td>15</td>\n",
       "      <td>27</td>\n",
       "      <td>2</td>\n",
       "      <td>0.400000</td>\n",
       "    </tr>\n",
       "  </tbody>\n",
       "</table>\n",
       "</div>"
      ],
      "text/plain": [
       "        Id                         ParticipantId  StudentParallel  \\\n",
       "0  2378758  59185AA5-D7AE-4F6F-BB88-F46E8A2FE242               11   \n",
       "1  2380620  F33A48D1-1EA7-45BC-9961-223572FFF19D               11   \n",
       "2  2383941  59185AA5-D7AE-4F6F-BB88-F46E8A2FE242               11   \n",
       "\n",
       "              TestDate  Mark  MaxMark  SubjectId  Partition  Real_Mark  \n",
       "0  2019-09-02 11:03:11   8.0       15         27          2   0.533333  \n",
       "1  2019-09-02 16:50:52   0.0       10         48          2   0.000000  \n",
       "2  2019-09-03 08:34:14   6.0       15         27          2   0.400000  "
      ]
     },
     "execution_count": 45,
     "metadata": {},
     "output_type": "execute_result"
    }
   ],
   "source": [
    "SelfDiagnosticResultDetails[\"Mark\"] = pd.to_numeric(SelfDiagnosticResultDetails[\"Mark\"], downcast=\"float\")\n",
    "SelfDiagnosticResultDetails['Real_Mark'] = SelfDiagnosticResultDetails['Mark']/SelfDiagnosticResultDetails['MaxMark']\n",
    "SelfDiagnosticResultDetails.head(3)"
   ]
  },
  {
   "cell_type": "code",
   "execution_count": null,
   "metadata": {},
   "outputs": [],
   "source": [
    " "
   ]
  },
  {
   "cell_type": "code",
   "execution_count": 46,
   "metadata": {},
   "outputs": [],
   "source": [
    "# SelfDiagnosticResultDetails.groupby(['ParticipantId', 'SubjectId'],\n",
    "#                                     as_index=False).agg(Diag_Mark_mean=pd.NamedAgg(column=\"Mark\", aggfunc=\"mean\"),\n",
    "#                                                          Diag_Mark_std=pd.NamedAgg(column=\"Mark\", aggfunc=\"std\"),\n",
    "#                                                        Diag_Real_Mark_mean=pd.NamedAgg(column=\"Real_Mark\", aggfunc=\"mean\"),\n",
    "#                                                        Diag_Mark_count=pd.NamedAgg(column=\"Mark\", aggfunc=\"count\"))"
   ]
  },
  {
   "cell_type": "code",
   "execution_count": 47,
   "metadata": {},
   "outputs": [
    {
     "name": "stdout",
     "output_type": "stream",
     "text": [
      "(4821, 14)\n",
      "(4821, 18)\n"
     ]
    }
   ],
   "source": [
    "GR_SelfDiagnosticResultDetails = SelfDiagnosticResultDetails.groupby(['ParticipantId', 'SubjectId'],\n",
    "                                    as_index=False).agg(Diag_Mark_mean=pd.NamedAgg(column=\"Mark\", aggfunc=\"mean\"),\n",
    "                                                         Diag_Mark_std=pd.NamedAgg(column=\"Mark\", aggfunc=\"std\"),\n",
    "                                                       Diag_Real_Mark_mean=pd.NamedAgg(column=\"Real_Mark\", aggfunc=\"mean\"),\n",
    "                                                       Diag_Mark_count=pd.NamedAgg(column=\"Mark\", aggfunc=\"count\"))\n",
    "\n",
    "Diag_Mark_std_mean = GR_SelfDiagnosticResultDetails.Diag_Mark_std.mean()\n",
    "GR_SelfDiagnosticResultDetails.Diag_Mark_std.fillna(Diag_Mark_std_mean, inplace=True)\n",
    "\n",
    "\n",
    "print(DATA.shape)\n",
    "DATA = DATA.merge(GR_SelfDiagnosticResultDetails, how='left', on=['ParticipantId','SubjectId'])\n",
    "print(DATA.shape)\n",
    "DATA.fillna(0, inplace=True)"
   ]
  },
  {
   "cell_type": "code",
   "execution_count": 48,
   "metadata": {},
   "outputs": [
    {
     "data": {
      "text/html": [
       "<div>\n",
       "<style scoped>\n",
       "    .dataframe tbody tr th:only-of-type {\n",
       "        vertical-align: middle;\n",
       "    }\n",
       "\n",
       "    .dataframe tbody tr th {\n",
       "        vertical-align: top;\n",
       "    }\n",
       "\n",
       "    .dataframe thead th {\n",
       "        text-align: right;\n",
       "    }\n",
       "</style>\n",
       "<table border=\"1\" class=\"dataframe\">\n",
       "  <thead>\n",
       "    <tr style=\"text-align: right;\">\n",
       "      <th></th>\n",
       "      <th>ParticipantId</th>\n",
       "      <th>DateExam</th>\n",
       "      <th>MarkPercent</th>\n",
       "      <th>SubjectId</th>\n",
       "      <th>Parallel</th>\n",
       "      <th>OOCode</th>\n",
       "      <th>Mark_school_mean</th>\n",
       "      <th>Mark_school_std</th>\n",
       "      <th>Mark_school_count</th>\n",
       "      <th>SubjectId_-1.0</th>\n",
       "      <th>Type</th>\n",
       "      <th>SubjectId_olimp</th>\n",
       "      <th>Mark_mean</th>\n",
       "      <th>Mark_count</th>\n",
       "      <th>Diag_Mark_mean</th>\n",
       "      <th>Diag_Mark_std</th>\n",
       "      <th>Diag_Real_Mark_mean</th>\n",
       "      <th>Diag_Mark_count</th>\n",
       "    </tr>\n",
       "  </thead>\n",
       "  <tbody>\n",
       "    <tr>\n",
       "      <th>0</th>\n",
       "      <td>FB18BA15-0699-47CD-8346-DDA81643CD39</td>\n",
       "      <td>2020-07-10</td>\n",
       "      <td>87</td>\n",
       "      <td>49</td>\n",
       "      <td>11</td>\n",
       "      <td>B8FE2712-B51A-4D47-B0E9-B679BA4CC5E9</td>\n",
       "      <td>62.000000</td>\n",
       "      <td>16.502525</td>\n",
       "      <td>7</td>\n",
       "      <td>-1.0</td>\n",
       "      <td>-1.0</td>\n",
       "      <td>-1.0</td>\n",
       "      <td>0.0</td>\n",
       "      <td>0.0</td>\n",
       "      <td>0.000</td>\n",
       "      <td>0.000000</td>\n",
       "      <td>0.000000</td>\n",
       "      <td>0.0</td>\n",
       "    </tr>\n",
       "    <tr>\n",
       "      <th>1</th>\n",
       "      <td>E8B2DBBD-A7D3-4ABA-82A4-FB8E3DBC3194</td>\n",
       "      <td>2020-07-10</td>\n",
       "      <td>46</td>\n",
       "      <td>49</td>\n",
       "      <td>11</td>\n",
       "      <td>9B6BA432-DCE2-4ECF-9A86-2B9350634A17</td>\n",
       "      <td>50.833333</td>\n",
       "      <td>10.980285</td>\n",
       "      <td>6</td>\n",
       "      <td>-1.0</td>\n",
       "      <td>-1.0</td>\n",
       "      <td>-1.0</td>\n",
       "      <td>0.0</td>\n",
       "      <td>0.0</td>\n",
       "      <td>0.000</td>\n",
       "      <td>0.000000</td>\n",
       "      <td>0.000000</td>\n",
       "      <td>0.0</td>\n",
       "    </tr>\n",
       "    <tr>\n",
       "      <th>2</th>\n",
       "      <td>4B72588C-D517-4111-B38A-2CBFD5B70950</td>\n",
       "      <td>2020-07-13</td>\n",
       "      <td>1</td>\n",
       "      <td>77</td>\n",
       "      <td>11</td>\n",
       "      <td>FDE67AB3-7330-4C39-AFA9-BA2FB8D6D91A</td>\n",
       "      <td>44.000000</td>\n",
       "      <td>42.508823</td>\n",
       "      <td>3</td>\n",
       "      <td>-1.0</td>\n",
       "      <td>-1.0</td>\n",
       "      <td>-1.0</td>\n",
       "      <td>0.0</td>\n",
       "      <td>0.0</td>\n",
       "      <td>7.625</td>\n",
       "      <td>14.421586</td>\n",
       "      <td>0.143868</td>\n",
       "      <td>8.0</td>\n",
       "    </tr>\n",
       "    <tr>\n",
       "      <th>3</th>\n",
       "      <td>892EA6DC-EDA4-49F8-AB16-A9BD742F1740</td>\n",
       "      <td>2020-07-20</td>\n",
       "      <td>81</td>\n",
       "      <td>9</td>\n",
       "      <td>11</td>\n",
       "      <td>FCBBBC65-A1D9-4E28-B821-32AFA0B3A1F0</td>\n",
       "      <td>81.000000</td>\n",
       "      <td>14.790201</td>\n",
       "      <td>1</td>\n",
       "      <td>-1.0</td>\n",
       "      <td>-1.0</td>\n",
       "      <td>-1.0</td>\n",
       "      <td>0.0</td>\n",
       "      <td>0.0</td>\n",
       "      <td>39.250</td>\n",
       "      <td>16.660832</td>\n",
       "      <td>0.820402</td>\n",
       "      <td>4.0</td>\n",
       "    </tr>\n",
       "    <tr>\n",
       "      <th>4</th>\n",
       "      <td>62B38081-A0E4-401B-983B-2383F3B7FE78</td>\n",
       "      <td>2020-07-10</td>\n",
       "      <td>18</td>\n",
       "      <td>49</td>\n",
       "      <td>11</td>\n",
       "      <td>A9753061-6563-4475-A727-DB15BB988349</td>\n",
       "      <td>36.888889</td>\n",
       "      <td>14.216579</td>\n",
       "      <td>9</td>\n",
       "      <td>-1.0</td>\n",
       "      <td>-1.0</td>\n",
       "      <td>-1.0</td>\n",
       "      <td>0.0</td>\n",
       "      <td>0.0</td>\n",
       "      <td>0.000</td>\n",
       "      <td>0.000000</td>\n",
       "      <td>0.000000</td>\n",
       "      <td>0.0</td>\n",
       "    </tr>\n",
       "  </tbody>\n",
       "</table>\n",
       "</div>"
      ],
      "text/plain": [
       "                          ParticipantId    DateExam  MarkPercent  SubjectId  \\\n",
       "0  FB18BA15-0699-47CD-8346-DDA81643CD39  2020-07-10           87         49   \n",
       "1  E8B2DBBD-A7D3-4ABA-82A4-FB8E3DBC3194  2020-07-10           46         49   \n",
       "2  4B72588C-D517-4111-B38A-2CBFD5B70950  2020-07-13            1         77   \n",
       "3  892EA6DC-EDA4-49F8-AB16-A9BD742F1740  2020-07-20           81          9   \n",
       "4  62B38081-A0E4-401B-983B-2383F3B7FE78  2020-07-10           18         49   \n",
       "\n",
       "   Parallel                                OOCode  Mark_school_mean  \\\n",
       "0        11  B8FE2712-B51A-4D47-B0E9-B679BA4CC5E9         62.000000   \n",
       "1        11  9B6BA432-DCE2-4ECF-9A86-2B9350634A17         50.833333   \n",
       "2        11  FDE67AB3-7330-4C39-AFA9-BA2FB8D6D91A         44.000000   \n",
       "3        11  FCBBBC65-A1D9-4E28-B821-32AFA0B3A1F0         81.000000   \n",
       "4        11  A9753061-6563-4475-A727-DB15BB988349         36.888889   \n",
       "\n",
       "   Mark_school_std  Mark_school_count  SubjectId_-1.0  Type  SubjectId_olimp  \\\n",
       "0        16.502525                  7            -1.0  -1.0             -1.0   \n",
       "1        10.980285                  6            -1.0  -1.0             -1.0   \n",
       "2        42.508823                  3            -1.0  -1.0             -1.0   \n",
       "3        14.790201                  1            -1.0  -1.0             -1.0   \n",
       "4        14.216579                  9            -1.0  -1.0             -1.0   \n",
       "\n",
       "   Mark_mean  Mark_count  Diag_Mark_mean  Diag_Mark_std  Diag_Real_Mark_mean  \\\n",
       "0        0.0         0.0           0.000       0.000000             0.000000   \n",
       "1        0.0         0.0           0.000       0.000000             0.000000   \n",
       "2        0.0         0.0           7.625      14.421586             0.143868   \n",
       "3        0.0         0.0          39.250      16.660832             0.820402   \n",
       "4        0.0         0.0           0.000       0.000000             0.000000   \n",
       "\n",
       "   Diag_Mark_count  \n",
       "0              0.0  \n",
       "1              0.0  \n",
       "2              8.0  \n",
       "3              4.0  \n",
       "4              0.0  "
      ]
     },
     "execution_count": 48,
     "metadata": {},
     "output_type": "execute_result"
    }
   ],
   "source": [
    "DATA.head()"
   ]
  },
  {
   "cell_type": "code",
   "execution_count": 49,
   "metadata": {},
   "outputs": [
    {
     "name": "stdout",
     "output_type": "stream",
     "text": [
      "(4821, 18)\n",
      "(4821, 22)\n"
     ]
    }
   ],
   "source": [
    "School_Mark_GR = DATA.groupby(['OOCode', 'SubjectId'],\n",
    "                    as_index=False).agg(\n",
    "                    School_Diag_Mark_mean=pd.NamedAgg(column=\"Diag_Mark_mean\", aggfunc=\"mean\"),\n",
    "                    School_Diag_Mark_std=pd.NamedAgg(column=\"Diag_Mark_std\", aggfunc=\"std\"),\n",
    "                    School_Diag_Real_Mark_mean=pd.NamedAgg(column=\"Diag_Real_Mark_mean\", aggfunc=\"mean\"),\n",
    "                    School_Diag_Mark_count=pd.NamedAgg(column=\"Diag_Mark_count\", aggfunc=\"count\"))\n",
    "\n",
    " \n",
    "\n",
    "School_Diag_Mark_std_mean = School_Mark_GR.School_Diag_Mark_std.mean()\n",
    "School_Mark_GR.School_Diag_Mark_std.fillna(School_Diag_Mark_std_mean, inplace=True)\n",
    "\n",
    "\n",
    "print(DATA.shape)\n",
    "DATA = DATA.merge(School_Mark_GR, how='left', on=['OOCode','SubjectId'])\n",
    "print(DATA.shape)\n",
    "DATA.fillna(0, inplace=True)"
   ]
  },
  {
   "cell_type": "code",
   "execution_count": null,
   "metadata": {},
   "outputs": [],
   "source": [
    " "
   ]
  },
  {
   "cell_type": "code",
   "execution_count": null,
   "metadata": {},
   "outputs": [],
   "source": [
    " "
   ]
  },
  {
   "cell_type": "code",
   "execution_count": null,
   "metadata": {},
   "outputs": [],
   "source": []
  },
  {
   "cell_type": "code",
   "execution_count": null,
   "metadata": {},
   "outputs": [],
   "source": [
    " "
   ]
  },
  {
   "cell_type": "markdown",
   "metadata": {},
   "source": [
    "# Subjects"
   ]
  },
  {
   "cell_type": "code",
   "execution_count": 53,
   "metadata": {},
   "outputs": [
    {
     "data": {
      "text/html": [
       "<div>\n",
       "<style scoped>\n",
       "    .dataframe tbody tr th:only-of-type {\n",
       "        vertical-align: middle;\n",
       "    }\n",
       "\n",
       "    .dataframe tbody tr th {\n",
       "        vertical-align: top;\n",
       "    }\n",
       "\n",
       "    .dataframe thead th {\n",
       "        text-align: right;\n",
       "    }\n",
       "</style>\n",
       "<table border=\"1\" class=\"dataframe\">\n",
       "  <thead>\n",
       "    <tr style=\"text-align: right;\">\n",
       "      <th></th>\n",
       "      <th>Id</th>\n",
       "      <th>Name</th>\n",
       "    </tr>\n",
       "  </thead>\n",
       "  <tbody>\n",
       "  </tbody>\n",
       "</table>\n",
       "</div>"
      ],
      "text/plain": [
       "Empty DataFrame\n",
       "Columns: [Id, Name]\n",
       "Index: []"
      ]
     },
     "execution_count": 53,
     "metadata": {},
     "output_type": "execute_result"
    }
   ],
   "source": [
    "Subjects = pd.read_csv('hackathon_valid_data/subjects.csv', sep=',')\n",
    "Subjects.head()\n",
    "#Subjects[Subjects.Id.isin([4,76, 82])]"
   ]
  },
  {
   "cell_type": "code",
   "execution_count": null,
   "metadata": {},
   "outputs": [],
   "source": [
    " "
   ]
  },
  {
   "cell_type": "markdown",
   "metadata": {},
   "source": [
    "# Генерация признаков"
   ]
  },
  {
   "cell_type": "code",
   "execution_count": 54,
   "metadata": {},
   "outputs": [],
   "source": [
    "#Разбиваем дату на три фичи год/день/месяц\n",
    "tmp  = DATA['DateExam'].str.split('-')\n",
    "#DATA['year'] = tmp.apply(lambda x: int(x[0]))\n",
    "DATA['mounth'] = tmp.apply(lambda x: int(x[1]))\n",
    "DATA['day'] = tmp.apply(lambda x: int(x[2]))"
   ]
  },
  {
   "cell_type": "code",
   "execution_count": 55,
   "metadata": {},
   "outputs": [
    {
     "data": {
      "text/html": [
       "<div>\n",
       "<style scoped>\n",
       "    .dataframe tbody tr th:only-of-type {\n",
       "        vertical-align: middle;\n",
       "    }\n",
       "\n",
       "    .dataframe tbody tr th {\n",
       "        vertical-align: top;\n",
       "    }\n",
       "\n",
       "    .dataframe thead th {\n",
       "        text-align: right;\n",
       "    }\n",
       "</style>\n",
       "<table border=\"1\" class=\"dataframe\">\n",
       "  <thead>\n",
       "    <tr style=\"text-align: right;\">\n",
       "      <th></th>\n",
       "      <th>ParticipantId</th>\n",
       "      <th>DateExam</th>\n",
       "      <th>MarkPercent</th>\n",
       "      <th>SubjectId</th>\n",
       "      <th>Parallel</th>\n",
       "      <th>OOCode</th>\n",
       "      <th>Mark_school_mean</th>\n",
       "      <th>Mark_school_std</th>\n",
       "      <th>Mark_school_count</th>\n",
       "      <th>SubjectId_-1.0</th>\n",
       "      <th>...</th>\n",
       "      <th>Diag_Mark_mean</th>\n",
       "      <th>Diag_Mark_std</th>\n",
       "      <th>Diag_Real_Mark_mean</th>\n",
       "      <th>Diag_Mark_count</th>\n",
       "      <th>School_Diag_Mark_mean</th>\n",
       "      <th>School_Diag_Mark_std</th>\n",
       "      <th>School_Diag_Real_Mark_mean</th>\n",
       "      <th>School_Diag_Mark_count</th>\n",
       "      <th>mounth</th>\n",
       "      <th>day</th>\n",
       "    </tr>\n",
       "  </thead>\n",
       "  <tbody>\n",
       "    <tr>\n",
       "      <th>0</th>\n",
       "      <td>FB18BA15-0699-47CD-8346-DDA81643CD39</td>\n",
       "      <td>2020-07-10</td>\n",
       "      <td>87</td>\n",
       "      <td>49</td>\n",
       "      <td>11</td>\n",
       "      <td>B8FE2712-B51A-4D47-B0E9-B679BA4CC5E9</td>\n",
       "      <td>62.000000</td>\n",
       "      <td>16.502525</td>\n",
       "      <td>7</td>\n",
       "      <td>-1.0</td>\n",
       "      <td>...</td>\n",
       "      <td>0.000</td>\n",
       "      <td>0.000000</td>\n",
       "      <td>0.000000</td>\n",
       "      <td>0.0</td>\n",
       "      <td>0.000000</td>\n",
       "      <td>0.000000</td>\n",
       "      <td>0.000000</td>\n",
       "      <td>7</td>\n",
       "      <td>7</td>\n",
       "      <td>10</td>\n",
       "    </tr>\n",
       "    <tr>\n",
       "      <th>1</th>\n",
       "      <td>E8B2DBBD-A7D3-4ABA-82A4-FB8E3DBC3194</td>\n",
       "      <td>2020-07-10</td>\n",
       "      <td>46</td>\n",
       "      <td>49</td>\n",
       "      <td>11</td>\n",
       "      <td>9B6BA432-DCE2-4ECF-9A86-2B9350634A17</td>\n",
       "      <td>50.833333</td>\n",
       "      <td>10.980285</td>\n",
       "      <td>6</td>\n",
       "      <td>-1.0</td>\n",
       "      <td>...</td>\n",
       "      <td>0.000</td>\n",
       "      <td>0.000000</td>\n",
       "      <td>0.000000</td>\n",
       "      <td>0.0</td>\n",
       "      <td>0.000000</td>\n",
       "      <td>0.000000</td>\n",
       "      <td>0.000000</td>\n",
       "      <td>6</td>\n",
       "      <td>7</td>\n",
       "      <td>10</td>\n",
       "    </tr>\n",
       "    <tr>\n",
       "      <th>2</th>\n",
       "      <td>4B72588C-D517-4111-B38A-2CBFD5B70950</td>\n",
       "      <td>2020-07-13</td>\n",
       "      <td>1</td>\n",
       "      <td>77</td>\n",
       "      <td>11</td>\n",
       "      <td>FDE67AB3-7330-4C39-AFA9-BA2FB8D6D91A</td>\n",
       "      <td>44.000000</td>\n",
       "      <td>42.508823</td>\n",
       "      <td>3</td>\n",
       "      <td>-1.0</td>\n",
       "      <td>...</td>\n",
       "      <td>7.625</td>\n",
       "      <td>14.421586</td>\n",
       "      <td>0.143868</td>\n",
       "      <td>8.0</td>\n",
       "      <td>2.541667</td>\n",
       "      <td>8.326307</td>\n",
       "      <td>0.047956</td>\n",
       "      <td>3</td>\n",
       "      <td>7</td>\n",
       "      <td>13</td>\n",
       "    </tr>\n",
       "    <tr>\n",
       "      <th>3</th>\n",
       "      <td>892EA6DC-EDA4-49F8-AB16-A9BD742F1740</td>\n",
       "      <td>2020-07-20</td>\n",
       "      <td>81</td>\n",
       "      <td>9</td>\n",
       "      <td>11</td>\n",
       "      <td>FCBBBC65-A1D9-4E28-B821-32AFA0B3A1F0</td>\n",
       "      <td>81.000000</td>\n",
       "      <td>14.790201</td>\n",
       "      <td>1</td>\n",
       "      <td>-1.0</td>\n",
       "      <td>...</td>\n",
       "      <td>39.250</td>\n",
       "      <td>16.660832</td>\n",
       "      <td>0.820402</td>\n",
       "      <td>4.0</td>\n",
       "      <td>39.250000</td>\n",
       "      <td>0.992706</td>\n",
       "      <td>0.820402</td>\n",
       "      <td>1</td>\n",
       "      <td>7</td>\n",
       "      <td>20</td>\n",
       "    </tr>\n",
       "    <tr>\n",
       "      <th>4</th>\n",
       "      <td>62B38081-A0E4-401B-983B-2383F3B7FE78</td>\n",
       "      <td>2020-07-10</td>\n",
       "      <td>18</td>\n",
       "      <td>49</td>\n",
       "      <td>11</td>\n",
       "      <td>A9753061-6563-4475-A727-DB15BB988349</td>\n",
       "      <td>36.888889</td>\n",
       "      <td>14.216579</td>\n",
       "      <td>9</td>\n",
       "      <td>-1.0</td>\n",
       "      <td>...</td>\n",
       "      <td>0.000</td>\n",
       "      <td>0.000000</td>\n",
       "      <td>0.000000</td>\n",
       "      <td>0.0</td>\n",
       "      <td>0.000000</td>\n",
       "      <td>0.000000</td>\n",
       "      <td>0.000000</td>\n",
       "      <td>9</td>\n",
       "      <td>7</td>\n",
       "      <td>10</td>\n",
       "    </tr>\n",
       "  </tbody>\n",
       "</table>\n",
       "<p>5 rows × 24 columns</p>\n",
       "</div>"
      ],
      "text/plain": [
       "                          ParticipantId    DateExam  MarkPercent  SubjectId  \\\n",
       "0  FB18BA15-0699-47CD-8346-DDA81643CD39  2020-07-10           87         49   \n",
       "1  E8B2DBBD-A7D3-4ABA-82A4-FB8E3DBC3194  2020-07-10           46         49   \n",
       "2  4B72588C-D517-4111-B38A-2CBFD5B70950  2020-07-13            1         77   \n",
       "3  892EA6DC-EDA4-49F8-AB16-A9BD742F1740  2020-07-20           81          9   \n",
       "4  62B38081-A0E4-401B-983B-2383F3B7FE78  2020-07-10           18         49   \n",
       "\n",
       "   Parallel                                OOCode  Mark_school_mean  \\\n",
       "0        11  B8FE2712-B51A-4D47-B0E9-B679BA4CC5E9         62.000000   \n",
       "1        11  9B6BA432-DCE2-4ECF-9A86-2B9350634A17         50.833333   \n",
       "2        11  FDE67AB3-7330-4C39-AFA9-BA2FB8D6D91A         44.000000   \n",
       "3        11  FCBBBC65-A1D9-4E28-B821-32AFA0B3A1F0         81.000000   \n",
       "4        11  A9753061-6563-4475-A727-DB15BB988349         36.888889   \n",
       "\n",
       "   Mark_school_std  Mark_school_count  SubjectId_-1.0  ...  Diag_Mark_mean  \\\n",
       "0        16.502525                  7            -1.0  ...           0.000   \n",
       "1        10.980285                  6            -1.0  ...           0.000   \n",
       "2        42.508823                  3            -1.0  ...           7.625   \n",
       "3        14.790201                  1            -1.0  ...          39.250   \n",
       "4        14.216579                  9            -1.0  ...           0.000   \n",
       "\n",
       "   Diag_Mark_std  Diag_Real_Mark_mean  Diag_Mark_count  School_Diag_Mark_mean  \\\n",
       "0       0.000000             0.000000              0.0               0.000000   \n",
       "1       0.000000             0.000000              0.0               0.000000   \n",
       "2      14.421586             0.143868              8.0               2.541667   \n",
       "3      16.660832             0.820402              4.0              39.250000   \n",
       "4       0.000000             0.000000              0.0               0.000000   \n",
       "\n",
       "   School_Diag_Mark_std  School_Diag_Real_Mark_mean  School_Diag_Mark_count  \\\n",
       "0              0.000000                    0.000000                       7   \n",
       "1              0.000000                    0.000000                       6   \n",
       "2              8.326307                    0.047956                       3   \n",
       "3              0.992706                    0.820402                       1   \n",
       "4              0.000000                    0.000000                       9   \n",
       "\n",
       "   mounth  day  \n",
       "0       7   10  \n",
       "1       7   10  \n",
       "2       7   13  \n",
       "3       7   20  \n",
       "4       7   10  \n",
       "\n",
       "[5 rows x 24 columns]"
      ]
     },
     "execution_count": 55,
     "metadata": {},
     "output_type": "execute_result"
    }
   ],
   "source": [
    "# DATA.drop('DateExam',inplace=True, axis=1)\n",
    "DATA.head()"
   ]
  },
  {
   "cell_type": "code",
   "execution_count": 56,
   "metadata": {},
   "outputs": [
    {
     "name": "stdout",
     "output_type": "stream",
     "text": [
      "До (4821, 24)\n",
      "После (4821, 24)\n"
     ]
    },
    {
     "data": {
      "text/html": [
       "<div>\n",
       "<style scoped>\n",
       "    .dataframe tbody tr th:only-of-type {\n",
       "        vertical-align: middle;\n",
       "    }\n",
       "\n",
       "    .dataframe tbody tr th {\n",
       "        vertical-align: top;\n",
       "    }\n",
       "\n",
       "    .dataframe thead th {\n",
       "        text-align: right;\n",
       "    }\n",
       "</style>\n",
       "<table border=\"1\" class=\"dataframe\">\n",
       "  <thead>\n",
       "    <tr style=\"text-align: right;\">\n",
       "      <th></th>\n",
       "      <th>ParticipantId</th>\n",
       "      <th>DateExam</th>\n",
       "      <th>MarkPercent</th>\n",
       "      <th>SubjectId</th>\n",
       "      <th>Parallel</th>\n",
       "      <th>OOCode</th>\n",
       "      <th>Mark_school_mean</th>\n",
       "      <th>Mark_school_std</th>\n",
       "      <th>Mark_school_count</th>\n",
       "      <th>SubjectId_-1.0</th>\n",
       "      <th>...</th>\n",
       "      <th>Diag_Mark_std</th>\n",
       "      <th>Diag_Real_Mark_mean</th>\n",
       "      <th>Diag_Mark_count</th>\n",
       "      <th>School_Diag_Mark_mean</th>\n",
       "      <th>School_Diag_Mark_std</th>\n",
       "      <th>School_Diag_Real_Mark_mean</th>\n",
       "      <th>School_Diag_Mark_count</th>\n",
       "      <th>mounth</th>\n",
       "      <th>day</th>\n",
       "      <th>Subject_count</th>\n",
       "    </tr>\n",
       "  </thead>\n",
       "  <tbody>\n",
       "    <tr>\n",
       "      <th>0</th>\n",
       "      <td>FB18BA15-0699-47CD-8346-DDA81643CD39</td>\n",
       "      <td>2020-07-10</td>\n",
       "      <td>87</td>\n",
       "      <td>49</td>\n",
       "      <td>11</td>\n",
       "      <td>B8FE2712-B51A-4D47-B0E9-B679BA4CC5E9</td>\n",
       "      <td>62.000000</td>\n",
       "      <td>16.502525</td>\n",
       "      <td>7</td>\n",
       "      <td>-1.0</td>\n",
       "      <td>...</td>\n",
       "      <td>0.0</td>\n",
       "      <td>0.0</td>\n",
       "      <td>0.0</td>\n",
       "      <td>0.0</td>\n",
       "      <td>0.0</td>\n",
       "      <td>0.0</td>\n",
       "      <td>7</td>\n",
       "      <td>7</td>\n",
       "      <td>10</td>\n",
       "      <td>4</td>\n",
       "    </tr>\n",
       "    <tr>\n",
       "      <th>1</th>\n",
       "      <td>E8B2DBBD-A7D3-4ABA-82A4-FB8E3DBC3194</td>\n",
       "      <td>2020-07-10</td>\n",
       "      <td>46</td>\n",
       "      <td>49</td>\n",
       "      <td>11</td>\n",
       "      <td>9B6BA432-DCE2-4ECF-9A86-2B9350634A17</td>\n",
       "      <td>50.833333</td>\n",
       "      <td>10.980285</td>\n",
       "      <td>6</td>\n",
       "      <td>-1.0</td>\n",
       "      <td>...</td>\n",
       "      <td>0.0</td>\n",
       "      <td>0.0</td>\n",
       "      <td>0.0</td>\n",
       "      <td>0.0</td>\n",
       "      <td>0.0</td>\n",
       "      <td>0.0</td>\n",
       "      <td>6</td>\n",
       "      <td>7</td>\n",
       "      <td>10</td>\n",
       "      <td>3</td>\n",
       "    </tr>\n",
       "  </tbody>\n",
       "</table>\n",
       "<p>2 rows × 25 columns</p>\n",
       "</div>"
      ],
      "text/plain": [
       "                          ParticipantId    DateExam  MarkPercent  SubjectId  \\\n",
       "0  FB18BA15-0699-47CD-8346-DDA81643CD39  2020-07-10           87         49   \n",
       "1  E8B2DBBD-A7D3-4ABA-82A4-FB8E3DBC3194  2020-07-10           46         49   \n",
       "\n",
       "   Parallel                                OOCode  Mark_school_mean  \\\n",
       "0        11  B8FE2712-B51A-4D47-B0E9-B679BA4CC5E9         62.000000   \n",
       "1        11  9B6BA432-DCE2-4ECF-9A86-2B9350634A17         50.833333   \n",
       "\n",
       "   Mark_school_std  Mark_school_count  SubjectId_-1.0  ...  Diag_Mark_std  \\\n",
       "0        16.502525                  7            -1.0  ...            0.0   \n",
       "1        10.980285                  6            -1.0  ...            0.0   \n",
       "\n",
       "   Diag_Real_Mark_mean  Diag_Mark_count  School_Diag_Mark_mean  \\\n",
       "0                  0.0              0.0                    0.0   \n",
       "1                  0.0              0.0                    0.0   \n",
       "\n",
       "   School_Diag_Mark_std  School_Diag_Real_Mark_mean  School_Diag_Mark_count  \\\n",
       "0                   0.0                         0.0                       7   \n",
       "1                   0.0                         0.0                       6   \n",
       "\n",
       "   mounth  day  Subject_count  \n",
       "0       7   10              4  \n",
       "1       7   10              3  \n",
       "\n",
       "[2 rows x 25 columns]"
      ]
     },
     "execution_count": 56,
     "metadata": {},
     "output_type": "execute_result"
    }
   ],
   "source": [
    "print('До',DATA.shape)\n",
    "DATA.drop_duplicates(inplace=True)\n",
    "print('После', DATA.shape)\n",
    "\n",
    "\n",
    "new_features = DATA.groupby('ParticipantId', as_index=False).agg({\"SubjectId\":'count'}).copy()\n",
    "new_features.rename(columns = {'SubjectId':'Subject_count'}, inplace=True) \n",
    "DATA = DATA.merge(new_features, on='ParticipantId', how='left')\n",
    "DATA.head(2)"
   ]
  },
  {
   "cell_type": "code",
   "execution_count": 57,
   "metadata": {},
   "outputs": [
    {
     "data": {
      "text/plain": [
       "3    2343\n",
       "4    2080\n",
       "5     280\n",
       "2     100\n",
       "6      12\n",
       "1       6\n",
       "Name: Subject_count, dtype: int64"
      ]
     },
     "execution_count": 57,
     "metadata": {},
     "output_type": "execute_result"
    }
   ],
   "source": [
    "DATA.Subject_count.value_counts() # Странно"
   ]
  },
  {
   "cell_type": "code",
   "execution_count": 58,
   "metadata": {},
   "outputs": [],
   "source": [
    "from matplotlib import pyplot\n",
    "#Зададим размеры графиков\n",
    "plt.rcParams.update({'figure.figsize': (5, 5)})\n",
    "plt.rcParams.update({'font.size': 11})"
   ]
  },
  {
   "cell_type": "code",
   "execution_count": 59,
   "metadata": {},
   "outputs": [
    {
     "data": {
      "text/plain": [
       "25"
      ]
     },
     "execution_count": 59,
     "metadata": {},
     "output_type": "execute_result"
    }
   ],
   "source": [
    "len(DATA['OOCode'].value_counts()[DATA['OOCode'].value_counts()>30])"
   ]
  },
  {
   "cell_type": "code",
   "execution_count": null,
   "metadata": {},
   "outputs": [],
   "source": [
    " "
   ]
  },
  {
   "cell_type": "code",
   "execution_count": 60,
   "metadata": {},
   "outputs": [],
   "source": [
    "#Перекодируем типы секций в группы:\n",
    "\n",
    "\n",
    "voc_dict = dict(DATA['OOCode'].value_counts())\n",
    "voc_dict = dict(zip(voc_dict.keys(), list(range(len(voc_dict)))))\n",
    "\n",
    "LIMIT = 100\n",
    "#Поставим ограничение на частотность\n",
    "for k, f in voc_dict.items():\n",
    "    if f < LIMIT:\n",
    "        voc_dict[k]=-1\n",
    "\n",
    "#print(voc_dict)"
   ]
  },
  {
   "cell_type": "code",
   "execution_count": 61,
   "metadata": {},
   "outputs": [],
   "source": [
    "DATA['OOCode'] = DATA['OOCode'].map(voc_dict)\n",
    "#sub_f.head()\n",
    " "
   ]
  },
  {
   "cell_type": "markdown",
   "metadata": {},
   "source": [
    "# Сохранение обработанных данных"
   ]
  },
  {
   "cell_type": "code",
   "execution_count": 61,
   "metadata": {},
   "outputs": [],
   "source": [
    "# DATA.to_csv('PrePro_data/TRAIN.csv')"
   ]
  },
  {
   "cell_type": "markdown",
   "metadata": {},
   "source": [
    "# Загрузка сохраненных данных"
   ]
  },
  {
   "cell_type": "code",
   "execution_count": 62,
   "metadata": {},
   "outputs": [
    {
     "data": {
      "text/html": [
       "<div>\n",
       "<style scoped>\n",
       "    .dataframe tbody tr th:only-of-type {\n",
       "        vertical-align: middle;\n",
       "    }\n",
       "\n",
       "    .dataframe tbody tr th {\n",
       "        vertical-align: top;\n",
       "    }\n",
       "\n",
       "    .dataframe thead th {\n",
       "        text-align: right;\n",
       "    }\n",
       "</style>\n",
       "<table border=\"1\" class=\"dataframe\">\n",
       "  <thead>\n",
       "    <tr style=\"text-align: right;\">\n",
       "      <th></th>\n",
       "      <th>ParticipantId</th>\n",
       "      <th>DateExam</th>\n",
       "      <th>MarkPercent</th>\n",
       "      <th>SubjectId</th>\n",
       "      <th>Parallel</th>\n",
       "      <th>OOCode</th>\n",
       "      <th>Mark_school_mean</th>\n",
       "      <th>Mark_school_std</th>\n",
       "      <th>Mark_school_count</th>\n",
       "      <th>SubjectId_-1.0</th>\n",
       "      <th>...</th>\n",
       "      <th>Diag_Mark_std</th>\n",
       "      <th>Diag_Real_Mark_mean</th>\n",
       "      <th>Diag_Mark_count</th>\n",
       "      <th>School_Diag_Mark_mean</th>\n",
       "      <th>School_Diag_Mark_std</th>\n",
       "      <th>School_Diag_Real_Mark_mean</th>\n",
       "      <th>School_Diag_Mark_count</th>\n",
       "      <th>mounth</th>\n",
       "      <th>day</th>\n",
       "      <th>Subject_count</th>\n",
       "    </tr>\n",
       "  </thead>\n",
       "  <tbody>\n",
       "    <tr>\n",
       "      <th>0</th>\n",
       "      <td>74A04FC2-A13B-468F-B4FF-08D4A3DDCEEA</td>\n",
       "      <td>2020-07-16</td>\n",
       "      <td>75</td>\n",
       "      <td>86</td>\n",
       "      <td>11</td>\n",
       "      <td>279</td>\n",
       "      <td>73.428571</td>\n",
       "      <td>18.707014</td>\n",
       "      <td>7</td>\n",
       "      <td>-1.0</td>\n",
       "      <td>...</td>\n",
       "      <td>0.00000</td>\n",
       "      <td>0.000000</td>\n",
       "      <td>0.0</td>\n",
       "      <td>0.000000</td>\n",
       "      <td>0.000000</td>\n",
       "      <td>0.000000</td>\n",
       "      <td>7</td>\n",
       "      <td>7</td>\n",
       "      <td>16</td>\n",
       "      <td>3</td>\n",
       "    </tr>\n",
       "    <tr>\n",
       "      <th>1</th>\n",
       "      <td>4C5F3B22-6439-4255-83A3-9C2573607F96</td>\n",
       "      <td>2020-07-20</td>\n",
       "      <td>77</td>\n",
       "      <td>9</td>\n",
       "      <td>11</td>\n",
       "      <td>-1</td>\n",
       "      <td>54.500000</td>\n",
       "      <td>18.680754</td>\n",
       "      <td>18</td>\n",
       "      <td>-1.0</td>\n",
       "      <td>...</td>\n",
       "      <td>0.00000</td>\n",
       "      <td>0.000000</td>\n",
       "      <td>0.0</td>\n",
       "      <td>0.000000</td>\n",
       "      <td>0.000000</td>\n",
       "      <td>0.000000</td>\n",
       "      <td>18</td>\n",
       "      <td>7</td>\n",
       "      <td>20</td>\n",
       "      <td>3</td>\n",
       "    </tr>\n",
       "    <tr>\n",
       "      <th>2</th>\n",
       "      <td>539BF0E1-24D7-4323-8B36-EECAC7B5C0C5</td>\n",
       "      <td>2020-07-03</td>\n",
       "      <td>25</td>\n",
       "      <td>27</td>\n",
       "      <td>11</td>\n",
       "      <td>173</td>\n",
       "      <td>44.142857</td>\n",
       "      <td>32.941507</td>\n",
       "      <td>7</td>\n",
       "      <td>-1.0</td>\n",
       "      <td>...</td>\n",
       "      <td>4.50925</td>\n",
       "      <td>0.238095</td>\n",
       "      <td>3.0</td>\n",
       "      <td>2.663691</td>\n",
       "      <td>3.428799</td>\n",
       "      <td>0.125510</td>\n",
       "      <td>7</td>\n",
       "      <td>7</td>\n",
       "      <td>3</td>\n",
       "      <td>4</td>\n",
       "    </tr>\n",
       "    <tr>\n",
       "      <th>3</th>\n",
       "      <td>1BAE7BE4-5C78-4E0D-B29D-7E06454C830B</td>\n",
       "      <td>2020-07-13</td>\n",
       "      <td>83</td>\n",
       "      <td>77</td>\n",
       "      <td>11</td>\n",
       "      <td>147</td>\n",
       "      <td>62.153846</td>\n",
       "      <td>14.673367</td>\n",
       "      <td>13</td>\n",
       "      <td>1.0</td>\n",
       "      <td>...</td>\n",
       "      <td>0.00000</td>\n",
       "      <td>0.000000</td>\n",
       "      <td>0.0</td>\n",
       "      <td>0.000000</td>\n",
       "      <td>0.000000</td>\n",
       "      <td>0.000000</td>\n",
       "      <td>13</td>\n",
       "      <td>7</td>\n",
       "      <td>13</td>\n",
       "      <td>3</td>\n",
       "    </tr>\n",
       "    <tr>\n",
       "      <th>4</th>\n",
       "      <td>5B3D82FB-D840-44DE-ADC0-A9CBEB2C06B2</td>\n",
       "      <td>2020-07-20</td>\n",
       "      <td>91</td>\n",
       "      <td>4</td>\n",
       "      <td>11</td>\n",
       "      <td>108</td>\n",
       "      <td>79.428571</td>\n",
       "      <td>8.580154</td>\n",
       "      <td>7</td>\n",
       "      <td>1.0</td>\n",
       "      <td>...</td>\n",
       "      <td>0.00000</td>\n",
       "      <td>0.000000</td>\n",
       "      <td>0.0</td>\n",
       "      <td>13.462585</td>\n",
       "      <td>10.773718</td>\n",
       "      <td>0.168282</td>\n",
       "      <td>7</td>\n",
       "      <td>7</td>\n",
       "      <td>20</td>\n",
       "      <td>4</td>\n",
       "    </tr>\n",
       "  </tbody>\n",
       "</table>\n",
       "<p>5 rows × 46 columns</p>\n",
       "</div>"
      ],
      "text/plain": [
       "                          ParticipantId    DateExam  MarkPercent  SubjectId  \\\n",
       "0  74A04FC2-A13B-468F-B4FF-08D4A3DDCEEA  2020-07-16           75         86   \n",
       "1  4C5F3B22-6439-4255-83A3-9C2573607F96  2020-07-20           77          9   \n",
       "2  539BF0E1-24D7-4323-8B36-EECAC7B5C0C5  2020-07-03           25         27   \n",
       "3  1BAE7BE4-5C78-4E0D-B29D-7E06454C830B  2020-07-13           83         77   \n",
       "4  5B3D82FB-D840-44DE-ADC0-A9CBEB2C06B2  2020-07-20           91          4   \n",
       "\n",
       "   Parallel  OOCode  Mark_school_mean  Mark_school_std  Mark_school_count  \\\n",
       "0        11     279         73.428571        18.707014                  7   \n",
       "1        11      -1         54.500000        18.680754                 18   \n",
       "2        11     173         44.142857        32.941507                  7   \n",
       "3        11     147         62.153846        14.673367                 13   \n",
       "4        11     108         79.428571         8.580154                  7   \n",
       "\n",
       "   SubjectId_-1.0  ...  Diag_Mark_std  Diag_Real_Mark_mean  Diag_Mark_count  \\\n",
       "0            -1.0  ...        0.00000             0.000000              0.0   \n",
       "1            -1.0  ...        0.00000             0.000000              0.0   \n",
       "2            -1.0  ...        4.50925             0.238095              3.0   \n",
       "3             1.0  ...        0.00000             0.000000              0.0   \n",
       "4             1.0  ...        0.00000             0.000000              0.0   \n",
       "\n",
       "   School_Diag_Mark_mean  School_Diag_Mark_std  School_Diag_Real_Mark_mean  \\\n",
       "0               0.000000              0.000000                    0.000000   \n",
       "1               0.000000              0.000000                    0.000000   \n",
       "2               2.663691              3.428799                    0.125510   \n",
       "3               0.000000              0.000000                    0.000000   \n",
       "4              13.462585             10.773718                    0.168282   \n",
       "\n",
       "   School_Diag_Mark_count  mounth  day  Subject_count  \n",
       "0                       7       7   16              3  \n",
       "1                      18       7   20              3  \n",
       "2                       7       7    3              4  \n",
       "3                      13       7   13              3  \n",
       "4                       7       7   20              4  \n",
       "\n",
       "[5 rows x 46 columns]"
      ]
     },
     "execution_count": 62,
     "metadata": {},
     "output_type": "execute_result"
    }
   ],
   "source": [
    "DATA = pd.read_csv('PrePro_data/TRAIN.csv', index_col=0)\n",
    "DATA.head()"
   ]
  },
  {
   "cell_type": "code",
   "execution_count": 41,
   "metadata": {},
   "outputs": [
    {
     "data": {
      "text/plain": [
       "Index(['ParticipantId', 'DateExam', 'MarkPercent', 'SubjectId', 'Parallel',\n",
       "       'OOCode', 'Mark_school_mean', 'Mark_school_std', 'Mark_school_count',\n",
       "       'SubjectId_-1.0', 'SubjectId_4.0', 'SubjectId_7.0', 'SubjectId_9.0',\n",
       "       'SubjectId_12.0', 'SubjectId_27.0', 'SubjectId_29.0', 'SubjectId_31.0',\n",
       "       'SubjectId_34.0', 'SubjectId_48.0', 'SubjectId_58.0', 'SubjectId_61.0',\n",
       "       'SubjectId_64.0', 'SubjectId_66.0', 'SubjectId_75.0', 'SubjectId_76.0',\n",
       "       'SubjectId_77.0', 'SubjectId_78.0', 'SubjectId_82.0', 'SubjectId_86.0',\n",
       "       'SubjectId_90.0', 'SubjectId_91.0', 'Type', 'SubjectId_olimp',\n",
       "       'Mark_mean', 'Mark_count', 'Diag_Mark_mean', 'Diag_Mark_std',\n",
       "       'Diag_Real_Mark_mean', 'Diag_Mark_count', 'School_Diag_Mark_mean',\n",
       "       'School_Diag_Mark_std', 'School_Diag_Real_Mark_mean',\n",
       "       'School_Diag_Mark_count', 'mounth', 'day', 'Subject_count'],\n",
       "      dtype='object')"
      ]
     },
     "execution_count": 41,
     "metadata": {},
     "output_type": "execute_result"
    }
   ],
   "source": [
    "DATA.columns"
   ]
  },
  {
   "cell_type": "code",
   "execution_count": 42,
   "metadata": {},
   "outputs": [],
   "source": [
    "X_columns = ['Parallel', 'OOCode', 'SubjectId', 'SubjectId_olimp',\n",
    "             'Subject_count', 'mounth', 'day','Mark_mean', 'Mark_count','Type',\n",
    "            'Mark_school_std', 'Mark_school_mean', 'Diag_Mark_mean','Diag_Mark_std','Diag_Real_Mark_mean',\n",
    "            'School_Diag_Mark_mean', 'School_Diag_Mark_std', 'School_Diag_Real_Mark_mean', 'School_Diag_Mark_count',\n",
    "            \n",
    "            'SubjectId_-1.0', 'SubjectId_4.0', 'SubjectId_7.0',\n",
    " 'SubjectId_9.0', 'SubjectId_12.0', 'SubjectId_27.0', 'SubjectId_29.0', 'SubjectId_31.0', 'SubjectId_34.0',\n",
    " 'SubjectId_48.0', 'SubjectId_58.0', 'SubjectId_61.0', 'SubjectId_64.0', 'SubjectId_66.0',\n",
    " 'SubjectId_75.0', 'SubjectId_76.0', 'SubjectId_77.0', 'SubjectId_78.0', 'SubjectId_82.0',\n",
    "             'SubjectId_86.0', 'SubjectId_90.0', 'SubjectId_91.0',            \n",
    "            ]\n",
    "\n",
    "y_columns = ['MarkPercent']\n",
    "\n",
    "# Числовые признаки\n",
    "numerical_features = ['Parallel', 'mounth', 'day', 'Subject_count', 'Mark_mean',\n",
    "                      'Mark_count', 'Mark_school_std', 'Mark_school_mean', 'Diag_Mark_mean','Diag_Mark_std','Diag_Real_Mark_mean',\n",
    "                      'School_Diag_Mark_mean', 'School_Diag_Mark_std', 'School_Diag_Real_Mark_mean', 'School_Diag_Mark_count',\n",
    "                     \n",
    "                     \n",
    "                     'SubjectId_-1.0', 'SubjectId_4.0', 'SubjectId_7.0',\n",
    " 'SubjectId_9.0', 'SubjectId_12.0', 'SubjectId_27.0', 'SubjectId_29.0', 'SubjectId_31.0', 'SubjectId_34.0',\n",
    " 'SubjectId_48.0', 'SubjectId_58.0', 'SubjectId_61.0', 'SubjectId_64.0', 'SubjectId_66.0',\n",
    " 'SubjectId_75.0', 'SubjectId_76.0', 'SubjectId_77.0', 'SubjectId_78.0', 'SubjectId_82.0',\n",
    "             'SubjectId_86.0', 'SubjectId_90.0', 'SubjectId_91.0', \n",
    "                     \n",
    "                     \n",
    "                     ]\n",
    "# Категориальные признаки\n",
    "categorical_features = ['OOCode','SubjectId', 'SubjectId_olimp', 'Type',]\n",
    "\n",
    "\n",
    "X = DATA[X_columns]\n",
    "y = DATA[y_columns]"
   ]
  },
  {
   "cell_type": "code",
   "execution_count": 43,
   "metadata": {},
   "outputs": [
    {
     "name": "stdout",
     "output_type": "stream",
     "text": [
      "До (38735, 42)\n",
      "После (32890, 42)\n"
     ]
    }
   ],
   "source": [
    "#Удаляем дубли\n",
    "\n",
    "clear_DATA = DATA[X_columns+y_columns].copy()\n",
    "\n",
    "print('До',clear_DATA.shape)\n",
    "clear_DATA.drop_duplicates(inplace=True)\n",
    "print('После', clear_DATA.shape)\n",
    "\n",
    "\n",
    "X = clear_DATA[X_columns]\n",
    "y = clear_DATA['MarkPercent']"
   ]
  },
  {
   "cell_type": "code",
   "execution_count": null,
   "metadata": {},
   "outputs": [],
   "source": [
    " "
   ]
  },
  {
   "cell_type": "markdown",
   "metadata": {},
   "source": [
    "# Model"
   ]
  },
  {
   "cell_type": "code",
   "execution_count": 44,
   "metadata": {},
   "outputs": [],
   "source": [
    "# model = RandomForestRegressor(n_estimator = 100, oob_score = TRUE, n_jobs = -1,random_state =50,\n",
    "#                               max_features = \"auto\", min_samples_leaf = 50)"
   ]
  },
  {
   "cell_type": "code",
   "execution_count": 45,
   "metadata": {},
   "outputs": [
    {
     "data": {
      "text/html": [
       "<style>div.sk-top-container {color: black;background-color: white;}div.sk-toggleable {background-color: white;}label.sk-toggleable__label {cursor: pointer;display: block;width: 100%;margin-bottom: 0;padding: 0.2em 0.3em;box-sizing: border-box;text-align: center;}div.sk-toggleable__content {max-height: 0;max-width: 0;overflow: hidden;text-align: left;background-color: #f0f8ff;}div.sk-toggleable__content pre {margin: 0.2em;color: black;border-radius: 0.25em;background-color: #f0f8ff;}input.sk-toggleable__control:checked~div.sk-toggleable__content {max-height: 200px;max-width: 100%;overflow: auto;}div.sk-estimator input.sk-toggleable__control:checked~label.sk-toggleable__label {background-color: #d4ebff;}div.sk-label input.sk-toggleable__control:checked~label.sk-toggleable__label {background-color: #d4ebff;}input.sk-hidden--visually {border: 0;clip: rect(1px 1px 1px 1px);clip: rect(1px, 1px, 1px, 1px);height: 1px;margin: -1px;overflow: hidden;padding: 0;position: absolute;width: 1px;}div.sk-estimator {font-family: monospace;background-color: #f0f8ff;margin: 0.25em 0.25em;border: 1px dotted black;border-radius: 0.25em;box-sizing: border-box;}div.sk-estimator:hover {background-color: #d4ebff;}div.sk-parallel-item::after {content: \"\";width: 100%;border-bottom: 1px solid gray;flex-grow: 1;}div.sk-label:hover label.sk-toggleable__label {background-color: #d4ebff;}div.sk-serial::before {content: \"\";position: absolute;border-left: 1px solid gray;box-sizing: border-box;top: 2em;bottom: 0;left: 50%;}div.sk-serial {display: flex;flex-direction: column;align-items: center;background-color: white;}div.sk-item {z-index: 1;}div.sk-parallel {display: flex;align-items: stretch;justify-content: center;background-color: white;}div.sk-parallel-item {display: flex;flex-direction: column;position: relative;background-color: white;}div.sk-parallel-item:first-child::after {align-self: flex-end;width: 50%;}div.sk-parallel-item:last-child::after {align-self: flex-start;width: 50%;}div.sk-parallel-item:only-child::after {width: 0;}div.sk-dashed-wrapped {border: 1px dashed gray;margin: 0.2em;box-sizing: border-box;padding-bottom: 0.1em;background-color: white;position: relative;}div.sk-label label {font-family: monospace;font-weight: bold;background-color: white;display: inline-block;line-height: 1.2em;}div.sk-label-container {position: relative;z-index: 2;text-align: center;}div.sk-container {display: inline-block;position: relative;}</style><div class=\"sk-top-container\"><div class=\"sk-container\"><div class=\"sk-item sk-dashed-wrapped\"><div class=\"sk-label-container\"><div class=\"sk-label sk-toggleable\"><input class=\"sk-toggleable__control sk-hidden--visually\" id=\"d137383a-8f9b-4922-9716-1643c8133bf1\" type=\"checkbox\" ><label class=\"sk-toggleable__label\" for=\"d137383a-8f9b-4922-9716-1643c8133bf1\">Pipeline</label><div class=\"sk-toggleable__content\"><pre>Pipeline(steps=[('preprocessor',\n",
       "                 Pipeline(steps=[('data_transformer',\n",
       "                                  ColumnTransformer(transformers=[('numerical',\n",
       "                                                                   Pipeline(steps=[('imputer',\n",
       "                                                                                    StandardScaler()),\n",
       "                                                                                   ('scaler',\n",
       "                                                                                    'passthrough')]),\n",
       "                                                                   ['Parallel',\n",
       "                                                                    'mounth',\n",
       "                                                                    'day',\n",
       "                                                                    'Subject_count',\n",
       "                                                                    'Mark_mean',\n",
       "                                                                    'Mark_count',\n",
       "                                                                    'Mark_school_std',\n",
       "                                                                    'Mark_school_mean',\n",
       "                                                                    'Diag_Mark_mean',\n",
       "                                                                    'Diag_Mark_std',\n",
       "                                                                    'Diag_Real_Mark_mean',\n",
       "                                                                    'Scho...\n",
       "                                                                    'SubjectId_64.0',\n",
       "                                                                    'SubjectId_66.0',\n",
       "                                                                    'SubjectId_75.0', ...]),\n",
       "                                                                  ('categorical',\n",
       "                                                                   Pipeline(steps=[('imputer',\n",
       "                                                                                    SimpleImputer()),\n",
       "                                                                                   ('onehot',\n",
       "                                                                                    OneHotEncoder(handle_unknown='ignore'))]),\n",
       "                                                                   ['OOCode',\n",
       "                                                                    'SubjectId',\n",
       "                                                                    'SubjectId_olimp',\n",
       "                                                                    'Type'])]))])),\n",
       "                ('classifier',\n",
       "                 RandomForestRegressor(max_depth=7, min_samples_leaf=10,\n",
       "                                       min_samples_split=4, n_estimators=150,\n",
       "                                       n_jobs=-1, verbose=True))])</pre></div></div></div><div class=\"sk-serial\"><div class=\"sk-item\"><div class=\"sk-label-container\"><div class=\"sk-label sk-toggleable\"><input class=\"sk-toggleable__control sk-hidden--visually\" id=\"b0de068f-6ee8-4e1d-949e-6e7582bba0ee\" type=\"checkbox\" ><label class=\"sk-toggleable__label\" for=\"b0de068f-6ee8-4e1d-949e-6e7582bba0ee\">preprocessor: Pipeline</label><div class=\"sk-toggleable__content\"><pre>Pipeline(steps=[('data_transformer',\n",
       "                 ColumnTransformer(transformers=[('numerical',\n",
       "                                                  Pipeline(steps=[('imputer',\n",
       "                                                                   StandardScaler()),\n",
       "                                                                  ('scaler',\n",
       "                                                                   'passthrough')]),\n",
       "                                                  ['Parallel', 'mounth', 'day',\n",
       "                                                   'Subject_count', 'Mark_mean',\n",
       "                                                   'Mark_count',\n",
       "                                                   'Mark_school_std',\n",
       "                                                   'Mark_school_mean',\n",
       "                                                   'Diag_Mark_mean',\n",
       "                                                   'Diag_Mark_std',\n",
       "                                                   'Diag_Real_Mark_mean',\n",
       "                                                   'School_Diag_Mark_mean',\n",
       "                                                   'School_Diag_...\n",
       "                                                   'SubjectId_12.0',\n",
       "                                                   'SubjectId_27.0',\n",
       "                                                   'SubjectId_29.0',\n",
       "                                                   'SubjectId_31.0',\n",
       "                                                   'SubjectId_34.0',\n",
       "                                                   'SubjectId_48.0',\n",
       "                                                   'SubjectId_58.0',\n",
       "                                                   'SubjectId_61.0',\n",
       "                                                   'SubjectId_64.0',\n",
       "                                                   'SubjectId_66.0',\n",
       "                                                   'SubjectId_75.0', ...]),\n",
       "                                                 ('categorical',\n",
       "                                                  Pipeline(steps=[('imputer',\n",
       "                                                                   SimpleImputer()),\n",
       "                                                                  ('onehot',\n",
       "                                                                   OneHotEncoder(handle_unknown='ignore'))]),\n",
       "                                                  ['OOCode', 'SubjectId',\n",
       "                                                   'SubjectId_olimp',\n",
       "                                                   'Type'])]))])</pre></div></div></div><div class=\"sk-serial\"><div class=\"sk-item sk-dashed-wrapped\"><div class=\"sk-label-container\"><div class=\"sk-label sk-toggleable\"><input class=\"sk-toggleable__control sk-hidden--visually\" id=\"0962e7ef-9447-4889-8a12-ee8d40854c2e\" type=\"checkbox\" ><label class=\"sk-toggleable__label\" for=\"0962e7ef-9447-4889-8a12-ee8d40854c2e\">data_transformer: ColumnTransformer</label><div class=\"sk-toggleable__content\"><pre>ColumnTransformer(transformers=[('numerical',\n",
       "                                 Pipeline(steps=[('imputer', StandardScaler()),\n",
       "                                                 ('scaler', 'passthrough')]),\n",
       "                                 ['Parallel', 'mounth', 'day', 'Subject_count',\n",
       "                                  'Mark_mean', 'Mark_count', 'Mark_school_std',\n",
       "                                  'Mark_school_mean', 'Diag_Mark_mean',\n",
       "                                  'Diag_Mark_std', 'Diag_Real_Mark_mean',\n",
       "                                  'School_Diag_Mark_mean',\n",
       "                                  'School_Diag_Mark_std',\n",
       "                                  'School_Diag_Real_Mark_mea...\n",
       "                                  'SubjectId_9.0', 'SubjectId_12.0',\n",
       "                                  'SubjectId_27.0', 'SubjectId_29.0',\n",
       "                                  'SubjectId_31.0', 'SubjectId_34.0',\n",
       "                                  'SubjectId_48.0', 'SubjectId_58.0',\n",
       "                                  'SubjectId_61.0', 'SubjectId_64.0',\n",
       "                                  'SubjectId_66.0', 'SubjectId_75.0', ...]),\n",
       "                                ('categorical',\n",
       "                                 Pipeline(steps=[('imputer', SimpleImputer()),\n",
       "                                                 ('onehot',\n",
       "                                                  OneHotEncoder(handle_unknown='ignore'))]),\n",
       "                                 ['OOCode', 'SubjectId', 'SubjectId_olimp',\n",
       "                                  'Type'])])</pre></div></div></div><div class=\"sk-parallel\"><div class=\"sk-parallel-item\"><div class=\"sk-item\"><div class=\"sk-label-container\"><div class=\"sk-label sk-toggleable\"><input class=\"sk-toggleable__control sk-hidden--visually\" id=\"07cfa0d0-4cc5-4bc6-a5f0-a9b4e9161891\" type=\"checkbox\" ><label class=\"sk-toggleable__label\" for=\"07cfa0d0-4cc5-4bc6-a5f0-a9b4e9161891\">numerical</label><div class=\"sk-toggleable__content\"><pre>['Parallel', 'mounth', 'day', 'Subject_count', 'Mark_mean', 'Mark_count', 'Mark_school_std', 'Mark_school_mean', 'Diag_Mark_mean', 'Diag_Mark_std', 'Diag_Real_Mark_mean', 'School_Diag_Mark_mean', 'School_Diag_Mark_std', 'School_Diag_Real_Mark_mean', 'School_Diag_Mark_count', 'SubjectId_-1.0', 'SubjectId_4.0', 'SubjectId_7.0', 'SubjectId_9.0', 'SubjectId_12.0', 'SubjectId_27.0', 'SubjectId_29.0', 'SubjectId_31.0', 'SubjectId_34.0', 'SubjectId_48.0', 'SubjectId_58.0', 'SubjectId_61.0', 'SubjectId_64.0', 'SubjectId_66.0', 'SubjectId_75.0', 'SubjectId_76.0', 'SubjectId_77.0', 'SubjectId_78.0', 'SubjectId_82.0', 'SubjectId_86.0', 'SubjectId_90.0', 'SubjectId_91.0']</pre></div></div></div><div class=\"sk-serial\"><div class=\"sk-item\"><div class=\"sk-serial\"><div class=\"sk-item\"><div class=\"sk-estimator sk-toggleable\"><input class=\"sk-toggleable__control sk-hidden--visually\" id=\"73937106-250b-46f9-8884-171b9bee38cf\" type=\"checkbox\" ><label class=\"sk-toggleable__label\" for=\"73937106-250b-46f9-8884-171b9bee38cf\">StandardScaler</label><div class=\"sk-toggleable__content\"><pre>StandardScaler()</pre></div></div></div><div class=\"sk-item\"><div class=\"sk-estimator sk-toggleable\"><input class=\"sk-toggleable__control sk-hidden--visually\" id=\"e75a421c-8c13-4582-8bf1-7f08cbf419e0\" type=\"checkbox\" ><label class=\"sk-toggleable__label\" for=\"e75a421c-8c13-4582-8bf1-7f08cbf419e0\">passthrough</label><div class=\"sk-toggleable__content\"><pre>passthrough</pre></div></div></div></div></div></div></div></div><div class=\"sk-parallel-item\"><div class=\"sk-item\"><div class=\"sk-label-container\"><div class=\"sk-label sk-toggleable\"><input class=\"sk-toggleable__control sk-hidden--visually\" id=\"2ccc704c-6154-45ba-a252-085ea5d3b099\" type=\"checkbox\" ><label class=\"sk-toggleable__label\" for=\"2ccc704c-6154-45ba-a252-085ea5d3b099\">categorical</label><div class=\"sk-toggleable__content\"><pre>['OOCode', 'SubjectId', 'SubjectId_olimp', 'Type']</pre></div></div></div><div class=\"sk-serial\"><div class=\"sk-item\"><div class=\"sk-serial\"><div class=\"sk-item\"><div class=\"sk-estimator sk-toggleable\"><input class=\"sk-toggleable__control sk-hidden--visually\" id=\"30781e8d-f428-4b3e-843c-bbfac82fa0f5\" type=\"checkbox\" ><label class=\"sk-toggleable__label\" for=\"30781e8d-f428-4b3e-843c-bbfac82fa0f5\">SimpleImputer</label><div class=\"sk-toggleable__content\"><pre>SimpleImputer()</pre></div></div></div><div class=\"sk-item\"><div class=\"sk-estimator sk-toggleable\"><input class=\"sk-toggleable__control sk-hidden--visually\" id=\"2842416b-c0e9-459a-b3fe-2131f712191b\" type=\"checkbox\" ><label class=\"sk-toggleable__label\" for=\"2842416b-c0e9-459a-b3fe-2131f712191b\">OneHotEncoder</label><div class=\"sk-toggleable__content\"><pre>OneHotEncoder(handle_unknown='ignore')</pre></div></div></div></div></div></div></div></div></div></div></div></div><div class=\"sk-item\"><div class=\"sk-estimator sk-toggleable\"><input class=\"sk-toggleable__control sk-hidden--visually\" id=\"72d718ee-c760-4748-83c9-91074d8be8b3\" type=\"checkbox\" ><label class=\"sk-toggleable__label\" for=\"72d718ee-c760-4748-83c9-91074d8be8b3\">RandomForestRegressor</label><div class=\"sk-toggleable__content\"><pre>RandomForestRegressor(max_depth=7, min_samples_leaf=10, min_samples_split=4,\n",
       "                      n_estimators=150, n_jobs=-1, verbose=True)</pre></div></div></div></div></div></div></div>"
      ],
      "text/plain": [
       "Pipeline(steps=[('preprocessor',\n",
       "                 Pipeline(steps=[('data_transformer',\n",
       "                                  ColumnTransformer(transformers=[('numerical',\n",
       "                                                                   Pipeline(steps=[('imputer',\n",
       "                                                                                    StandardScaler()),\n",
       "                                                                                   ('scaler',\n",
       "                                                                                    'passthrough')]),\n",
       "                                                                   ['Parallel',\n",
       "                                                                    'mounth',\n",
       "                                                                    'day',\n",
       "                                                                    'Subject_count',\n",
       "                                                                    'Mark_mean',\n",
       "                                                                    'Mark_count',\n",
       "                                                                    'Mark_school_std',\n",
       "                                                                    'Mark_school_mean',\n",
       "                                                                    'Diag_Mark_mean',\n",
       "                                                                    'Diag_Mark_std',\n",
       "                                                                    'Diag_Real_Mark_mean',\n",
       "                                                                    'Scho...\n",
       "                                                                    'SubjectId_64.0',\n",
       "                                                                    'SubjectId_66.0',\n",
       "                                                                    'SubjectId_75.0', ...]),\n",
       "                                                                  ('categorical',\n",
       "                                                                   Pipeline(steps=[('imputer',\n",
       "                                                                                    SimpleImputer()),\n",
       "                                                                                   ('onehot',\n",
       "                                                                                    OneHotEncoder(handle_unknown='ignore'))]),\n",
       "                                                                   ['OOCode',\n",
       "                                                                    'SubjectId',\n",
       "                                                                    'SubjectId_olimp',\n",
       "                                                                    'Type'])]))])),\n",
       "                ('classifier',\n",
       "                 RandomForestRegressor(max_depth=7, min_samples_leaf=10,\n",
       "                                       min_samples_split=4, n_estimators=150,\n",
       "                                       n_jobs=-1, verbose=True))])"
      ]
     },
     "execution_count": 45,
     "metadata": {},
     "output_type": "execute_result"
    }
   ],
   "source": [
    "# Применяем SimpleImputer и будем искать различные скейлеры с помощью GridSearchCV\n",
    "numerical_transformer = Pipeline(\n",
    "    steps=[(\"imputer\", StandardScaler()), (\"scaler\", \"passthrough\")]  # StandardScaler()\n",
    ")\n",
    "\n",
    "# Применение SimpleImputer, а затем OneHotEncoder\n",
    "categorical_transformer = Pipeline(\n",
    "    steps=[\n",
    "        (\"imputer\", SimpleImputer()),\n",
    "        (\"onehot\", OneHotEncoder(handle_unknown=\"ignore\")),\n",
    "    ]\n",
    ")\n",
    "\n",
    "# Собираем воедино трансформеры для числовых и категориальных признаков\n",
    "data_transformer = ColumnTransformer(\n",
    "    transformers=[\n",
    "        (\"numerical\", numerical_transformer, numerical_features),\n",
    "        (\"categorical\", categorical_transformer, categorical_features),\n",
    "    ]\n",
    ")\n",
    "\n",
    "# Создание конвейера препроцессора, который сначала преобразует данные и затем применяет PCA.\n",
    "preprocessor = Pipeline(steps=[(\"data_transformer\", data_transformer)])\n",
    "#  ('reduce_dim', PCA())])\n",
    "\n",
    "# we are using LinearRegression here\n",
    "classifier = Pipeline(\n",
    "    steps=[\n",
    "        (\"preprocessor\", preprocessor),\n",
    "        #(\"classifier\", LinearRegression(copy_X=True, fit_intercept=True, normalize=True, n_jobs=-1),\n",
    "        (\"classifier\", RandomForestRegressor(n_jobs=-1, min_samples_split=4,min_samples_leaf = 10,\n",
    "                                             max_depth=7, n_estimators=150, verbose=True)\n",
    "           \n",
    "        ),\n",
    "    ]\n",
    ")\n",
    "\n",
    "classifier"
   ]
  },
  {
   "cell_type": "code",
   "execution_count": 54,
   "metadata": {},
   "outputs": [
    {
     "name": "stdout",
     "output_type": "stream",
     "text": [
      "[14:04:42] WARNING: C:/Users/Administrator/workspace/xgboost-win64_release_1.4.0/src/objective/regression_obj.cu:171: reg:linear is now deprecated in favor of reg:squarederror.\n",
      "[14:04:42] WARNING: C:/Users/Administrator/workspace/xgboost-win64_release_1.4.0/src/learner.cc:573: \n",
      "Parameters: { \"min_samples_leaf\", \"min_samples_split\" } might not be used.\n",
      "\n",
      "  This may not be accurate due to some parameters are only used in language bindings but\n",
      "  passed down to XGBoost core.  Or some parameters are not used but slip through this\n",
      "  verification. Please open an issue if you find above cases.\n",
      "\n",
      "\n",
      "Лучшие параметры модели:  {'classifier__max_depth': 7, 'classifier__min_samples_leaf': 11, 'classifier__min_samples_split': 4, 'classifier__n_estimators': 155}\n",
      "\n",
      "\n",
      "Метрика RMSE:  20.6079513257377\n"
     ]
    }
   ],
   "source": [
    "# classifier = Pipeline(\n",
    "#     steps=[\n",
    "#     (\"preprocessor\", preprocessor),\n",
    "#     (\"classifier\", RandomForestRegressor(n_jobs=-1, min_samples_split=3, max_depth=4, n_estimators=200, verbose=True))])\n",
    "\n",
    "model = classifier  \n",
    "parameters = {\n",
    "    'classifier__min_samples_leaf':[11],\n",
    "    'classifier__max_depth':[7],\n",
    "    'classifier__n_estimators':[155], # 195\n",
    "    'classifier__min_samples_split':[4]\n",
    "\n",
    "}\n",
    "grid = GridSearchCV(model, parameters, cv=5, n_jobs=-1, scoring= 'neg_mean_squared_error')\n",
    "grid.fit(X, y)\n",
    "\n",
    "print(\"Лучшие параметры модели: \", grid.best_params_)\n",
    "\n",
    "print('\\n')\n",
    "print(\"Метрика RMSE: \", abs(grid.best_score_)**0.5)"
   ]
  },
  {
   "cell_type": "code",
   "execution_count": null,
   "metadata": {},
   "outputs": [],
   "source": [
    " "
   ]
  },
  {
   "cell_type": "markdown",
   "metadata": {},
   "source": [
    "# метрика RMSE"
   ]
  },
  {
   "cell_type": "code",
   "execution_count": 47,
   "metadata": {},
   "outputs": [
    {
     "name": "stderr",
     "output_type": "stream",
     "text": [
      "[Parallel(n_jobs=8)]: Using backend ThreadingBackend with 8 concurrent workers.\n",
      "[Parallel(n_jobs=8)]: Done  34 tasks      | elapsed:    0.0s\n",
      "[Parallel(n_jobs=8)]: Done 155 out of 155 | elapsed:    0.0s finished\n"
     ]
    },
    {
     "data": {
      "text/plain": [
       "14.761907717553898"
      ]
     },
     "execution_count": 47,
     "metadata": {},
     "output_type": "execute_result"
    }
   ],
   "source": [
    "preds = grid.predict(X)\n",
    "((sum((y - preds)**2))/len(y))**0.5"
   ]
  },
  {
   "cell_type": "code",
   "execution_count": 48,
   "metadata": {},
   "outputs": [],
   "source": [
    "# 18.984554535554654\n",
    "# 16.01359852552802\n",
    "# 16.010977101128162\n",
    "# 15.981699022077756\n",
    "# 14.760500775285486"
   ]
  },
  {
   "cell_type": "code",
   "execution_count": null,
   "metadata": {},
   "outputs": [],
   "source": []
  },
  {
   "cell_type": "code",
   "execution_count": 49,
   "metadata": {},
   "outputs": [],
   "source": [
    "# cv = RepeatedKFold(n_splits=10, n_repeats=3, random_state=42)\n",
    "# n_scores = cross_val_score(\n",
    "#     model, X, y, scoring='neg_mean_absolute_error', cv=cv,\n",
    "#     n_jobs=-1)  # evaluate the model and collect the scores\n",
    "# n_scores = absolute(n_scores)  # force the scores to be positive\n",
    "# print('-MAE: %.3f (std: %.3f)' %\n",
    "#       (np.mean(n_scores), np.std(n_scores)))  # summarize performance"
   ]
  },
  {
   "cell_type": "code",
   "execution_count": null,
   "metadata": {},
   "outputs": [],
   "source": []
  },
  {
   "cell_type": "code",
   "execution_count": 50,
   "metadata": {},
   "outputs": [
    {
     "name": "stderr",
     "output_type": "stream",
     "text": [
      "[Parallel(n_jobs=-1)]: Using backend ThreadingBackend with 8 concurrent workers.\n",
      "[Parallel(n_jobs=-1)]: Done  34 tasks      | elapsed:    2.8s\n",
      "[Parallel(n_jobs=-1)]: Done 150 out of 150 | elapsed:   12.1s finished\n"
     ]
    },
    {
     "data": {
      "image/png": "[encoded data removed]",
      "text/plain": [
       "<Figure size 360x360 with 1 Axes>"
      ]
     },
     "metadata": {
      "needs_background": "light"
     },
     "output_type": "display_data"
    }
   ],
   "source": [
    "model.fit(X, y)\n",
    "full_importance = model.named_steps['classifier'].feature_importances_  # # get importance\n",
    "\n",
    "full_importance, X_cols = zip(*sorted(zip(full_importance, X.columns)))\n",
    "\n",
    "pyplot.barh([x for x in X_cols[:15]], full_importance[:15])\n",
    "pyplot.show()"
   ]
  },
  {
   "cell_type": "code",
   "execution_count": null,
   "metadata": {},
   "outputs": [],
   "source": []
  },
  {
   "cell_type": "code",
   "execution_count": null,
   "metadata": {},
   "outputs": [],
   "source": []
  },
  {
   "cell_type": "markdown",
   "metadata": {},
   "source": [
    "# Более сильная модель на тех же данных"
   ]
  },
  {
   "cell_type": "code",
   "execution_count": 51,
   "metadata": {},
   "outputs": [],
   "source": [
    "import numpy as np\n",
    "import pandas as pd\n",
    "import xgboost as xg\n",
    "from sklearn.model_selection import train_test_split\n",
    "from sklearn.metrics import mean_squared_error as MSE\n",
    " "
   ]
  },
  {
   "cell_type": "code",
   "execution_count": 56,
   "metadata": {},
   "outputs": [
    {
     "name": "stdout",
     "output_type": "stream",
     "text": [
      "[14:10:12] WARNING: C:/Users/Administrator/workspace/xgboost-win64_release_1.4.0/src/objective/regression_obj.cu:171: reg:linear is now deprecated in favor of reg:squarederror.\n",
      "RMSE :  14.970108\n"
     ]
    }
   ],
   "source": [
    "# Splitting\n",
    "train_X, test_X, train_y, test_y = train_test_split(X, y,\n",
    "                      test_size = 0.3, random_state = 123)\n",
    "  \n",
    "# Instantiation\n",
    "xgb_r = xg.XGBRegressor(objective ='reg:linear',\n",
    "                        n_jobs = -1,\n",
    "#                         colsample_bytree=0.4,\n",
    "                         gamma=10,                 \n",
    "                        learning_rate=0.01,\n",
    "                        max_depth=4,\n",
    "                        min_child_weight=0.01,\n",
    "                        n_estimators=900,                                                                    \n",
    "#                         reg_alpha=0.75,\n",
    "#                         reg_lambda=0.45,\n",
    "                         subsample=0.9,\n",
    "                        seed=42)\n",
    "  \n",
    "# Fitting the model\n",
    "xgb_r.fit(train_X, train_y)\n",
    "  \n",
    "# Predict the model\n",
    "pred = xgb_r.predict(test_X)\n",
    "  \n",
    "# RMSE Computation\n",
    "rmse = np.sqrt(MSE(test_y, pred))\n",
    "print(\"RMSE : % f\" %(rmse))"
   ]
  },
  {
   "cell_type": "markdown",
   "metadata": {},
   "source": [
    "# Более сильная модель на тех же данных + предобработка"
   ]
  },
  {
   "cell_type": "code",
   "execution_count": 57,
   "metadata": {},
   "outputs": [
    {
     "name": "stdout",
     "output_type": "stream",
     "text": [
      "Приступаю к обучению\n",
      "[14:11:05] WARNING: C:/Users/Administrator/workspace/xgboost-win64_release_1.4.0/src/objective/regression_obj.cu:171: reg:linear is now deprecated in favor of reg:squarederror.\n",
      "Лучшие параметры модели:  {'classifier__gamma': 10, 'classifier__learning_rate': 0.01, 'classifier__max_depth': 4, 'classifier__min_child_weight': 0.01, 'classifier__n_estimators': 900, 'classifier__subsample': 0.9}\n",
      "\n",
      "\n",
      "Метрика RMSE:  14.975487946846439\n"
     ]
    }
   ],
   "source": [
    "classifier = Pipeline(\n",
    "    steps=[\n",
    "    (\"preprocessor\", preprocessor),\n",
    "    (\"classifier\", xgb_r  )])\n",
    "\n",
    "model = classifier  \n",
    "\n",
    "print('Приступаю к обучению')\n",
    "\n",
    "# model = xgb_r  \n",
    "parameters = {\n",
    "    'classifier__min_child_weight' : [0.01],\n",
    "    'classifier__learning_rate':[0.01],\n",
    "    'classifier__gamma':[10],\n",
    "    'classifier__subsample' : [0.9], \n",
    "    'classifier__n_estimators':[900], # 195\n",
    "    'classifier__max_depth':[4]\n",
    "\n",
    "}\n",
    "grid = GridSearchCV(model, parameters, cv=5, n_jobs=-1, scoring= 'neg_mean_squared_error')\n",
    "grid.fit(X, y)\n",
    "\n",
    "\n",
    "print(\"Лучшие параметры модели: \", grid.best_params_)\n",
    "\n",
    "print('\\n')\n",
    "print(\"Метрика RMSE: \", abs(grid.best_score_)**0.5)"
   ]
  },
  {
   "cell_type": "code",
   "execution_count": null,
   "metadata": {},
   "outputs": [],
   "source": []
  },
  {
   "cell_type": "code",
   "execution_count": null,
   "metadata": {},
   "outputs": [],
   "source": []
  },
  {
   "cell_type": "code",
   "execution_count": null,
   "metadata": {},
   "outputs": [],
   "source": []
  },
  {
   "cell_type": "code",
   "execution_count": null,
   "metadata": {},
   "outputs": [],
   "source": []
  },
  {
   "cell_type": "code",
   "execution_count": null,
   "metadata": {},
   "outputs": [],
   "source": []
  },
  {
   "cell_type": "code",
   "execution_count": null,
   "metadata": {},
   "outputs": [],
   "source": []
  },
  {
   "cell_type": "code",
   "execution_count": null,
   "metadata": {},
   "outputs": [],
   "source": []
  },
  {
   "cell_type": "code",
   "execution_count": null,
   "metadata": {},
   "outputs": [],
   "source": []
  },
  {
   "cell_type": "code",
   "execution_count": null,
   "metadata": {},
   "outputs": [],
   "source": []
  }
 ],
 "metadata": {
  "finalized": {
   "timestamp": 1621676805559,
   "trusted": true
  },
  "kernelspec": {
   "display_name": "Python 3",
   "language": "python",
   "name": "python3"
  },
  "language_info": {
   "codemirror_mode": {
    "name": "ipython",
    "version": 3
   },
   "file_extension": ".py",
   "mimetype": "text/x-python",
   "name": "python",
   "nbconvert_exporter": "python",
   "pygments_lexer": "ipython3",
   "version": "3.8.5"
  },
  "toc": {
   "base_numbering": 1,
   "nav_menu": {},
   "number_sections": true,
   "sideBar": true,
   "skip_h1_title": false,
   "title_cell": "Table of Contents",
   "title_sidebar": "Contents",
   "toc_cell": false,
   "toc_position": {},
   "toc_section_display": true,
   "toc_window_display": false
  }
 },
 "nbformat": 4,
 "nbformat_minor": 4
}
