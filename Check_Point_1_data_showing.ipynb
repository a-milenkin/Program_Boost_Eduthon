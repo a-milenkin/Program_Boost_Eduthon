{
 "cells": [
  {
   "cell_type": "code",
   "execution_count": 3,
   "metadata": {},
   "outputs": [],
   "source": [
    "import pandas as pd"
   ]
  },
  {
   "cell_type": "markdown",
   "metadata": {},
   "source": [
    "<p style=\"align: center;\"><img align=center src=\"TablesMap.PNG\"  width=900></p>\n",
    "<h3 style=\"text-align: center;\"><b>«Схема базы данных»</b></h3>\n"
   ]
  },
  {
   "cell_type": "markdown",
   "metadata": {},
   "source": [
    "* Classifiers  -  **Справочник тематик, к которым относятся задания диагностик ученика**\n",
    "* DiagnosticResultDetails - **Результаты контрольных по заданиям**\n",
    "* DiagnosticResults - **Результаты контрольных работ**\n",
    "* EgeResultDetails - **Результаты ЕГЭ по заданиям**\n",
    "* EgeResults - **Результаты ЕГЭ**\n",
    "* MedalistResults - **Победители олимпиад и медалисты**\n",
    "* MedalistSubjects - **Предметы, по которым ученик победил в олимпиадах**\n",
    "* Participants - **Ученики**\n",
    "* SelfDiagnosticResultDetails - **Результаты самопроверок**\n",
    "* SelfDiagnosticResults - **Результаты самопроверок по заданиям**\n",
    "* Subjects - **Cправочник предметов**"
   ]
  },
  {
   "cell_type": "markdown",
   "metadata": {},
   "source": [
    "# Participants"
   ]
  },
  {
   "cell_type": "code",
   "execution_count": 207,
   "metadata": {},
   "outputs": [
    {
     "data": {
      "text/html": [
       "<div>\n",
       "<style scoped>\n",
       "    .dataframe tbody tr th:only-of-type {\n",
       "        vertical-align: middle;\n",
       "    }\n",
       "\n",
       "    .dataframe tbody tr th {\n",
       "        vertical-align: top;\n",
       "    }\n",
       "\n",
       "    .dataframe thead th {\n",
       "        text-align: right;\n",
       "    }\n",
       "</style>\n",
       "<table border=\"1\" class=\"dataframe\">\n",
       "  <thead>\n",
       "    <tr style=\"text-align: right;\">\n",
       "      <th></th>\n",
       "      <th>Parallel</th>\n",
       "      <th>OOCode</th>\n",
       "      <th>ParticipantId</th>\n",
       "      <th>Partition</th>\n",
       "    </tr>\n",
       "  </thead>\n",
       "  <tbody>\n",
       "    <tr>\n",
       "      <th>0</th>\n",
       "      <td>11</td>\n",
       "      <td>01579317-C00F-44A6-B7FB-9ABF1AB30EA4</td>\n",
       "      <td>00026864-3382-494F-96D7-D0A6BB717A42</td>\n",
       "      <td>1</td>\n",
       "    </tr>\n",
       "    <tr>\n",
       "      <th>1</th>\n",
       "      <td>11</td>\n",
       "      <td>D4FA7F86-E5D1-4ECB-8EDE-4311208541B5</td>\n",
       "      <td>0004B810-D062-4E32-ACB5-0BCF3CBEF4F8</td>\n",
       "      <td>1</td>\n",
       "    </tr>\n",
       "    <tr>\n",
       "      <th>2</th>\n",
       "      <td>11</td>\n",
       "      <td>99C7AC53-838D-45AB-85ED-42BDD2F865CB</td>\n",
       "      <td>00051BBD-7F75-4D38-9BE1-E99E471DE10D</td>\n",
       "      <td>1</td>\n",
       "    </tr>\n",
       "    <tr>\n",
       "      <th>3</th>\n",
       "      <td>11</td>\n",
       "      <td>6B478DAF-4E07-4545-84B5-14770AC9C1C1</td>\n",
       "      <td>00285945-82E0-4A66-A08E-61ABC661E876</td>\n",
       "      <td>1</td>\n",
       "    </tr>\n",
       "    <tr>\n",
       "      <th>4</th>\n",
       "      <td>11</td>\n",
       "      <td>5E1C8BC2-6F0F-4A72-A7BE-58182AF5327E</td>\n",
       "      <td>00294E7E-CA56-4437-97CD-EBB7A2C71CC9</td>\n",
       "      <td>1</td>\n",
       "    </tr>\n",
       "  </tbody>\n",
       "</table>\n",
       "</div>"
      ],
      "text/plain": [
       "   Parallel                                OOCode  \\\n",
       "0        11  01579317-C00F-44A6-B7FB-9ABF1AB30EA4   \n",
       "1        11  D4FA7F86-E5D1-4ECB-8EDE-4311208541B5   \n",
       "2        11  99C7AC53-838D-45AB-85ED-42BDD2F865CB   \n",
       "3        11  6B478DAF-4E07-4545-84B5-14770AC9C1C1   \n",
       "4        11  5E1C8BC2-6F0F-4A72-A7BE-58182AF5327E   \n",
       "\n",
       "                          ParticipantId  Partition  \n",
       "0  00026864-3382-494F-96D7-D0A6BB717A42          1  \n",
       "1  0004B810-D062-4E32-ACB5-0BCF3CBEF4F8          1  \n",
       "2  00051BBD-7F75-4D38-9BE1-E99E471DE10D          1  \n",
       "3  00285945-82E0-4A66-A08E-61ABC661E876          1  \n",
       "4  00294E7E-CA56-4437-97CD-EBB7A2C71CC9          1  "
      ]
     },
     "execution_count": 207,
     "metadata": {},
     "output_type": "execute_result"
    }
   ],
   "source": [
    "#Код тематики\n",
    "#Name Название тематики\n",
    "#Parallel Параллель тематики\n",
    "#SubjectId  Id предмета тематики\n",
    "\n",
    "Participants = pd.read_csv('hackathon/Participants.csv', sep=',')\n",
    "Participants.drop(columns ='Partition', inplace=True, axis=1)\n",
    "Participants.rename(columns = {'Id':\"ParticipantId\"}, inplace=True)\n",
    "Participants.columns\n",
    "Participants.head(5)"
   ]
  },
  {
   "cell_type": "markdown",
   "metadata": {},
   "source": [
    "# EgeResults"
   ]
  },
  {
   "cell_type": "code",
   "execution_count": 222,
   "metadata": {},
   "outputs": [
    {
     "name": "stdout",
     "output_type": "stream",
     "text": [
      "Index(['ParticipantId', 'DateExam', 'MarkPercent', 'SubjectId'], dtype='object')\n"
     ]
    },
    {
     "data": {
      "text/html": [
       "<div>\n",
       "<style scoped>\n",
       "    .dataframe tbody tr th:only-of-type {\n",
       "        vertical-align: middle;\n",
       "    }\n",
       "\n",
       "    .dataframe tbody tr th {\n",
       "        vertical-align: top;\n",
       "    }\n",
       "\n",
       "    .dataframe thead th {\n",
       "        text-align: right;\n",
       "    }\n",
       "</style>\n",
       "<table border=\"1\" class=\"dataframe\">\n",
       "  <thead>\n",
       "    <tr style=\"text-align: right;\">\n",
       "      <th></th>\n",
       "      <th>ParticipantId</th>\n",
       "      <th>DateExam</th>\n",
       "      <th>MarkPercent</th>\n",
       "      <th>SubjectId</th>\n",
       "    </tr>\n",
       "  </thead>\n",
       "  <tbody>\n",
       "    <tr>\n",
       "      <th>0</th>\n",
       "      <td>74A04FC2-A13B-468F-B4FF-08D4A3DDCEEA</td>\n",
       "      <td>2020-07-16</td>\n",
       "      <td>75</td>\n",
       "      <td>86</td>\n",
       "    </tr>\n",
       "    <tr>\n",
       "      <th>1</th>\n",
       "      <td>4C5F3B22-6439-4255-83A3-9C2573607F96</td>\n",
       "      <td>2020-07-20</td>\n",
       "      <td>77</td>\n",
       "      <td>9</td>\n",
       "    </tr>\n",
       "    <tr>\n",
       "      <th>2</th>\n",
       "      <td>539BF0E1-24D7-4323-8B36-EECAC7B5C0C5</td>\n",
       "      <td>2020-07-03</td>\n",
       "      <td>25</td>\n",
       "      <td>27</td>\n",
       "    </tr>\n",
       "    <tr>\n",
       "      <th>3</th>\n",
       "      <td>1BAE7BE4-5C78-4E0D-B29D-7E06454C830B</td>\n",
       "      <td>2020-07-13</td>\n",
       "      <td>83</td>\n",
       "      <td>77</td>\n",
       "    </tr>\n",
       "    <tr>\n",
       "      <th>4</th>\n",
       "      <td>5B3D82FB-D840-44DE-ADC0-A9CBEB2C06B2</td>\n",
       "      <td>2020-07-20</td>\n",
       "      <td>91</td>\n",
       "      <td>4</td>\n",
       "    </tr>\n",
       "  </tbody>\n",
       "</table>\n",
       "</div>"
      ],
      "text/plain": [
       "                          ParticipantId    DateExam  MarkPercent  SubjectId\n",
       "0  74A04FC2-A13B-468F-B4FF-08D4A3DDCEEA  2020-07-16           75         86\n",
       "1  4C5F3B22-6439-4255-83A3-9C2573607F96  2020-07-20           77          9\n",
       "2  539BF0E1-24D7-4323-8B36-EECAC7B5C0C5  2020-07-03           25         27\n",
       "3  1BAE7BE4-5C78-4E0D-B29D-7E06454C830B  2020-07-13           83         77\n",
       "4  5B3D82FB-D840-44DE-ADC0-A9CBEB2C06B2  2020-07-20           91          4"
      ]
     },
     "execution_count": 222,
     "metadata": {},
     "output_type": "execute_result"
    }
   ],
   "source": [
    "EgeResults = pd.read_csv('hackathon/EgeResults.csv', sep=',')\n",
    "EgeResults.drop(columns =['Partition', 'Id'], inplace=True, axis=1)\n",
    "print(EgeResults.columns)\n",
    "EgeResults.head(5)"
   ]
  },
  {
   "cell_type": "code",
   "execution_count": 226,
   "metadata": {},
   "outputs": [
    {
     "name": "stdout",
     "output_type": "stream",
     "text": [
      "(11328, 3)\n",
      "(38600, 6)\n",
      "Index(['Parallel', 'OOCode', 'ParticipantId', 'DateExam', 'MarkPercent',\n",
      "       'SubjectId'],\n",
      "      dtype='object')\n"
     ]
    },
    {
     "data": {
      "text/html": [
       "<div>\n",
       "<style scoped>\n",
       "    .dataframe tbody tr th:only-of-type {\n",
       "        vertical-align: middle;\n",
       "    }\n",
       "\n",
       "    .dataframe tbody tr th {\n",
       "        vertical-align: top;\n",
       "    }\n",
       "\n",
       "    .dataframe thead th {\n",
       "        text-align: right;\n",
       "    }\n",
       "</style>\n",
       "<table border=\"1\" class=\"dataframe\">\n",
       "  <thead>\n",
       "    <tr style=\"text-align: right;\">\n",
       "      <th></th>\n",
       "      <th>Parallel</th>\n",
       "      <th>OOCode</th>\n",
       "      <th>ParticipantId</th>\n",
       "      <th>DateExam</th>\n",
       "      <th>MarkPercent</th>\n",
       "      <th>SubjectId</th>\n",
       "    </tr>\n",
       "  </thead>\n",
       "  <tbody>\n",
       "    <tr>\n",
       "      <th>0</th>\n",
       "      <td>11</td>\n",
       "      <td>01579317-C00F-44A6-B7FB-9ABF1AB30EA4</td>\n",
       "      <td>00026864-3382-494F-96D7-D0A6BB717A42</td>\n",
       "      <td>2020-07-20</td>\n",
       "      <td>44</td>\n",
       "      <td>9</td>\n",
       "    </tr>\n",
       "    <tr>\n",
       "      <th>1</th>\n",
       "      <td>11</td>\n",
       "      <td>01579317-C00F-44A6-B7FB-9ABF1AB30EA4</td>\n",
       "      <td>00026864-3382-494F-96D7-D0A6BB717A42</td>\n",
       "      <td>2020-07-10</td>\n",
       "      <td>40</td>\n",
       "      <td>49</td>\n",
       "    </tr>\n",
       "    <tr>\n",
       "      <th>2</th>\n",
       "      <td>11</td>\n",
       "      <td>01579317-C00F-44A6-B7FB-9ABF1AB30EA4</td>\n",
       "      <td>00026864-3382-494F-96D7-D0A6BB717A42</td>\n",
       "      <td>2020-07-07</td>\n",
       "      <td>72</td>\n",
       "      <td>75</td>\n",
       "    </tr>\n",
       "  </tbody>\n",
       "</table>\n",
       "</div>"
      ],
      "text/plain": [
       "   Parallel                                OOCode  \\\n",
       "0        11  01579317-C00F-44A6-B7FB-9ABF1AB30EA4   \n",
       "1        11  01579317-C00F-44A6-B7FB-9ABF1AB30EA4   \n",
       "2        11  01579317-C00F-44A6-B7FB-9ABF1AB30EA4   \n",
       "\n",
       "                          ParticipantId    DateExam  MarkPercent  SubjectId  \n",
       "0  00026864-3382-494F-96D7-D0A6BB717A42  2020-07-20           44          9  \n",
       "1  00026864-3382-494F-96D7-D0A6BB717A42  2020-07-10           40         49  \n",
       "2  00026864-3382-494F-96D7-D0A6BB717A42  2020-07-07           72         75  "
      ]
     },
     "execution_count": 226,
     "metadata": {},
     "output_type": "execute_result"
    }
   ],
   "source": [
    "print(Participants.shape)\n",
    "DATA = Participants.merge(EgeResults, how='left', on='ParticipantId')\n",
    "print(DATA.shape)\n",
    "print(DATA.columns)\n",
    "DATA.head(3)"
   ]
  },
  {
   "cell_type": "markdown",
   "metadata": {},
   "source": [
    "# MedalistResults"
   ]
  },
  {
   "cell_type": "code",
   "execution_count": 227,
   "metadata": {},
   "outputs": [
    {
     "name": "stdout",
     "output_type": "stream",
     "text": [
      "(1836, 2)\n"
     ]
    },
    {
     "data": {
      "text/html": [
       "<div>\n",
       "<style scoped>\n",
       "    .dataframe tbody tr th:only-of-type {\n",
       "        vertical-align: middle;\n",
       "    }\n",
       "\n",
       "    .dataframe tbody tr th {\n",
       "        vertical-align: top;\n",
       "    }\n",
       "\n",
       "    .dataframe thead th {\n",
       "        text-align: right;\n",
       "    }\n",
       "</style>\n",
       "<table border=\"1\" class=\"dataframe\">\n",
       "  <thead>\n",
       "    <tr style=\"text-align: right;\">\n",
       "      <th></th>\n",
       "      <th>Type</th>\n",
       "      <th>ParticipantId</th>\n",
       "    </tr>\n",
       "  </thead>\n",
       "  <tbody>\n",
       "    <tr>\n",
       "      <th>0</th>\n",
       "      <td>0</td>\n",
       "      <td>B693A6E8-E8C9-40F5-8E63-0083317462F5</td>\n",
       "    </tr>\n",
       "    <tr>\n",
       "      <th>1</th>\n",
       "      <td>0</td>\n",
       "      <td>EAC81C2C-E4C8-4213-A077-C013281F477A</td>\n",
       "    </tr>\n",
       "    <tr>\n",
       "      <th>2</th>\n",
       "      <td>0</td>\n",
       "      <td>3E8F291A-8192-4389-B1E2-B1AF873E152F</td>\n",
       "    </tr>\n",
       "  </tbody>\n",
       "</table>\n",
       "</div>"
      ],
      "text/plain": [
       "   Type                         ParticipantId\n",
       "0     0  B693A6E8-E8C9-40F5-8E63-0083317462F5\n",
       "1     0  EAC81C2C-E4C8-4213-A077-C013281F477A\n",
       "2     0  3E8F291A-8192-4389-B1E2-B1AF873E152F"
      ]
     },
     "execution_count": 227,
     "metadata": {},
     "output_type": "execute_result"
    }
   ],
   "source": [
    "MedalistResults = pd.read_csv('MedalistResults.csv', sep=',')\n",
    "MedalistResults.drop(columns=['Partition', 'Id'],inplace=True)\n",
    "print(MedalistResults.shape)\n",
    "MedalistResults.head(3)"
   ]
  },
  {
   "cell_type": "code",
   "execution_count": 228,
   "metadata": {},
   "outputs": [
    {
     "name": "stdout",
     "output_type": "stream",
     "text": [
      "(11328, 3)\n",
      "(38735, 7)\n",
      "Index(['Parallel', 'OOCode', 'ParticipantId', 'DateExam', 'MarkPercent',\n",
      "       'SubjectId', 'Type'],\n",
      "      dtype='object')\n"
     ]
    },
    {
     "data": {
      "text/html": [
       "<div>\n",
       "<style scoped>\n",
       "    .dataframe tbody tr th:only-of-type {\n",
       "        vertical-align: middle;\n",
       "    }\n",
       "\n",
       "    .dataframe tbody tr th {\n",
       "        vertical-align: top;\n",
       "    }\n",
       "\n",
       "    .dataframe thead th {\n",
       "        text-align: right;\n",
       "    }\n",
       "</style>\n",
       "<table border=\"1\" class=\"dataframe\">\n",
       "  <thead>\n",
       "    <tr style=\"text-align: right;\">\n",
       "      <th></th>\n",
       "      <th>Parallel</th>\n",
       "      <th>OOCode</th>\n",
       "      <th>ParticipantId</th>\n",
       "      <th>DateExam</th>\n",
       "      <th>MarkPercent</th>\n",
       "      <th>SubjectId</th>\n",
       "      <th>Type</th>\n",
       "    </tr>\n",
       "  </thead>\n",
       "  <tbody>\n",
       "    <tr>\n",
       "      <th>0</th>\n",
       "      <td>11</td>\n",
       "      <td>01579317-C00F-44A6-B7FB-9ABF1AB30EA4</td>\n",
       "      <td>00026864-3382-494F-96D7-D0A6BB717A42</td>\n",
       "      <td>2020-07-20</td>\n",
       "      <td>44</td>\n",
       "      <td>9</td>\n",
       "      <td>-1.0</td>\n",
       "    </tr>\n",
       "    <tr>\n",
       "      <th>1</th>\n",
       "      <td>11</td>\n",
       "      <td>01579317-C00F-44A6-B7FB-9ABF1AB30EA4</td>\n",
       "      <td>00026864-3382-494F-96D7-D0A6BB717A42</td>\n",
       "      <td>2020-07-10</td>\n",
       "      <td>40</td>\n",
       "      <td>49</td>\n",
       "      <td>-1.0</td>\n",
       "    </tr>\n",
       "    <tr>\n",
       "      <th>2</th>\n",
       "      <td>11</td>\n",
       "      <td>01579317-C00F-44A6-B7FB-9ABF1AB30EA4</td>\n",
       "      <td>00026864-3382-494F-96D7-D0A6BB717A42</td>\n",
       "      <td>2020-07-07</td>\n",
       "      <td>72</td>\n",
       "      <td>75</td>\n",
       "      <td>-1.0</td>\n",
       "    </tr>\n",
       "  </tbody>\n",
       "</table>\n",
       "</div>"
      ],
      "text/plain": [
       "   Parallel                                OOCode  \\\n",
       "0        11  01579317-C00F-44A6-B7FB-9ABF1AB30EA4   \n",
       "1        11  01579317-C00F-44A6-B7FB-9ABF1AB30EA4   \n",
       "2        11  01579317-C00F-44A6-B7FB-9ABF1AB30EA4   \n",
       "\n",
       "                          ParticipantId    DateExam  MarkPercent  SubjectId  \\\n",
       "0  00026864-3382-494F-96D7-D0A6BB717A42  2020-07-20           44          9   \n",
       "1  00026864-3382-494F-96D7-D0A6BB717A42  2020-07-10           40         49   \n",
       "2  00026864-3382-494F-96D7-D0A6BB717A42  2020-07-07           72         75   \n",
       "\n",
       "   Type  \n",
       "0  -1.0  \n",
       "1  -1.0  \n",
       "2  -1.0  "
      ]
     },
     "execution_count": 228,
     "metadata": {},
     "output_type": "execute_result"
    }
   ],
   "source": [
    "print(Participants.shape)\n",
    "DATA = DATA.merge(MedalistResults, how='left', on='ParticipantId')\n",
    "print(DATA.shape)\n",
    "print(DATA.columns)\n",
    "DATA.Type.fillna(-1, inplace=True)\n",
    "DATA.head(3)"
   ]
  },
  {
   "cell_type": "code",
   "execution_count": 229,
   "metadata": {},
   "outputs": [],
   "source": [
    "# Participants['OOCode'].value_counts() Взять самые частые\n",
    "# Participants.Parallel.value_counts() Есть 10е классы"
   ]
  },
  {
   "cell_type": "code",
   "execution_count": 237,
   "metadata": {},
   "outputs": [
    {
     "data": {
      "text/plain": [
       "11328"
      ]
     },
     "execution_count": 237,
     "metadata": {},
     "output_type": "execute_result"
    }
   ],
   "source": [
    "DATA.ParticipantId.nunique()"
   ]
  },
  {
   "cell_type": "code",
   "execution_count": null,
   "metadata": {},
   "outputs": [],
   "source": [
    " "
   ]
  },
  {
   "cell_type": "code",
   "execution_count": null,
   "metadata": {},
   "outputs": [],
   "source": [
    " "
   ]
  },
  {
   "cell_type": "code",
   "execution_count": null,
   "metadata": {},
   "outputs": [],
   "source": [
    " "
   ]
  },
  {
   "cell_type": "code",
   "execution_count": 235,
   "metadata": {},
   "outputs": [
    {
     "name": "stdout",
     "output_type": "stream",
     "text": [
      "(11360, 8)\n"
     ]
    },
    {
     "data": {
      "text/html": [
       "<div>\n",
       "<style scoped>\n",
       "    .dataframe tbody tr th:only-of-type {\n",
       "        vertical-align: middle;\n",
       "    }\n",
       "\n",
       "    .dataframe tbody tr th {\n",
       "        vertical-align: top;\n",
       "    }\n",
       "\n",
       "    .dataframe thead th {\n",
       "        text-align: right;\n",
       "    }\n",
       "</style>\n",
       "<table border=\"1\" class=\"dataframe\">\n",
       "  <thead>\n",
       "    <tr style=\"text-align: right;\">\n",
       "      <th></th>\n",
       "      <th>ResultId</th>\n",
       "      <th>Source</th>\n",
       "      <th>ParticipantId</th>\n",
       "      <th>StudentParallel</th>\n",
       "      <th>TestDate</th>\n",
       "      <th>Mark</th>\n",
       "      <th>MaxMark</th>\n",
       "      <th>SubjectId</th>\n",
       "    </tr>\n",
       "  </thead>\n",
       "  <tbody>\n",
       "    <tr>\n",
       "      <th>0</th>\n",
       "      <td>187000</td>\n",
       "      <td>0</td>\n",
       "      <td>C70E4C52-34C9-4FBE-9B52-4B78AE43C2DA</td>\n",
       "      <td>11</td>\n",
       "      <td>2019-11-08 16:52:48</td>\n",
       "      <td>25.0</td>\n",
       "      <td>33</td>\n",
       "      <td>75</td>\n",
       "    </tr>\n",
       "    <tr>\n",
       "      <th>1</th>\n",
       "      <td>239604</td>\n",
       "      <td>0</td>\n",
       "      <td>20647873-4AA8-42E3-B7FE-51DE8E0BEAF5</td>\n",
       "      <td>11</td>\n",
       "      <td>2020-03-20 15:04:33</td>\n",
       "      <td>12.0</td>\n",
       "      <td>30</td>\n",
       "      <td>77</td>\n",
       "    </tr>\n",
       "    <tr>\n",
       "      <th>2</th>\n",
       "      <td>239606</td>\n",
       "      <td>0</td>\n",
       "      <td>4DFEFA69-EB35-44BD-B239-6AA4DE66F866</td>\n",
       "      <td>11</td>\n",
       "      <td>2020-03-20 15:06:19</td>\n",
       "      <td>24.0</td>\n",
       "      <td>31</td>\n",
       "      <td>86</td>\n",
       "    </tr>\n",
       "  </tbody>\n",
       "</table>\n",
       "</div>"
      ],
      "text/plain": [
       "   ResultId  Source                         ParticipantId  StudentParallel  \\\n",
       "0    187000       0  C70E4C52-34C9-4FBE-9B52-4B78AE43C2DA               11   \n",
       "1    239604       0  20647873-4AA8-42E3-B7FE-51DE8E0BEAF5               11   \n",
       "2    239606       0  4DFEFA69-EB35-44BD-B239-6AA4DE66F866               11   \n",
       "\n",
       "              TestDate  Mark  MaxMark  SubjectId  \n",
       "0  2019-11-08 16:52:48  25.0       33         75  \n",
       "1  2020-03-20 15:04:33  12.0       30         77  \n",
       "2  2020-03-20 15:06:19  24.0       31         86  "
      ]
     },
     "execution_count": 235,
     "metadata": {},
     "output_type": "execute_result"
    }
   ],
   "source": [
    "DiagnosticResults = pd.read_csv('DiagnosticResults.csv', sep=',')\n",
    "DiagnosticResults.drop(columns='Partition',inplace=True, axis=1)\n",
    "print(DiagnosticResults.shape)\n",
    "DiagnosticResults.head(3)"
   ]
  },
  {
   "cell_type": "code",
   "execution_count": 231,
   "metadata": {},
   "outputs": [
    {
     "data": {
      "text/plain": [
       "1    11360\n",
       "Name: Partition, dtype: int64"
      ]
     },
     "execution_count": 231,
     "metadata": {},
     "output_type": "execute_result"
    }
   ],
   "source": [
    " "
   ]
  },
  {
   "cell_type": "code",
   "execution_count": 179,
   "metadata": {},
   "outputs": [
    {
     "data": {
      "text/html": [
       "<div>\n",
       "<style scoped>\n",
       "    .dataframe tbody tr th:only-of-type {\n",
       "        vertical-align: middle;\n",
       "    }\n",
       "\n",
       "    .dataframe tbody tr th {\n",
       "        vertical-align: top;\n",
       "    }\n",
       "\n",
       "    .dataframe thead th {\n",
       "        text-align: right;\n",
       "    }\n",
       "</style>\n",
       "<table border=\"1\" class=\"dataframe\">\n",
       "  <thead>\n",
       "    <tr style=\"text-align: right;\">\n",
       "      <th></th>\n",
       "      <th>Id</th>\n",
       "      <th>Code</th>\n",
       "      <th>Name</th>\n",
       "      <th>Parallel</th>\n",
       "      <th>SubjectId</th>\n",
       "    </tr>\n",
       "  </thead>\n",
       "  <tbody>\n",
       "    <tr>\n",
       "      <th>0</th>\n",
       "      <td>1</td>\n",
       "      <td>.1.1.1</td>\n",
       "      <td>Информация. Язык как способ представления и пе...</td>\n",
       "      <td>7.0</td>\n",
       "      <td>27.0</td>\n",
       "    </tr>\n",
       "    <tr>\n",
       "      <th>1</th>\n",
       "      <td>2</td>\n",
       "      <td>.1.1.4</td>\n",
       "      <td>Знание основ дидактики и педагогики</td>\n",
       "      <td>100.0</td>\n",
       "      <td>57.0</td>\n",
       "    </tr>\n",
       "    <tr>\n",
       "      <th>2</th>\n",
       "      <td>3</td>\n",
       "      <td>.1.2.2</td>\n",
       "      <td>Определение главной мысли, основного содержани...</td>\n",
       "      <td>3.0</td>\n",
       "      <td>88.0</td>\n",
       "    </tr>\n",
       "    <tr>\n",
       "      <th>3</th>\n",
       "      <td>4</td>\n",
       "      <td>.1.2.6</td>\n",
       "      <td>Знание взаимосвязи видов искусства</td>\n",
       "      <td>100.0</td>\n",
       "      <td>57.0</td>\n",
       "    </tr>\n",
       "    <tr>\n",
       "      <th>4</th>\n",
       "      <td>5</td>\n",
       "      <td>.1.2.7</td>\n",
       "      <td>Постановка вопросов, ответы на вопросы по соде...</td>\n",
       "      <td>-1.0</td>\n",
       "      <td>88.0</td>\n",
       "    </tr>\n",
       "    <tr>\n",
       "      <th>...</th>\n",
       "      <td>...</td>\n",
       "      <td>...</td>\n",
       "      <td>...</td>\n",
       "      <td>...</td>\n",
       "      <td>...</td>\n",
       "    </tr>\n",
       "    <tr>\n",
       "      <th>10493</th>\n",
       "      <td>10494</td>\n",
       "      <td>4.1-4.3</td>\n",
       "      <td>Производная. Исследование функций. Первообразн...</td>\n",
       "      <td>11.0</td>\n",
       "      <td>49.0</td>\n",
       "    </tr>\n",
       "    <tr>\n",
       "      <th>10494</th>\n",
       "      <td>10495</td>\n",
       "      <td>5.1, 5.5</td>\n",
       "      <td>Планиметрия. Измерение геометрических величин</td>\n",
       "      <td>11.0</td>\n",
       "      <td>49.0</td>\n",
       "    </tr>\n",
       "    <tr>\n",
       "      <th>10495</th>\n",
       "      <td>10496</td>\n",
       "      <td>5.1.1-5.1.4, 5.5.1-5.5.5</td>\n",
       "      <td>Треугольник. Параллелограмм, прямоугольник, ро...</td>\n",
       "      <td>11.0</td>\n",
       "      <td>49.0</td>\n",
       "    </tr>\n",
       "    <tr>\n",
       "      <th>10496</th>\n",
       "      <td>10497</td>\n",
       "      <td>5.2-5.5</td>\n",
       "      <td>Прямые и плоскости в пространстве. Многогранни...</td>\n",
       "      <td>11.0</td>\n",
       "      <td>49.0</td>\n",
       "    </tr>\n",
       "    <tr>\n",
       "      <th>10497</th>\n",
       "      <td>10498</td>\n",
       "      <td>6.3</td>\n",
       "      <td>Элементы теории вероятностей</td>\n",
       "      <td>11.0</td>\n",
       "      <td>49.0</td>\n",
       "    </tr>\n",
       "  </tbody>\n",
       "</table>\n",
       "<p>10498 rows × 5 columns</p>\n",
       "</div>"
      ],
      "text/plain": [
       "          Id                      Code  \\\n",
       "0          1                    .1.1.1   \n",
       "1          2                    .1.1.4   \n",
       "2          3                    .1.2.2   \n",
       "3          4                    .1.2.6   \n",
       "4          5                    .1.2.7   \n",
       "...      ...                       ...   \n",
       "10493  10494                   4.1-4.3   \n",
       "10494  10495                  5.1, 5.5   \n",
       "10495  10496  5.1.1-5.1.4, 5.5.1-5.5.5   \n",
       "10496  10497                   5.2-5.5   \n",
       "10497  10498                       6.3   \n",
       "\n",
       "                                                    Name  Parallel  SubjectId  \n",
       "0      Информация. Язык как способ представления и пе...       7.0       27.0  \n",
       "1                    Знание основ дидактики и педагогики     100.0       57.0  \n",
       "2      Определение главной мысли, основного содержани...       3.0       88.0  \n",
       "3                     Знание взаимосвязи видов искусства     100.0       57.0  \n",
       "4      Постановка вопросов, ответы на вопросы по соде...      -1.0       88.0  \n",
       "...                                                  ...       ...        ...  \n",
       "10493  Производная. Исследование функций. Первообразн...      11.0       49.0  \n",
       "10494      Планиметрия. Измерение геометрических величин      11.0       49.0  \n",
       "10495  Треугольник. Параллелограмм, прямоугольник, ро...      11.0       49.0  \n",
       "10496  Прямые и плоскости в пространстве. Многогранни...      11.0       49.0  \n",
       "10497                       Элементы теории вероятностей      11.0       49.0  \n",
       "\n",
       "[10498 rows x 5 columns]"
      ]
     },
     "execution_count": 179,
     "metadata": {},
     "output_type": "execute_result"
    }
   ],
   "source": [
    "Classifiers = pd.read_csv('hackathon/Classifiers.csv', sep=',')\n",
    "Classifiers"
   ]
  },
  {
   "cell_type": "code",
   "execution_count": 176,
   "metadata": {},
   "outputs": [],
   "source": [
    "# cols = []\n",
    "# for col in Classifiers.columns:\n",
    "#     try: Classifiers[col] = Classifiers[col].str.replace('\"','')\n",
    "#     except: pass\n",
    "#     cols.append(col.replace('\"',''))\n",
    "    \n",
    "# Classifiers.columns = cols\n",
    "# Classifiers.head(3)"
   ]
  },
  {
   "cell_type": "code",
   "execution_count": 177,
   "metadata": {},
   "outputs": [
    {
     "name": "stdout",
     "output_type": "stream",
     "text": [
      "<class 'pandas.core.frame.DataFrame'>\n",
      "RangeIndex: 10498 entries, 0 to 10497\n",
      "Data columns (total 5 columns):\n",
      " #   Column     Non-Null Count  Dtype  \n",
      "---  ------     --------------  -----  \n",
      " 0   Id         10498 non-null  int64  \n",
      " 1   Code       10497 non-null  object \n",
      " 2   Name       10497 non-null  object \n",
      " 3   Parallel   10497 non-null  float64\n",
      " 4   SubjectId  10497 non-null  float64\n",
      "dtypes: float64(2), int64(1), object(2)\n",
      "memory usage: 410.2+ KB\n"
     ]
    }
   ],
   "source": [
    "Classifiers.info()"
   ]
  },
  {
   "cell_type": "code",
   "execution_count": 130,
   "metadata": {},
   "outputs": [
    {
     "data": {
      "text/html": [
       "<div>\n",
       "<style scoped>\n",
       "    .dataframe tbody tr th:only-of-type {\n",
       "        vertical-align: middle;\n",
       "    }\n",
       "\n",
       "    .dataframe tbody tr th {\n",
       "        vertical-align: top;\n",
       "    }\n",
       "\n",
       "    .dataframe thead th {\n",
       "        text-align: right;\n",
       "    }\n",
       "</style>\n",
       "<table border=\"1\" class=\"dataframe\">\n",
       "  <thead>\n",
       "    <tr style=\"text-align: right;\">\n",
       "      <th></th>\n",
       "      <th>Id</th>\n",
       "      <th>ResultId</th>\n",
       "      <th>Source</th>\n",
       "      <th>NumberInKim</th>\n",
       "      <th>Mark</th>\n",
       "      <th>MaxMark</th>\n",
       "      <th>ClassifierId</th>\n",
       "      <th>Partition</th>\n",
       "    </tr>\n",
       "  </thead>\n",
       "  <tbody>\n",
       "    <tr>\n",
       "      <th>0</th>\n",
       "      <td>3151177</td>\n",
       "      <td>187000</td>\n",
       "      <td>0</td>\n",
       "      <td>1</td>\n",
       "      <td>0</td>\n",
       "      <td>2.0</td>\n",
       "      <td>1883</td>\n",
       "      <td>1</td>\n",
       "    </tr>\n",
       "    <tr>\n",
       "      <th>1</th>\n",
       "      <td>3151178</td>\n",
       "      <td>187000</td>\n",
       "      <td>0</td>\n",
       "      <td>2</td>\n",
       "      <td>1</td>\n",
       "      <td>1.0</td>\n",
       "      <td>2579</td>\n",
       "      <td>1</td>\n",
       "    </tr>\n",
       "    <tr>\n",
       "      <th>2</th>\n",
       "      <td>3151179</td>\n",
       "      <td>187000</td>\n",
       "      <td>0</td>\n",
       "      <td>3</td>\n",
       "      <td>1</td>\n",
       "      <td>1.0</td>\n",
       "      <td>2894</td>\n",
       "      <td>1</td>\n",
       "    </tr>\n",
       "  </tbody>\n",
       "</table>\n",
       "</div>"
      ],
      "text/plain": [
       "        Id  ResultId  Source  NumberInKim Mark  MaxMark ClassifierId  \\\n",
       "0  3151177    187000       0            1    0      2.0         1883   \n",
       "1  3151178    187000       0            2    1      1.0         2579   \n",
       "2  3151179    187000       0            3    1      1.0         2894   \n",
       "\n",
       "   Partition  \n",
       "0          1  \n",
       "1          1  \n",
       "2          1  "
      ]
     },
     "execution_count": 130,
     "metadata": {},
     "output_type": "execute_result"
    }
   ],
   "source": [
    "DiagnosticResultDetails = pd.read_csv('DiagnosticResultDetails.csv', sep=',')\n",
    "DiagnosticResultDetails.head(3)"
   ]
  },
  {
   "cell_type": "code",
   "execution_count": 131,
   "metadata": {},
   "outputs": [
    {
     "data": {
      "text/html": [
       "<div>\n",
       "<style scoped>\n",
       "    .dataframe tbody tr th:only-of-type {\n",
       "        vertical-align: middle;\n",
       "    }\n",
       "\n",
       "    .dataframe tbody tr th {\n",
       "        vertical-align: top;\n",
       "    }\n",
       "\n",
       "    .dataframe thead th {\n",
       "        text-align: right;\n",
       "    }\n",
       "</style>\n",
       "<table border=\"1\" class=\"dataframe\">\n",
       "  <thead>\n",
       "    <tr style=\"text-align: right;\">\n",
       "      <th></th>\n",
       "      <th>ResultId</th>\n",
       "      <th>Source</th>\n",
       "      <th>ParticipantId</th>\n",
       "      <th>StudentParallel</th>\n",
       "      <th>TestDate</th>\n",
       "      <th>Mark</th>\n",
       "      <th>MaxMark</th>\n",
       "      <th>SubjectId</th>\n",
       "      <th>Partition</th>\n",
       "    </tr>\n",
       "  </thead>\n",
       "  <tbody>\n",
       "    <tr>\n",
       "      <th>0</th>\n",
       "      <td>187000</td>\n",
       "      <td>0</td>\n",
       "      <td>C70E4C52-34C9-4FBE-9B52-4B78AE43C2DA</td>\n",
       "      <td>11</td>\n",
       "      <td>2019-11-08 16:52:48</td>\n",
       "      <td>25.0</td>\n",
       "      <td>33</td>\n",
       "      <td>75</td>\n",
       "      <td>1</td>\n",
       "    </tr>\n",
       "    <tr>\n",
       "      <th>1</th>\n",
       "      <td>239604</td>\n",
       "      <td>0</td>\n",
       "      <td>20647873-4AA8-42E3-B7FE-51DE8E0BEAF5</td>\n",
       "      <td>11</td>\n",
       "      <td>2020-03-20 15:04:33</td>\n",
       "      <td>12.0</td>\n",
       "      <td>30</td>\n",
       "      <td>77</td>\n",
       "      <td>1</td>\n",
       "    </tr>\n",
       "    <tr>\n",
       "      <th>2</th>\n",
       "      <td>239606</td>\n",
       "      <td>0</td>\n",
       "      <td>4DFEFA69-EB35-44BD-B239-6AA4DE66F866</td>\n",
       "      <td>11</td>\n",
       "      <td>2020-03-20 15:06:19</td>\n",
       "      <td>24.0</td>\n",
       "      <td>31</td>\n",
       "      <td>86</td>\n",
       "      <td>1</td>\n",
       "    </tr>\n",
       "  </tbody>\n",
       "</table>\n",
       "</div>"
      ],
      "text/plain": [
       "   ResultId  Source                         ParticipantId  StudentParallel  \\\n",
       "0    187000       0  C70E4C52-34C9-4FBE-9B52-4B78AE43C2DA               11   \n",
       "1    239604       0  20647873-4AA8-42E3-B7FE-51DE8E0BEAF5               11   \n",
       "2    239606       0  4DFEFA69-EB35-44BD-B239-6AA4DE66F866               11   \n",
       "\n",
       "              TestDate  Mark  MaxMark  SubjectId  Partition  \n",
       "0  2019-11-08 16:52:48  25.0       33         75          1  \n",
       "1  2020-03-20 15:04:33  12.0       30         77          1  \n",
       "2  2020-03-20 15:06:19  24.0       31         86          1  "
      ]
     },
     "execution_count": 131,
     "metadata": {},
     "output_type": "execute_result"
    }
   ],
   "source": [
    " "
   ]
  },
  {
   "cell_type": "code",
   "execution_count": 132,
   "metadata": {},
   "outputs": [
    {
     "data": {
      "text/html": [
       "<div>\n",
       "<style scoped>\n",
       "    .dataframe tbody tr th:only-of-type {\n",
       "        vertical-align: middle;\n",
       "    }\n",
       "\n",
       "    .dataframe tbody tr th {\n",
       "        vertical-align: top;\n",
       "    }\n",
       "\n",
       "    .dataframe thead th {\n",
       "        text-align: right;\n",
       "    }\n",
       "</style>\n",
       "<table border=\"1\" class=\"dataframe\">\n",
       "  <thead>\n",
       "    <tr style=\"text-align: right;\">\n",
       "      <th></th>\n",
       "      <th>Id</th>\n",
       "      <th>ResultId</th>\n",
       "      <th>Part</th>\n",
       "      <th>NumberInPart</th>\n",
       "      <th>Number</th>\n",
       "      <th>Mark</th>\n",
       "      <th>MaxMark</th>\n",
       "      <th>ClassifierId</th>\n",
       "      <th>Partition</th>\n",
       "    </tr>\n",
       "  </thead>\n",
       "  <tbody>\n",
       "    <tr>\n",
       "      <th>0</th>\n",
       "      <td>39</td>\n",
       "      <td>4EF9DB0D-2E75-4654-A74C-0000317B2FC1</td>\n",
       "      <td>1</td>\n",
       "      <td>1</td>\n",
       "      <td>\\N</td>\n",
       "      <td>1</td>\n",
       "      <td>1</td>\n",
       "      <td>3914</td>\n",
       "      <td>1</td>\n",
       "    </tr>\n",
       "    <tr>\n",
       "      <th>1</th>\n",
       "      <td>40</td>\n",
       "      <td>4EF9DB0D-2E75-4654-A74C-0000317B2FC1</td>\n",
       "      <td>1</td>\n",
       "      <td>2</td>\n",
       "      <td>\\N</td>\n",
       "      <td>1</td>\n",
       "      <td>1</td>\n",
       "      <td>1252</td>\n",
       "      <td>1</td>\n",
       "    </tr>\n",
       "    <tr>\n",
       "      <th>2</th>\n",
       "      <td>41</td>\n",
       "      <td>4EF9DB0D-2E75-4654-A74C-0000317B2FC1</td>\n",
       "      <td>1</td>\n",
       "      <td>3</td>\n",
       "      <td>\\N</td>\n",
       "      <td>1</td>\n",
       "      <td>1</td>\n",
       "      <td>498</td>\n",
       "      <td>1</td>\n",
       "    </tr>\n",
       "  </tbody>\n",
       "</table>\n",
       "</div>"
      ],
      "text/plain": [
       "   Id                              ResultId  Part  NumberInPart Number  Mark  \\\n",
       "0  39  4EF9DB0D-2E75-4654-A74C-0000317B2FC1     1             1     \\N     1   \n",
       "1  40  4EF9DB0D-2E75-4654-A74C-0000317B2FC1     1             2     \\N     1   \n",
       "2  41  4EF9DB0D-2E75-4654-A74C-0000317B2FC1     1             3     \\N     1   \n",
       "\n",
       "   MaxMark ClassifierId  Partition  \n",
       "0        1         3914          1  \n",
       "1        1         1252          1  \n",
       "2        1          498          1  "
      ]
     },
     "execution_count": 132,
     "metadata": {},
     "output_type": "execute_result"
    }
   ],
   "source": [
    "EgeResultDetails = pd.read_csv('EgeResultDetails.csv', sep=',')\n",
    "EgeResultDetails.head(3)"
   ]
  },
  {
   "cell_type": "code",
   "execution_count": 152,
   "metadata": {},
   "outputs": [],
   "source": [
    "# EgeResultDetails['MaxMark'].value_counts()\n",
    "# Number дропнуть !"
   ]
  },
  {
   "cell_type": "code",
   "execution_count": 147,
   "metadata": {},
   "outputs": [
    {
     "name": "stdout",
     "output_type": "stream",
     "text": [
      "<class 'pandas.core.frame.DataFrame'>\n",
      "RangeIndex: 1239386 entries, 0 to 1239385\n",
      "Data columns (total 9 columns):\n",
      " #   Column        Non-Null Count    Dtype \n",
      "---  ------        --------------    ----- \n",
      " 0   Id            1239386 non-null  int64 \n",
      " 1   ResultId      1239386 non-null  object\n",
      " 2   Part          1239386 non-null  int64 \n",
      " 3   NumberInPart  1239386 non-null  int64 \n",
      " 4   Number        1239386 non-null  object\n",
      " 5   Mark          1239386 non-null  int64 \n",
      " 6   MaxMark       1239386 non-null  int64 \n",
      " 7   ClassifierId  1239386 non-null  object\n",
      " 8   Partition     1239386 non-null  int64 \n",
      "dtypes: int64(6), object(3)\n",
      "memory usage: 85.1+ MB\n"
     ]
    }
   ],
   "source": [
    "EgeResultDetails.info()"
   ]
  },
  {
   "cell_type": "code",
   "execution_count": 133,
   "metadata": {},
   "outputs": [
    {
     "data": {
      "text/html": [
       "<div>\n",
       "<style scoped>\n",
       "    .dataframe tbody tr th:only-of-type {\n",
       "        vertical-align: middle;\n",
       "    }\n",
       "\n",
       "    .dataframe tbody tr th {\n",
       "        vertical-align: top;\n",
       "    }\n",
       "\n",
       "    .dataframe thead th {\n",
       "        text-align: right;\n",
       "    }\n",
       "</style>\n",
       "<table border=\"1\" class=\"dataframe\">\n",
       "  <thead>\n",
       "    <tr style=\"text-align: right;\">\n",
       "      <th></th>\n",
       "      <th>Id</th>\n",
       "      <th>ParticipantId</th>\n",
       "      <th>DateExam</th>\n",
       "      <th>MarkPercent</th>\n",
       "      <th>SubjectId</th>\n",
       "      <th>Partition</th>\n",
       "    </tr>\n",
       "  </thead>\n",
       "  <tbody>\n",
       "    <tr>\n",
       "      <th>0</th>\n",
       "      <td>000176B3-FD22-464F-80E4-1903332D8EFF</td>\n",
       "      <td>74A04FC2-A13B-468F-B4FF-08D4A3DDCEEA</td>\n",
       "      <td>2020-07-16</td>\n",
       "      <td>75</td>\n",
       "      <td>86</td>\n",
       "      <td>1</td>\n",
       "    </tr>\n",
       "    <tr>\n",
       "      <th>1</th>\n",
       "      <td>0007FBF5-CECE-4769-AAA4-F8D3B54460DE</td>\n",
       "      <td>4C5F3B22-6439-4255-83A3-9C2573607F96</td>\n",
       "      <td>2020-07-20</td>\n",
       "      <td>77</td>\n",
       "      <td>9</td>\n",
       "      <td>1</td>\n",
       "    </tr>\n",
       "    <tr>\n",
       "      <th>2</th>\n",
       "      <td>0008DF1B-A868-4A0E-AFEC-3F5F3EDB3D5D</td>\n",
       "      <td>539BF0E1-24D7-4323-8B36-EECAC7B5C0C5</td>\n",
       "      <td>2020-07-03</td>\n",
       "      <td>25</td>\n",
       "      <td>27</td>\n",
       "      <td>1</td>\n",
       "    </tr>\n",
       "  </tbody>\n",
       "</table>\n",
       "</div>"
      ],
      "text/plain": [
       "                                     Id                         ParticipantId  \\\n",
       "0  000176B3-FD22-464F-80E4-1903332D8EFF  74A04FC2-A13B-468F-B4FF-08D4A3DDCEEA   \n",
       "1  0007FBF5-CECE-4769-AAA4-F8D3B54460DE  4C5F3B22-6439-4255-83A3-9C2573607F96   \n",
       "2  0008DF1B-A868-4A0E-AFEC-3F5F3EDB3D5D  539BF0E1-24D7-4323-8B36-EECAC7B5C0C5   \n",
       "\n",
       "     DateExam  MarkPercent  SubjectId  Partition  \n",
       "0  2020-07-16           75         86          1  \n",
       "1  2020-07-20           77          9          1  \n",
       "2  2020-07-03           25         27          1  "
      ]
     },
     "execution_count": 133,
     "metadata": {},
     "output_type": "execute_result"
    }
   ],
   "source": [
    " "
   ]
  },
  {
   "cell_type": "code",
   "execution_count": 154,
   "metadata": {},
   "outputs": [
    {
     "data": {
      "text/plain": [
       "Index(['Id', 'ParticipantId', 'DateExam', 'MarkPercent', 'SubjectId',\n",
       "       'Partition'],\n",
       "      dtype='object')"
      ]
     },
     "execution_count": 154,
     "metadata": {},
     "output_type": "execute_result"
    }
   ],
   "source": [
    "EgeResults.columns"
   ]
  },
  {
   "cell_type": "code",
   "execution_count": 156,
   "metadata": {},
   "outputs": [
    {
     "data": {
      "text/plain": [
       "75    11260\n",
       "49     7835\n",
       "77     3323\n",
       "61     3204\n",
       "27     3191\n",
       "9      3070\n",
       "86     2848\n",
       "4      2279\n",
       "31      853\n",
       "44      485\n",
       "12      156\n",
       "58       42\n",
       "82       41\n",
       "37        6\n",
       "5         6\n",
       "30        1\n",
       "Name: SubjectId, dtype: int64"
      ]
     },
     "execution_count": 156,
     "metadata": {},
     "output_type": "execute_result"
    }
   ],
   "source": [
    "EgeResults['SubjectId'].value_counts()"
   ]
  },
  {
   "cell_type": "code",
   "execution_count": 157,
   "metadata": {},
   "outputs": [
    {
     "data": {
      "text/plain": [
       "<AxesSubplot:>"
      ]
     },
     "execution_count": 157,
     "metadata": {},
     "output_type": "execute_result"
    },
    {
     "data": {
      "image/png": "[encoded data removed]",
      "text/plain": [
       "<Figure size 432x288 with 1 Axes>"
      ]
     },
     "metadata": {
      "needs_background": "light"
     },
     "output_type": "display_data"
    }
   ],
   "source": [
    "# EgeResults['MarkPercent'].hist()"
   ]
  },
  {
   "cell_type": "code",
   "execution_count": 134,
   "metadata": {},
   "outputs": [
    {
     "data": {
      "text/html": [
       "<div>\n",
       "<style scoped>\n",
       "    .dataframe tbody tr th:only-of-type {\n",
       "        vertical-align: middle;\n",
       "    }\n",
       "\n",
       "    .dataframe tbody tr th {\n",
       "        vertical-align: top;\n",
       "    }\n",
       "\n",
       "    .dataframe thead th {\n",
       "        text-align: right;\n",
       "    }\n",
       "</style>\n",
       "<table border=\"1\" class=\"dataframe\">\n",
       "  <thead>\n",
       "    <tr style=\"text-align: right;\">\n",
       "      <th></th>\n",
       "      <th>Id</th>\n",
       "      <th>Type</th>\n",
       "      <th>ParticipantId</th>\n",
       "      <th>Partition</th>\n",
       "    </tr>\n",
       "  </thead>\n",
       "  <tbody>\n",
       "    <tr>\n",
       "      <th>0</th>\n",
       "      <td>25</td>\n",
       "      <td>0</td>\n",
       "      <td>B693A6E8-E8C9-40F5-8E63-0083317462F5</td>\n",
       "      <td>1</td>\n",
       "    </tr>\n",
       "    <tr>\n",
       "      <th>1</th>\n",
       "      <td>27</td>\n",
       "      <td>0</td>\n",
       "      <td>EAC81C2C-E4C8-4213-A077-C013281F477A</td>\n",
       "      <td>1</td>\n",
       "    </tr>\n",
       "    <tr>\n",
       "      <th>2</th>\n",
       "      <td>50</td>\n",
       "      <td>0</td>\n",
       "      <td>3E8F291A-8192-4389-B1E2-B1AF873E152F</td>\n",
       "      <td>1</td>\n",
       "    </tr>\n",
       "  </tbody>\n",
       "</table>\n",
       "</div>"
      ],
      "text/plain": [
       "   Id  Type                         ParticipantId  Partition\n",
       "0  25     0  B693A6E8-E8C9-40F5-8E63-0083317462F5          1\n",
       "1  27     0  EAC81C2C-E4C8-4213-A077-C013281F477A          1\n",
       "2  50     0  3E8F291A-8192-4389-B1E2-B1AF873E152F          1"
      ]
     },
     "execution_count": 134,
     "metadata": {},
     "output_type": "execute_result"
    }
   ],
   "source": [
    " "
   ]
  },
  {
   "cell_type": "code",
   "execution_count": 135,
   "metadata": {},
   "outputs": [
    {
     "data": {
      "text/html": [
       "<div>\n",
       "<style scoped>\n",
       "    .dataframe tbody tr th:only-of-type {\n",
       "        vertical-align: middle;\n",
       "    }\n",
       "\n",
       "    .dataframe tbody tr th {\n",
       "        vertical-align: top;\n",
       "    }\n",
       "\n",
       "    .dataframe thead th {\n",
       "        text-align: right;\n",
       "    }\n",
       "</style>\n",
       "<table border=\"1\" class=\"dataframe\">\n",
       "  <thead>\n",
       "    <tr style=\"text-align: right;\">\n",
       "      <th></th>\n",
       "      <th>ResultId</th>\n",
       "      <th>Id</th>\n",
       "      <th>SubjectId</th>\n",
       "      <th>Partition</th>\n",
       "    </tr>\n",
       "  </thead>\n",
       "  <tbody>\n",
       "    <tr>\n",
       "      <th>0</th>\n",
       "      <td>379</td>\n",
       "      <td>1</td>\n",
       "      <td>48</td>\n",
       "      <td>1</td>\n",
       "    </tr>\n",
       "    <tr>\n",
       "      <th>1</th>\n",
       "      <td>399</td>\n",
       "      <td>24</td>\n",
       "      <td>64</td>\n",
       "      <td>1</td>\n",
       "    </tr>\n",
       "    <tr>\n",
       "      <th>2</th>\n",
       "      <td>415</td>\n",
       "      <td>40</td>\n",
       "      <td>58</td>\n",
       "      <td>1</td>\n",
       "    </tr>\n",
       "  </tbody>\n",
       "</table>\n",
       "</div>"
      ],
      "text/plain": [
       "   ResultId  Id  SubjectId  Partition\n",
       "0       379   1         48          1\n",
       "1       399  24         64          1\n",
       "2       415  40         58          1"
      ]
     },
     "execution_count": 135,
     "metadata": {},
     "output_type": "execute_result"
    }
   ],
   "source": [
    "MedalistSubjects = pd.read_csv('MedalistSubjects.csv', sep=',')\n",
    "MedalistSubjects.head(3)"
   ]
  },
  {
   "cell_type": "code",
   "execution_count": 136,
   "metadata": {},
   "outputs": [
    {
     "data": {
      "text/html": [
       "<div>\n",
       "<style scoped>\n",
       "    .dataframe tbody tr th:only-of-type {\n",
       "        vertical-align: middle;\n",
       "    }\n",
       "\n",
       "    .dataframe tbody tr th {\n",
       "        vertical-align: top;\n",
       "    }\n",
       "\n",
       "    .dataframe thead th {\n",
       "        text-align: right;\n",
       "    }\n",
       "</style>\n",
       "<table border=\"1\" class=\"dataframe\">\n",
       "  <thead>\n",
       "    <tr style=\"text-align: right;\">\n",
       "      <th></th>\n",
       "      <th>Parallel</th>\n",
       "      <th>OOCode</th>\n",
       "      <th>Id</th>\n",
       "      <th>Partition</th>\n",
       "    </tr>\n",
       "  </thead>\n",
       "  <tbody>\n",
       "    <tr>\n",
       "      <th>0</th>\n",
       "      <td>11</td>\n",
       "      <td>01579317-C00F-44A6-B7FB-9ABF1AB30EA4</td>\n",
       "      <td>00026864-3382-494F-96D7-D0A6BB717A42</td>\n",
       "      <td>1</td>\n",
       "    </tr>\n",
       "    <tr>\n",
       "      <th>1</th>\n",
       "      <td>11</td>\n",
       "      <td>D4FA7F86-E5D1-4ECB-8EDE-4311208541B5</td>\n",
       "      <td>0004B810-D062-4E32-ACB5-0BCF3CBEF4F8</td>\n",
       "      <td>1</td>\n",
       "    </tr>\n",
       "    <tr>\n",
       "      <th>2</th>\n",
       "      <td>11</td>\n",
       "      <td>99C7AC53-838D-45AB-85ED-42BDD2F865CB</td>\n",
       "      <td>00051BBD-7F75-4D38-9BE1-E99E471DE10D</td>\n",
       "      <td>1</td>\n",
       "    </tr>\n",
       "  </tbody>\n",
       "</table>\n",
       "</div>"
      ],
      "text/plain": [
       "   Parallel                                OOCode  \\\n",
       "0        11  01579317-C00F-44A6-B7FB-9ABF1AB30EA4   \n",
       "1        11  D4FA7F86-E5D1-4ECB-8EDE-4311208541B5   \n",
       "2        11  99C7AC53-838D-45AB-85ED-42BDD2F865CB   \n",
       "\n",
       "                                     Id  Partition  \n",
       "0  00026864-3382-494F-96D7-D0A6BB717A42          1  \n",
       "1  0004B810-D062-4E32-ACB5-0BCF3CBEF4F8          1  \n",
       "2  00051BBD-7F75-4D38-9BE1-E99E471DE10D          1  "
      ]
     },
     "execution_count": 136,
     "metadata": {},
     "output_type": "execute_result"
    }
   ],
   "source": [
    " "
   ]
  },
  {
   "cell_type": "code",
   "execution_count": 137,
   "metadata": {},
   "outputs": [
    {
     "data": {
      "text/html": [
       "<div>\n",
       "<style scoped>\n",
       "    .dataframe tbody tr th:only-of-type {\n",
       "        vertical-align: middle;\n",
       "    }\n",
       "\n",
       "    .dataframe tbody tr th {\n",
       "        vertical-align: top;\n",
       "    }\n",
       "\n",
       "    .dataframe thead th {\n",
       "        text-align: right;\n",
       "    }\n",
       "</style>\n",
       "<table border=\"1\" class=\"dataframe\">\n",
       "  <thead>\n",
       "    <tr style=\"text-align: right;\">\n",
       "      <th></th>\n",
       "      <th>Id</th>\n",
       "      <th>ResultId</th>\n",
       "      <th>NumberInKim</th>\n",
       "      <th>Mark</th>\n",
       "      <th>MaxMark</th>\n",
       "      <th>ClassifierId</th>\n",
       "      <th>Partition</th>\n",
       "    </tr>\n",
       "  </thead>\n",
       "  <tbody>\n",
       "    <tr>\n",
       "      <th>0</th>\n",
       "      <td>36837244</td>\n",
       "      <td>2369230</td>\n",
       "      <td>1</td>\n",
       "      <td>\\N</td>\n",
       "      <td>1.0</td>\n",
       "      <td>5206</td>\n",
       "      <td>1</td>\n",
       "    </tr>\n",
       "    <tr>\n",
       "      <th>1</th>\n",
       "      <td>36837245</td>\n",
       "      <td>2369230</td>\n",
       "      <td>2</td>\n",
       "      <td>\\N</td>\n",
       "      <td>1.0</td>\n",
       "      <td>10170</td>\n",
       "      <td>1</td>\n",
       "    </tr>\n",
       "    <tr>\n",
       "      <th>2</th>\n",
       "      <td>36837246</td>\n",
       "      <td>2369230</td>\n",
       "      <td>3</td>\n",
       "      <td>\\N</td>\n",
       "      <td>1.0</td>\n",
       "      <td>9822</td>\n",
       "      <td>1</td>\n",
       "    </tr>\n",
       "  </tbody>\n",
       "</table>\n",
       "</div>"
      ],
      "text/plain": [
       "         Id  ResultId  NumberInKim Mark  MaxMark ClassifierId  Partition\n",
       "0  36837244   2369230            1   \\N      1.0         5206          1\n",
       "1  36837245   2369230            2   \\N      1.0        10170          1\n",
       "2  36837246   2369230            3   \\N      1.0         9822          1"
      ]
     },
     "execution_count": 137,
     "metadata": {},
     "output_type": "execute_result"
    }
   ],
   "source": [
    "SelfDiagnosticResultDetails = pd.read_csv('SelfDiagnosticResultDetails.csv', sep=',')\n",
    "SelfDiagnosticResultDetails.head(3)"
   ]
  },
  {
   "cell_type": "code",
   "execution_count": 139,
   "metadata": {},
   "outputs": [
    {
     "data": {
      "text/html": [
       "<div>\n",
       "<style scoped>\n",
       "    .dataframe tbody tr th:only-of-type {\n",
       "        vertical-align: middle;\n",
       "    }\n",
       "\n",
       "    .dataframe tbody tr th {\n",
       "        vertical-align: top;\n",
       "    }\n",
       "\n",
       "    .dataframe thead th {\n",
       "        text-align: right;\n",
       "    }\n",
       "</style>\n",
       "<table border=\"1\" class=\"dataframe\">\n",
       "  <thead>\n",
       "    <tr style=\"text-align: right;\">\n",
       "      <th></th>\n",
       "      <th>Id</th>\n",
       "      <th>ParticipantId</th>\n",
       "      <th>StudentParallel</th>\n",
       "      <th>TestDate</th>\n",
       "      <th>Mark</th>\n",
       "      <th>MaxMark</th>\n",
       "      <th>SubjectId</th>\n",
       "      <th>Partition</th>\n",
       "    </tr>\n",
       "  </thead>\n",
       "  <tbody>\n",
       "    <tr>\n",
       "      <th>0</th>\n",
       "      <td>2369230</td>\n",
       "      <td>594F27DE-1479-476C-8CB6-A76EA1AB25C9</td>\n",
       "      <td>9</td>\n",
       "      <td>2019-09-01 00:03:20</td>\n",
       "      <td>0</td>\n",
       "      <td>10</td>\n",
       "      <td>27</td>\n",
       "      <td>1</td>\n",
       "    </tr>\n",
       "    <tr>\n",
       "      <th>1</th>\n",
       "      <td>2370235</td>\n",
       "      <td>C4285D8C-9B23-43C8-AECD-EC4271D48A59</td>\n",
       "      <td>10</td>\n",
       "      <td>2019-09-01 10:38:27</td>\n",
       "      <td>14</td>\n",
       "      <td>21</td>\n",
       "      <td>86</td>\n",
       "      <td>1</td>\n",
       "    </tr>\n",
       "    <tr>\n",
       "      <th>2</th>\n",
       "      <td>2375593</td>\n",
       "      <td>9B7CD84C-BEB9-492A-B878-49A4750D805B</td>\n",
       "      <td>9</td>\n",
       "      <td>2019-09-01 17:36:53</td>\n",
       "      <td>8</td>\n",
       "      <td>12</td>\n",
       "      <td>75</td>\n",
       "      <td>1</td>\n",
       "    </tr>\n",
       "  </tbody>\n",
       "</table>\n",
       "</div>"
      ],
      "text/plain": [
       "        Id                         ParticipantId  StudentParallel  \\\n",
       "0  2369230  594F27DE-1479-476C-8CB6-A76EA1AB25C9                9   \n",
       "1  2370235  C4285D8C-9B23-43C8-AECD-EC4271D48A59               10   \n",
       "2  2375593  9B7CD84C-BEB9-492A-B878-49A4750D805B                9   \n",
       "\n",
       "              TestDate Mark  MaxMark  SubjectId  Partition  \n",
       "0  2019-09-01 00:03:20    0       10         27          1  \n",
       "1  2019-09-01 10:38:27   14       21         86          1  \n",
       "2  2019-09-01 17:36:53    8       12         75          1  "
      ]
     },
     "execution_count": 139,
     "metadata": {},
     "output_type": "execute_result"
    }
   ],
   "source": [
    "SelfDiagnosticResults = pd.read_csv('SelfDiagnosticResults.csv', sep=',')\n",
    "SelfDiagnosticResults.head(3)"
   ]
  },
  {
   "cell_type": "code",
   "execution_count": 140,
   "metadata": {},
   "outputs": [
    {
     "data": {
      "text/html": [
       "<div>\n",
       "<style scoped>\n",
       "    .dataframe tbody tr th:only-of-type {\n",
       "        vertical-align: middle;\n",
       "    }\n",
       "\n",
       "    .dataframe tbody tr th {\n",
       "        vertical-align: top;\n",
       "    }\n",
       "\n",
       "    .dataframe thead th {\n",
       "        text-align: right;\n",
       "    }\n",
       "</style>\n",
       "<table border=\"1\" class=\"dataframe\">\n",
       "  <thead>\n",
       "    <tr style=\"text-align: right;\">\n",
       "      <th></th>\n",
       "      <th>Id</th>\n",
       "      <th>Name</th>\n",
       "    </tr>\n",
       "  </thead>\n",
       "  <tbody>\n",
       "    <tr>\n",
       "      <th>0</th>\n",
       "      <td>1</td>\n",
       "      <td>Академический класс</td>\n",
       "    </tr>\n",
       "    <tr>\n",
       "      <th>1</th>\n",
       "      <td>2</td>\n",
       "      <td>Академический профиль</td>\n",
       "    </tr>\n",
       "    <tr>\n",
       "      <th>2</th>\n",
       "      <td>3</td>\n",
       "      <td>Алгебра</td>\n",
       "    </tr>\n",
       "  </tbody>\n",
       "</table>\n",
       "</div>"
      ],
      "text/plain": [
       "   Id                   Name\n",
       "0   1    Академический класс\n",
       "1   2  Академический профиль\n",
       "2   3                Алгебра"
      ]
     },
     "execution_count": 140,
     "metadata": {},
     "output_type": "execute_result"
    }
   ],
   "source": [
    "SelfDiagnosticResults = pd.read_csv('Subjects.csv', sep=',')\n",
    "SelfDiagnosticResults.head(3)"
   ]
  },
  {
   "cell_type": "code",
   "execution_count": null,
   "metadata": {},
   "outputs": [],
   "source": []
  },
  {
   "cell_type": "code",
   "execution_count": null,
   "metadata": {},
   "outputs": [],
   "source": []
  }
 ],
 "metadata": {
  "finalized": {
   "timestamp": 1621676805559,
   "trusted": true
  },
  "kernelspec": {
   "display_name": "Python 3",
   "language": "python",
   "name": "python3"
  },
  "language_info": {
   "codemirror_mode": {
    "name": "ipython",
    "version": 3
   },
   "file_extension": ".py",
   "mimetype": "text/x-python",
   "name": "python",
   "nbconvert_exporter": "python",
   "pygments_lexer": "ipython3",
   "version": "3.8.5"
  },
  "toc": {
   "base_numbering": 1,
   "nav_menu": {},
   "number_sections": true,
   "sideBar": true,
   "skip_h1_title": false,
   "title_cell": "Table of Contents",
   "title_sidebar": "Contents",
   "toc_cell": false,
   "toc_position": {},
   "toc_section_display": true,
   "toc_window_display": false
  }
 },
 "nbformat": 4,
 "nbformat_minor": 4
}
